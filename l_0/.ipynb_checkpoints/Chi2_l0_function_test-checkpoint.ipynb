{
 "cells": [
  {
   "cell_type": "code",
   "execution_count": 1,
   "metadata": {},
   "outputs": [],
   "source": [
    "import numpy as np\n",
    "import matplotlib.pyplot as plt\n",
    "from scipy import optimize\n",
    "from scipy import integrate"
   ]
  },
  {
   "cell_type": "markdown",
   "metadata": {},
   "source": [
    "### Para $\\ell=0$ la condición inicial $\\phi_{0}$ no cambia y es $\\phi_{0} = 1$, por lo que los términos a ajustar serán $\\epsilon$ y $m_{a}$"
   ]
  },
  {
   "cell_type": "code",
   "execution_count": 2,
   "metadata": {},
   "outputs": [],
   "source": [
    "##Values\n",
    "####\n",
    "eps_ = 2.5e-4#sqrt(Vc2/8.95x10^10) in km/s\n",
    "m_a_ = 1.0e-22#eV/c^2\n",
    "#r_num = vecRp_data[-1]*eps*m_a/6.39e-27\n",
    "####\n",
    "##Integration values\n",
    "###\n",
    "x0_0 = 3.#first integration\n",
    "x0_0v1 = 0.01# Start of integration. Use 0.01 for continuity in l=3 solution, for 0,1,2 0.0 it's ok\n",
    "xf_0v1 = 10. # End of integration\n",
    "step_0 = 0.5#Take the first integration and sum step_0 until end of integration\n",
    "##l=0\n",
    "u1_0 = 0.63173215# 1st trial value of unknown init. cond.\n",
    "u2_0 = 1.28125868# 2nd trial value of unknown init. cond.\n",
    "u_0 = np.array([u1_0, u2_0])#array for shooting"
   ]
  },
  {
   "cell_type": "code",
   "execution_count": 3,
   "metadata": {},
   "outputs": [],
   "source": [
    "def Integrate(func,x0,y0,x,h):\n",
    "    # Finds value of y for a given x using step size h \n",
    "    # and initial value y0 at x0.\n",
    "    def RK4(func,x0,y0,h):\n",
    "        K0 = h*func(x0,y0)\n",
    "        K1 = h*func(x0 + 0.5*h, y0 + 0.5*K0)\n",
    "        K2 = h*func(x0 + 0.5*h, y0 + 0.5*K1)\n",
    "        K3 = h*func(x0 + h, y0 + K2)\n",
    "        return (K0 + 2.*K1 + 2.*K2 + K3)/6.\n",
    "    X = []\n",
    "    Y = []\n",
    "    X.append(x0)\n",
    "    Y.append(y0)\n",
    "    while x0 < x:\n",
    "         # Count number of iterations using step size or\n",
    "        h = min(h,x - x0)# step height h\n",
    "        y0 = y0 + RK4(func,x0,y0,h)#update next value of y\n",
    "        x0 = x0 + h#update next value of x\n",
    "        X.append(x0)\n",
    "        Y.append(y0)\n",
    "    return np.array(X),np.array(Y)"
   ]
  },
  {
   "cell_type": "code",
   "execution_count": 4,
   "metadata": {},
   "outputs": [],
   "source": [
    "def shooting(func,u,x0,x,xf,step,k,h=0.1):#cambié el paso de integración, h=0.01 es el recomendadop\n",
    "    def res(u):# Boundary condition residual\n",
    "        X,Y = Integrate(func,x0,IC(u,k),x,h)\n",
    "        y = Y[len(Y) - 1]#last value of Y\n",
    "        r = np.zeros(len(u))\n",
    "        r[0] = y[0]#y0(inf)=0\n",
    "        r[1] = y[2]/x + y[3]#y_3(inf)/r + y_4(inf)=0\n",
    "        return r\n",
    "    x_list = []\n",
    "    root_list = []\n",
    "    while x<=xf:\n",
    "        #print(\"x=\",x)\n",
    "        x_list.append(x)\n",
    "        #print(\"u=\",u)\n",
    "        root = optimize.root(res,u)\n",
    "        #print(\"root=\",root)\n",
    "        u = root.x\n",
    "        #print(\"u=\",u)\n",
    "        root_temp = optimize.root(res,root.x)\n",
    "        #print(\"root_temp=\",root_temp)\n",
    "        root_list.append(root_temp.x)\n",
    "        X,Y = Integrate(func,x0,IC(root_temp.x,k),x,h)\n",
    "        x = x+step\n",
    "    return X,Y,root_temp,np.array(x_list),np.array(root_list)"
   ]
  },
  {
   "cell_type": "code",
   "execution_count": 5,
   "metadata": {},
   "outputs": [],
   "source": [
    "def IC(u,k):#Initial conditions array, the first correspond to the initial condition in phi\n",
    "    return np.array([k,0.0,u[0],0.0,u[1]])"
   ]
  },
  {
   "cell_type": "code",
   "execution_count": 6,
   "metadata": {},
   "outputs": [],
   "source": [
    "def f0(x,y):\n",
    "    l = 0.\n",
    "    F = np.zeros(5)\n",
    "    if x==0:\n",
    "        F[0] = y[1]\n",
    "        F[1] = 2.*y[0]*(y[2]-y[4])\n",
    "        F[2] = y[3]\n",
    "        F[3] = 0.\n",
    "        F[4] = 0.\n",
    "    else:\n",
    "        F[0] = y[1]\n",
    "        F[1] = -2.*(l+1.)*y[1]/x +2.*y[0]*(y[2]-y[4])\n",
    "        F[2] = y[3]\n",
    "        F[3] = (2.*l+1.)*x**(2.*l)*y[0]**2. - 2.*y[3]/x\n",
    "        F[4] = 0.\n",
    "    return F"
   ]
  },
  {
   "cell_type": "code",
   "execution_count": 7,
   "metadata": {},
   "outputs": [],
   "source": [
    "def Mass_func(r,phi,l):\n",
    "    Int = np.zeros(len(r))\n",
    "    dr = np.diff(r)[0]\n",
    "    phi_array = np.array(phi[:,0])\n",
    "    for i in range(0,len(r)-1):\n",
    "        Int[i+1] = dr*(phi_array[i+1]**2.*r[i+1]**(2.*l+2.)) + Int[i]\n",
    "    return Int"
   ]
  },
  {
   "cell_type": "code",
   "execution_count": 8,
   "metadata": {},
   "outputs": [],
   "source": [
    "def Vc2_cir(r,eps,M):\n",
    "    units =7.16e9*eps**2.\n",
    "    return (units*M)/r\n",
    "####\n",
    "##Units for r in kpc\n",
    "###\n",
    "def r_units(r,eps,m_a):\n",
    "    return (6.39e-27*r)/(eps*m_a)"
   ]
  },
  {
   "cell_type": "code",
   "execution_count": 9,
   "metadata": {},
   "outputs": [],
   "source": [
    "X0_f,Y0_f,root0_f,arr_x0,arr_list0=shooting(f0,u_0,x0_0v1,x0_0,xf_0v1,step_0,k=1.)"
   ]
  },
  {
   "cell_type": "code",
   "execution_count": 10,
   "metadata": {},
   "outputs": [],
   "source": [
    "M_r0 = Mass_func(X0_f,Y0_f,l=0.)\n",
    "Vc2_r0 = Vc2_cir(X0_f,eps_,M_r0)\n",
    "X0_units = r_units(X0_f,eps_,m_a_)"
   ]
  },
  {
   "cell_type": "code",
   "execution_count": 11,
   "metadata": {},
   "outputs": [],
   "source": [
    "def Mass_func_units(r,phi,l):\n",
    "    Int = np.zeros(len(r))\n",
    "    dr = np.diff(r)[0]\n",
    "    phi_array = np.array(phi[:,0])\n",
    "    for i in range(0,len(r)-1):\n",
    "        Int[i+1] = dr*(phi_array[i+1]**2.*r[i+1]**(2.*l+2.))+ Int[i]\n",
    "    return Int"
   ]
  },
  {
   "cell_type": "code",
   "execution_count": 12,
   "metadata": {},
   "outputs": [
    {
     "data": {
      "text/plain": [
       "Text(0.5, 1.0, 'Mass function')"
      ]
     },
     "execution_count": 12,
     "metadata": {},
     "output_type": "execute_result"
    },
    {
     "data": {
      "image/png": "[encoded data removed]",
      "text/plain": [
       "<Figure size 432x288 with 1 Axes>"
      ]
     },
     "metadata": {
      "needs_background": "light"
     },
     "output_type": "display_data"
    }
   ],
   "source": [
    "plt.plot(X0_units,M_r0*eps_*1.34e-10/m_a_)\n",
    "plt.ylabel(r'M(r)[M$_{\\odot}]$')\n",
    "plt.xlabel(\"r[kpc]\")\n",
    "plt.title('Mass function')"
   ]
  },
  {
   "cell_type": "code",
   "execution_count": 13,
   "metadata": {},
   "outputs": [
    {
     "data": {
      "text/plain": [
       "Text(0.5, 1.0, 'Circular speed')"
      ]
     },
     "execution_count": 13,
     "metadata": {},
     "output_type": "execute_result"
    },
    {
     "data": {
      "image/png": "[encoded data removed]",
      "text/plain": [
       "<Figure size 432x288 with 1 Axes>"
      ]
     },
     "metadata": {
      "needs_background": "light"
     },
     "output_type": "display_data"
    }
   ],
   "source": [
    "plt.plot(X0_units,np.sqrt(Vc2_r0))\n",
    "plt.ylabel(r'$v_{c}(r)$[km/s]')\n",
    "plt.xlabel(\"r[kpc]\")\n",
    "plt.title('Circular speed')"
   ]
  },
  {
   "cell_type": "code",
   "execution_count": 14,
   "metadata": {},
   "outputs": [],
   "source": [
    "def r_wout_units(r_kpc,eps,m_a):\n",
    "    return (eps*m_a*r_kpc/6.39e-27)#/rescaling(phi0_0,l=0.)"
   ]
  },
  {
   "cell_type": "code",
   "execution_count": 15,
   "metadata": {},
   "outputs": [
    {
     "data": {
      "text/plain": [
       "11.5"
      ]
     },
     "execution_count": 15,
     "metadata": {},
     "output_type": "execute_result"
    }
   ],
   "source": [
    "r_wout_units(r_kpc = X0_units[-1],eps=eps_,m_a = m_a_) + r_wout_units(r_kpc = X0_units[-1],eps=eps_,m_a = m_a_)*0.15"
   ]
  },
  {
   "cell_type": "code",
   "execution_count": 16,
   "metadata": {},
   "outputs": [
    {
     "name": "stdout",
     "output_type": "stream",
     "text": [
      "10.0\n"
     ]
    },
    {
     "name": "stderr",
     "output_type": "stream",
     "text": [
      "/Users/atalianb/miniconda3/envs/py37/lib/python3.7/site-packages/ipykernel_launcher.py:2: DeprecationWarning: np.asscalar(a) is deprecated since NumPy v1.16, use a.item() instead\n",
      "  \n"
     ]
    }
   ],
   "source": [
    "r_num = r_wout_units(r_kpc = X0_units,eps=eps_,m_a = m_a_)\n",
    "print(np.asscalar(r_num[-1]))"
   ]
  },
  {
   "cell_type": "code",
   "execution_count": 17,
   "metadata": {},
   "outputs": [],
   "source": [
    "def Vc2_l0(r,m_a,eps,l=0.):\n",
    "    r_num = r_wout_units(r_kpc = r,eps=eps_,m_a = m_a_)\n",
    "    #print(r_num[-1])\n",
    "    X0,Y0,root0_f,arr_x0,arr_list0=shooting(f0,u_0,x0_0v1,x0_0,xf_0v1,step_0,k=1.)\n",
    "    M_r0 = Mass_func(r_num,Y0,l=0.)\n",
    "    Vc2_r0 = Vc2_cir(r_num,eps,M_r0)\n",
    "    X0_units = r_units(r_num,eps,m_a)\n",
    "    return np.sqrt(Vc2_r0)"
   ]
  },
  {
   "cell_type": "code",
   "execution_count": 18,
   "metadata": {},
   "outputs": [
    {
     "name": "stderr",
     "output_type": "stream",
     "text": [
      "/Users/atalianb/miniconda3/envs/py37/lib/python3.7/site-packages/ipykernel_launcher.py:4: DeprecationWarning: np.asscalar(a) is deprecated since NumPy v1.16, use a.item() instead\n",
      "  after removing the cwd from sys.path.\n"
     ]
    }
   ],
   "source": [
    "Vc2_l0_test = Vc2_l0(r=X0_units,m_a=m_a_,eps=eps_)"
   ]
  },
  {
   "cell_type": "code",
   "execution_count": 19,
   "metadata": {},
   "outputs": [
    {
     "data": {
      "text/plain": [
       "[<matplotlib.lines.Line2D at 0x7fe40b69aa50>]"
      ]
     },
     "execution_count": 19,
     "metadata": {},
     "output_type": "execute_result"
    },
    {
     "data": {
      "image/png": "[encoded data removed]",
      "text/plain": [
       "<Figure size 432x288 with 1 Axes>"
      ]
     },
     "metadata": {
      "needs_background": "light"
     },
     "output_type": "display_data"
    }
   ],
   "source": [
    "plt.plot(X0_units,Vc2_l0_test)\n",
    "plt.plot(X0_units,np.sqrt(Vc2_r0))"
   ]
  },
  {
   "cell_type": "markdown",
   "metadata": {},
   "source": [
    "# con r[kpc] de los datos"
   ]
  },
  {
   "cell_type": "code",
   "execution_count": 20,
   "metadata": {},
   "outputs": [],
   "source": [
    "path = \"/Users/atalianb/Documents/data_LBSG/LSBG/LSBG/\"\n",
    "data = np.loadtxt(path+\"F563-V2_rotmod.dat\")"
   ]
  },
  {
   "cell_type": "code",
   "execution_count": 21,
   "metadata": {},
   "outputs": [],
   "source": [
    "vecRp_data = np.array([row[0] for row in data])# galactocentric distance [kpc]\n",
    "vecvRp_data = np.array([row[1] for row in data])# rotation velocity [km/s]\n",
    "vecerrvRp_data = np.array([row[2] for row in data])# error in rotation velocity [km/s]"
   ]
  },
  {
   "cell_type": "code",
   "execution_count": 22,
   "metadata": {},
   "outputs": [
    {
     "data": {
      "text/plain": [
       "Text(0.5, 0, 'r[kpc]')"
      ]
     },
     "execution_count": 22,
     "metadata": {},
     "output_type": "execute_result"
    },
    {
     "data": {
      "image/png": "[encoded data removed]",
      "text/plain": [
       "<Figure size 432x288 with 1 Axes>"
      ]
     },
     "metadata": {
      "needs_background": "light"
     },
     "output_type": "display_data"
    }
   ],
   "source": [
    "plt.errorbar(vecRp_data,vecvRp_data,yerr=vecerrvRp_data,fmt='.')\n",
    "plt.ylabel(r'$v_{c}(r)$[km/s]')\n",
    "plt.xlabel(\"r[kpc]\")"
   ]
  },
  {
   "cell_type": "markdown",
   "metadata": {},
   "source": [
    "# Interpolación"
   ]
  },
  {
   "cell_type": "code",
   "execution_count": 23,
   "metadata": {},
   "outputs": [],
   "source": [
    "from scipy import interpolate"
   ]
  },
  {
   "cell_type": "code",
   "execution_count": 24,
   "metadata": {},
   "outputs": [],
   "source": [
    "f = interpolate.interp1d(vecRp_data,vecvRp_data)\n",
    "vecRp_data_new = np.arange(vecRp_data[0],vecRp_data[-1],0.1)\n",
    "vecvRp_data_new = f(vecRp_data_new)"
   ]
  },
  {
   "cell_type": "code",
   "execution_count": 25,
   "metadata": {},
   "outputs": [
    {
     "data": {
      "text/plain": [
       "Text(0.5, 0, 'r[kpc]')"
      ]
     },
     "execution_count": 25,
     "metadata": {},
     "output_type": "execute_result"
    },
    {
     "data": {
      "image/png": "[encoded data removed]",
      "text/plain": [
       "<Figure size 432x288 with 1 Axes>"
      ]
     },
     "metadata": {
      "needs_background": "light"
     },
     "output_type": "display_data"
    }
   ],
   "source": [
    "plt.errorbar(vecRp_data,vecvRp_data,yerr=vecerrvRp_data,fmt='.')\n",
    "plt.plot(vecRp_data_new,vecvRp_data_new)\n",
    "plt.ylabel(r'$v_{c}(r)$[km/s]')\n",
    "plt.xlabel(\"r[kpc]\")"
   ]
  },
  {
   "cell_type": "code",
   "execution_count": 26,
   "metadata": {},
   "outputs": [
    {
     "data": {
      "text/plain": [
       "(102, 102)"
      ]
     },
     "execution_count": 26,
     "metadata": {},
     "output_type": "execute_result"
    }
   ],
   "source": [
    "len(vecRp_data_new),len(vecvRp_data_new)"
   ]
  },
  {
   "cell_type": "markdown",
   "metadata": {},
   "source": [
    "# $\\chi^{2}$"
   ]
  },
  {
   "cell_type": "code",
   "execution_count": 27,
   "metadata": {},
   "outputs": [],
   "source": [
    "def Xi2_eps(parameter):\n",
    "    eps = np.exp(parameter)\n",
    "    model = Vc2_l0(vecRp_data,m_a_,eps,l=0.)\n",
    "    xi = np.sum((vecvRp_data-model)**2./(vecerrvRp_data)**2.)\n",
    "    return xi"
   ]
  },
  {
   "cell_type": "code",
   "execution_count": 28,
   "metadata": {},
   "outputs": [
    {
     "data": {
      "text/plain": [
       "-11.512925464970229"
      ]
     },
     "execution_count": 28,
     "metadata": {},
     "output_type": "execute_result"
    }
   ],
   "source": [
    "np.log(1.0e-5)"
   ]
  },
  {
   "cell_type": "code",
   "execution_count": 29,
   "metadata": {},
   "outputs": [
    {
     "name": "stderr",
     "output_type": "stream",
     "text": [
      "/Users/atalianb/miniconda3/envs/py37/lib/python3.7/site-packages/ipykernel_launcher.py:4: DeprecationWarning: np.asscalar(a) is deprecated since NumPy v1.16, use a.item() instead\n",
      "  after removing the cwd from sys.path.\n",
      "/Users/atalianb/miniconda3/envs/py37/lib/python3.7/site-packages/ipykernel_launcher.py:12: RuntimeWarning: overflow encountered in double_scalars\n",
      "  if sys.path[0] == '':\n",
      "/Users/atalianb/miniconda3/envs/py37/lib/python3.7/site-packages/ipykernel_launcher.py:14: RuntimeWarning: overflow encountered in double_scalars\n",
      "  \n",
      "/Users/atalianb/miniconda3/envs/py37/lib/python3.7/site-packages/ipykernel_launcher.py:12: RuntimeWarning: invalid value encountered in double_scalars\n",
      "  if sys.path[0] == '':\n",
      "/Users/atalianb/miniconda3/envs/py37/lib/python3.7/site-packages/ipykernel_launcher.py:14: RuntimeWarning: invalid value encountered in double_scalars\n",
      "  \n"
     ]
    },
    {
     "name": "stdout",
     "output_type": "stream",
     "text": [
      "      fun: 18.06139868794989\n",
      " hess_inv: <1x1 LbfgsInvHessProduct with dtype=float64>\n",
      "      jac: array([0.])\n",
      "  message: b'CONVERGENCE: NORM_OF_PROJECTED_GRADIENT_<=_PGTOL'\n",
      "     nfev: 20\n",
      "      nit: 6\n",
      "     njev: 10\n",
      "   status: 0\n",
      "  success: True\n",
      "        x: array([-8.84824236])\n"
     ]
    }
   ],
   "source": [
    "x0_eps = np.array(np.log(1.0e-4))\n",
    "LS_eps = optimize.minimize(Xi2_eps,x0_eps,method='L-BFGS-B',bounds=((np.log(1.0e-5),np.log(1.0e-3)),))\n",
    "print(LS_eps)"
   ]
  },
  {
   "cell_type": "code",
   "execution_count": 30,
   "metadata": {},
   "outputs": [
    {
     "name": "stdout",
     "output_type": "stream",
     "text": [
      "[0.00014363]\n"
     ]
    }
   ],
   "source": [
    "print(np.exp(LS_eps.x))"
   ]
  },
  {
   "cell_type": "code",
   "execution_count": 31,
   "metadata": {},
   "outputs": [
    {
     "name": "stderr",
     "output_type": "stream",
     "text": [
      "/Users/atalianb/miniconda3/envs/py37/lib/python3.7/site-packages/ipykernel_launcher.py:1: DeprecationWarning: np.asscalar(a) is deprecated since NumPy v1.16, use a.item() instead\n",
      "  \"\"\"Entry point for launching an IPython kernel.\n",
      "/Users/atalianb/miniconda3/envs/py37/lib/python3.7/site-packages/ipykernel_launcher.py:4: DeprecationWarning: np.asscalar(a) is deprecated since NumPy v1.16, use a.item() instead\n",
      "  after removing the cwd from sys.path.\n",
      "/Users/atalianb/miniconda3/envs/py37/lib/python3.7/site-packages/ipykernel_launcher.py:12: RuntimeWarning: overflow encountered in double_scalars\n",
      "  if sys.path[0] == '':\n",
      "/Users/atalianb/miniconda3/envs/py37/lib/python3.7/site-packages/ipykernel_launcher.py:14: RuntimeWarning: overflow encountered in double_scalars\n",
      "  \n",
      "/Users/atalianb/miniconda3/envs/py37/lib/python3.7/site-packages/ipykernel_launcher.py:12: RuntimeWarning: invalid value encountered in double_scalars\n",
      "  if sys.path[0] == '':\n",
      "/Users/atalianb/miniconda3/envs/py37/lib/python3.7/site-packages/ipykernel_launcher.py:14: RuntimeWarning: invalid value encountered in double_scalars\n",
      "  \n"
     ]
    },
    {
     "data": {
      "text/plain": [
       "Text(0.5, 1.0, '$\\\\epsilon$')"
      ]
     },
     "execution_count": 31,
     "metadata": {},
     "output_type": "execute_result"
    },
    {
     "data": {
      "image/png": "[encoded data removed]",
      "text/plain": [
       "<Figure size 432x288 with 1 Axes>"
      ]
     },
     "metadata": {
      "needs_background": "light"
     },
     "output_type": "display_data"
    }
   ],
   "source": [
    "plt.plot(vecRp_data_new,Vc2_l0(vecRp_data_new,m_a=m_a_,eps=np.asscalar(np.exp(LS_eps.x))))\n",
    "plt.errorbar(vecRp_data,vecvRp_data,yerr=vecerrvRp_data,fmt='.')\n",
    "plt.ylabel(r'$v_{c}(r)$[km/s]')\n",
    "plt.xlabel(\"r[kpc]\")\n",
    "plt.title(r'$\\epsilon$')"
   ]
  },
  {
   "cell_type": "code",
   "execution_count": 32,
   "metadata": {},
   "outputs": [
    {
     "name": "stderr",
     "output_type": "stream",
     "text": [
      "/Users/atalianb/miniconda3/envs/py37/lib/python3.7/site-packages/ipykernel_launcher.py:4: DeprecationWarning: np.asscalar(a) is deprecated since NumPy v1.16, use a.item() instead\n",
      "  after removing the cwd from sys.path.\n"
     ]
    },
    {
     "data": {
      "text/plain": [
       "<ErrorbarContainer object of 3 artists>"
      ]
     },
     "execution_count": 32,
     "metadata": {},
     "output_type": "execute_result"
    },
    {
     "data": {
      "image/png": "[encoded data removed]",
      "text/plain": [
       "<Figure size 432x288 with 1 Axes>"
      ]
     },
     "metadata": {
      "needs_background": "light"
     },
     "output_type": "display_data"
    }
   ],
   "source": [
    "plt.plot(X0_units,Vc2_l0(X0_units,m_a=m_a_,eps=0.00014363))\n",
    "plt.errorbar(vecRp_data,vecvRp_data,yerr=vecerrvRp_data,fmt='.')"
   ]
  },
  {
   "cell_type": "markdown",
   "metadata": {},
   "source": [
    "# Con otros datasets "
   ]
  },
  {
   "cell_type": "markdown",
   "metadata": {},
   "source": [
    "F568-3_rotmod.dat"
   ]
  },
  {
   "cell_type": "code",
   "execution_count": 33,
   "metadata": {},
   "outputs": [],
   "source": [
    "F568 = np.loadtxt(path+\"F568-3_rotmod.dat\")"
   ]
  },
  {
   "cell_type": "code",
   "execution_count": 34,
   "metadata": {},
   "outputs": [],
   "source": [
    "vecRp_F568 = np.array([row[0] for row in F568])# galactocentric distance [kpc]\n",
    "vecvRp_F568 = np.array([row[1] for row in F568])# rotation velocity [km/s]\n",
    "vecerrvRp_F568 = np.array([row[2] for row in F568])# error in rotation velocity [km/s]"
   ]
  },
  {
   "cell_type": "code",
   "execution_count": 35,
   "metadata": {},
   "outputs": [
    {
     "data": {
      "text/plain": [
       "<matplotlib.legend.Legend at 0x7fe40bf4e150>"
      ]
     },
     "execution_count": 35,
     "metadata": {},
     "output_type": "execute_result"
    },
    {
     "data": {
      "image/png": "[encoded data removed]",
      "text/plain": [
       "<Figure size 432x288 with 1 Axes>"
      ]
     },
     "metadata": {
      "needs_background": "light"
     },
     "output_type": "display_data"
    }
   ],
   "source": [
    "plt.errorbar(vecRp_F568,vecvRp_F568,yerr=vecerrvRp_F568,fmt='.',label='F568')\n",
    "plt.ylabel(r'$v_{c}(r)$[km/s]')\n",
    "plt.xlabel(\"r[kpc]\")\n",
    "plt.title('F568-3_rotmod.dat')\n",
    "plt.legend(loc='lower right', prop={'size':10})"
   ]
  },
  {
   "cell_type": "code",
   "execution_count": 45,
   "metadata": {},
   "outputs": [],
   "source": [
    "f_F568 = interpolate.interp1d(vecRp_F568,vecvRp_F568)\n",
    "vecRp_F568_new = np.arange(vecRp_F568[0],vecRp_F568[-1],0.1)\n",
    "vecvRp_F568_new = f_F568(vecRp_F568_new)"
   ]
  },
  {
   "cell_type": "code",
   "execution_count": 46,
   "metadata": {},
   "outputs": [
    {
     "data": {
      "text/plain": [
       "Text(0.5, 0, 'r[kpc]')"
      ]
     },
     "execution_count": 46,
     "metadata": {},
     "output_type": "execute_result"
    },
    {
     "data": {
      "image/png": "[encoded data removed]",
      "text/plain": [
       "<Figure size 432x288 with 1 Axes>"
      ]
     },
     "metadata": {
      "needs_background": "light"
     },
     "output_type": "display_data"
    }
   ],
   "source": [
    "plt.errorbar(vecRp_F568,vecvRp_F568,yerr=vecerrvRp_F568,fmt='.')\n",
    "plt.plot(vecRp_F568_new,vecvRp_F568_new)\n",
    "plt.ylabel(r'$v_{c}(r)$[km/s]')\n",
    "plt.xlabel(\"r[kpc]\")"
   ]
  },
  {
   "cell_type": "code",
   "execution_count": 47,
   "metadata": {},
   "outputs": [],
   "source": [
    "def Xi2_eps_F568(parameter):\n",
    "    eps = np.exp(parameter)\n",
    "    model = Vc2_l0(vecRp_F568,m_a_,eps,l=0.)\n",
    "    xi = np.sum((vecvRp_F568-model)**2./(vecerrvRp_F568)**2.)\n",
    "    return xi"
   ]
  },
  {
   "cell_type": "code",
   "execution_count": 49,
   "metadata": {},
   "outputs": [
    {
     "name": "stderr",
     "output_type": "stream",
     "text": [
      "/Users/atalianb/miniconda3/envs/py37/lib/python3.7/site-packages/ipykernel_launcher.py:4: DeprecationWarning: np.asscalar(a) is deprecated since NumPy v1.16, use a.item() instead\n",
      "  after removing the cwd from sys.path.\n",
      "/Users/atalianb/miniconda3/envs/py37/lib/python3.7/site-packages/ipykernel_launcher.py:12: RuntimeWarning: overflow encountered in double_scalars\n",
      "  if sys.path[0] == '':\n",
      "/Users/atalianb/miniconda3/envs/py37/lib/python3.7/site-packages/ipykernel_launcher.py:14: RuntimeWarning: overflow encountered in double_scalars\n",
      "  \n",
      "/Users/atalianb/miniconda3/envs/py37/lib/python3.7/site-packages/ipykernel_launcher.py:12: RuntimeWarning: invalid value encountered in double_scalars\n",
      "  if sys.path[0] == '':\n",
      "/Users/atalianb/miniconda3/envs/py37/lib/python3.7/site-packages/ipykernel_launcher.py:14: RuntimeWarning: invalid value encountered in double_scalars\n",
      "  \n"
     ]
    },
    {
     "name": "stdout",
     "output_type": "stream",
     "text": [
      "      fun: 5.714305057211817\n",
      " hess_inv: <1x1 LbfgsInvHessProduct with dtype=float64>\n",
      "      jac: array([2.42472689e-05])\n",
      "  message: b'CONVERGENCE: REL_REDUCTION_OF_F_<=_FACTR*EPSMCH'\n",
      "     nfev: 20\n",
      "      nit: 7\n",
      "     njev: 10\n",
      "   status: 0\n",
      "  success: True\n",
      "        x: array([-9.3594432])\n"
     ]
    }
   ],
   "source": [
    "x0_eps_F568 = np.array(np.log(1.0e-4))\n",
    "LS_eps_F568 = optimize.minimize(Xi2_eps_F568,x0_eps_F568,method='L-BFGS-B',bounds=((np.log(1.0e-5),np.log(1.0e-3)),))\n",
    "print(LS_eps_F568)"
   ]
  },
  {
   "cell_type": "code",
   "execution_count": 50,
   "metadata": {},
   "outputs": [
    {
     "name": "stdout",
     "output_type": "stream",
     "text": [
      "[8.61480529e-05]\n"
     ]
    }
   ],
   "source": [
    "print(np.exp(LS_eps_F568.x))"
   ]
  },
  {
   "cell_type": "code",
   "execution_count": 51,
   "metadata": {},
   "outputs": [
    {
     "name": "stderr",
     "output_type": "stream",
     "text": [
      "/Users/atalianb/miniconda3/envs/py37/lib/python3.7/site-packages/ipykernel_launcher.py:1: DeprecationWarning: np.asscalar(a) is deprecated since NumPy v1.16, use a.item() instead\n",
      "  \"\"\"Entry point for launching an IPython kernel.\n",
      "/Users/atalianb/miniconda3/envs/py37/lib/python3.7/site-packages/ipykernel_launcher.py:4: DeprecationWarning: np.asscalar(a) is deprecated since NumPy v1.16, use a.item() instead\n",
      "  after removing the cwd from sys.path.\n",
      "/Users/atalianb/miniconda3/envs/py37/lib/python3.7/site-packages/ipykernel_launcher.py:12: RuntimeWarning: overflow encountered in double_scalars\n",
      "  if sys.path[0] == '':\n",
      "/Users/atalianb/miniconda3/envs/py37/lib/python3.7/site-packages/ipykernel_launcher.py:14: RuntimeWarning: overflow encountered in double_scalars\n",
      "  \n",
      "/Users/atalianb/miniconda3/envs/py37/lib/python3.7/site-packages/ipykernel_launcher.py:12: RuntimeWarning: invalid value encountered in double_scalars\n",
      "  if sys.path[0] == '':\n",
      "/Users/atalianb/miniconda3/envs/py37/lib/python3.7/site-packages/ipykernel_launcher.py:14: RuntimeWarning: invalid value encountered in double_scalars\n",
      "  \n"
     ]
    },
    {
     "data": {
      "text/plain": [
       "Text(0.5, 1.0, '$\\\\epsilon$')"
      ]
     },
     "execution_count": 51,
     "metadata": {},
     "output_type": "execute_result"
    },
    {
     "data": {
      "image/png": "[encoded data removed]",
      "text/plain": [
       "<Figure size 432x288 with 1 Axes>"
      ]
     },
     "metadata": {
      "needs_background": "light"
     },
     "output_type": "display_data"
    }
   ],
   "source": [
    "plt.plot(vecRp_F568_new,Vc2_l0(vecRp_F568_new,m_a=m_a_,eps=np.asscalar(np.exp(LS_eps_F568.x))))\n",
    "plt.errorbar(vecRp_F568,vecvRp_F568,yerr=vecerrvRp_F568,fmt='.')\n",
    "plt.ylabel(r'$v_{c}(r)$[km/s]')\n",
    "plt.xlabel(\"r[kpc]\")\n",
    "plt.title(r'$\\epsilon$')"
   ]
  },
  {
   "cell_type": "markdown",
   "metadata": {},
   "source": [
    "F571"
   ]
  },
  {
   "cell_type": "code",
   "execution_count": 36,
   "metadata": {},
   "outputs": [],
   "source": [
    "F571 = np.loadtxt(path+\"F571-V1_rotmod.dat\")"
   ]
  },
  {
   "cell_type": "code",
   "execution_count": 37,
   "metadata": {},
   "outputs": [],
   "source": [
    "vecRp_F571 = np.array([row[0] for row in F571])# galactocentric distance [kpc]\n",
    "vecvRp_F571 = np.array([row[1] for row in F571])# rotation velocity [km/s]\n",
    "vecerrvRp_F571 = np.array([row[2] for row in F571])# error in rotation velocity [km/s]"
   ]
  },
  {
   "cell_type": "code",
   "execution_count": 38,
   "metadata": {},
   "outputs": [
    {
     "data": {
      "text/plain": [
       "<matplotlib.legend.Legend at 0x7fe40c04ca50>"
      ]
     },
     "execution_count": 38,
     "metadata": {},
     "output_type": "execute_result"
    },
    {
     "data": {
      "image/png": "[encoded data removed]",
      "text/plain": [
       "<Figure size 432x288 with 1 Axes>"
      ]
     },
     "metadata": {
      "needs_background": "light"
     },
     "output_type": "display_data"
    }
   ],
   "source": [
    "plt.errorbar(vecRp_F571,vecvRp_F571,yerr=vecerrvRp_F571,fmt='.',label='F571')\n",
    "plt.ylabel(r'$v_{c}(r)$[km/s]')\n",
    "plt.xlabel(\"r[kpc]\")\n",
    "plt.title('F571-V1_rotmod.dat')\n",
    "plt.legend(loc='lower right', prop={'size':10})"
   ]
  },
  {
   "cell_type": "code",
   "execution_count": 58,
   "metadata": {},
   "outputs": [],
   "source": [
    "f_F571 = interpolate.interp1d(vecRp_F571,vecvRp_F571)\n",
    "vecRp_F571_new = np.arange(vecRp_F571[0],vecRp_F571[-1],0.1)\n",
    "vecvRp_F571_new = f_F571(vecRp_F571_new)"
   ]
  },
  {
   "cell_type": "code",
   "execution_count": 59,
   "metadata": {},
   "outputs": [
    {
     "data": {
      "text/plain": [
       "Text(0.5, 0, 'r[kpc]')"
      ]
     },
     "execution_count": 59,
     "metadata": {},
     "output_type": "execute_result"
    },
    {
     "data": {
      "image/png": "[encoded data removed]",
      "text/plain": [
       "<Figure size 432x288 with 1 Axes>"
      ]
     },
     "metadata": {
      "needs_background": "light"
     },
     "output_type": "display_data"
    }
   ],
   "source": [
    "plt.errorbar(vecRp_F571,vecvRp_F571,yerr=vecerrvRp_F571,fmt='.')\n",
    "plt.plot(vecRp_F571_new,vecvRp_F571_new)\n",
    "plt.ylabel(r'$v_{c}(r)$[km/s]')\n",
    "plt.xlabel(\"r[kpc]\")"
   ]
  },
  {
   "cell_type": "code",
   "execution_count": 53,
   "metadata": {},
   "outputs": [],
   "source": [
    "def Xi2_eps_F571(parameter):\n",
    "    eps = np.exp(parameter)\n",
    "    model = Vc2_l0(vecRp_F571,m_a_,eps,l=0.)\n",
    "    xi = np.sum((vecvRp_F571-model)**2./(vecerrvRp_F571)**2.)\n",
    "    return xi"
   ]
  },
  {
   "cell_type": "code",
   "execution_count": 54,
   "metadata": {},
   "outputs": [
    {
     "name": "stderr",
     "output_type": "stream",
     "text": [
      "/Users/atalianb/miniconda3/envs/py37/lib/python3.7/site-packages/ipykernel_launcher.py:4: DeprecationWarning: np.asscalar(a) is deprecated since NumPy v1.16, use a.item() instead\n",
      "  after removing the cwd from sys.path.\n",
      "/Users/atalianb/miniconda3/envs/py37/lib/python3.7/site-packages/ipykernel_launcher.py:12: RuntimeWarning: overflow encountered in double_scalars\n",
      "  if sys.path[0] == '':\n",
      "/Users/atalianb/miniconda3/envs/py37/lib/python3.7/site-packages/ipykernel_launcher.py:14: RuntimeWarning: overflow encountered in double_scalars\n",
      "  \n",
      "/Users/atalianb/miniconda3/envs/py37/lib/python3.7/site-packages/ipykernel_launcher.py:12: RuntimeWarning: invalid value encountered in double_scalars\n",
      "  if sys.path[0] == '':\n",
      "/Users/atalianb/miniconda3/envs/py37/lib/python3.7/site-packages/ipykernel_launcher.py:14: RuntimeWarning: invalid value encountered in double_scalars\n",
      "  \n"
     ]
    },
    {
     "name": "stdout",
     "output_type": "stream",
     "text": [
      "      fun: 40.579971662622725\n",
      " hess_inv: <1x1 LbfgsInvHessProduct with dtype=float64>\n",
      "      jac: array([1.42108535e-06])\n",
      "  message: b'CONVERGENCE: NORM_OF_PROJECTED_GRADIENT_<=_PGTOL'\n",
      "     nfev: 32\n",
      "      nit: 8\n",
      "     njev: 16\n",
      "   status: 0\n",
      "  success: True\n",
      "        x: array([-10.18986195])\n"
     ]
    }
   ],
   "source": [
    "x0_eps_F571 = np.array(np.log(1.0e-4))\n",
    "LS_eps_F571 = optimize.minimize(Xi2_eps_F571,x0_eps_F571,method='L-BFGS-B',bounds=((np.log(1.0e-5),np.log(1.0e-3)),))\n",
    "print(LS_eps_F571)"
   ]
  },
  {
   "cell_type": "code",
   "execution_count": 55,
   "metadata": {},
   "outputs": [
    {
     "name": "stdout",
     "output_type": "stream",
     "text": [
      "[3.75490699e-05]\n"
     ]
    }
   ],
   "source": [
    "print(np.exp(LS_eps_F571.x))"
   ]
  },
  {
   "cell_type": "code",
   "execution_count": 60,
   "metadata": {},
   "outputs": [
    {
     "name": "stderr",
     "output_type": "stream",
     "text": [
      "/Users/atalianb/miniconda3/envs/py37/lib/python3.7/site-packages/ipykernel_launcher.py:1: DeprecationWarning: np.asscalar(a) is deprecated since NumPy v1.16, use a.item() instead\n",
      "  \"\"\"Entry point for launching an IPython kernel.\n",
      "/Users/atalianb/miniconda3/envs/py37/lib/python3.7/site-packages/ipykernel_launcher.py:4: DeprecationWarning: np.asscalar(a) is deprecated since NumPy v1.16, use a.item() instead\n",
      "  after removing the cwd from sys.path.\n",
      "/Users/atalianb/miniconda3/envs/py37/lib/python3.7/site-packages/ipykernel_launcher.py:12: RuntimeWarning: overflow encountered in double_scalars\n",
      "  if sys.path[0] == '':\n",
      "/Users/atalianb/miniconda3/envs/py37/lib/python3.7/site-packages/ipykernel_launcher.py:14: RuntimeWarning: overflow encountered in double_scalars\n",
      "  \n",
      "/Users/atalianb/miniconda3/envs/py37/lib/python3.7/site-packages/ipykernel_launcher.py:12: RuntimeWarning: invalid value encountered in double_scalars\n",
      "  if sys.path[0] == '':\n",
      "/Users/atalianb/miniconda3/envs/py37/lib/python3.7/site-packages/ipykernel_launcher.py:14: RuntimeWarning: invalid value encountered in double_scalars\n",
      "  \n"
     ]
    },
    {
     "data": {
      "text/plain": [
       "Text(0.5, 1.0, '$\\\\epsilon$')"
      ]
     },
     "execution_count": 60,
     "metadata": {},
     "output_type": "execute_result"
    },
    {
     "data": {
      "image/png": "[encoded data removed]",
      "text/plain": [
       "<Figure size 432x288 with 1 Axes>"
      ]
     },
     "metadata": {
      "needs_background": "light"
     },
     "output_type": "display_data"
    }
   ],
   "source": [
    "plt.plot(vecRp_F571_new,Vc2_l0(vecRp_F571_new,m_a=m_a_,eps=np.asscalar(np.exp(LS_eps_F571.x))))\n",
    "plt.errorbar(vecRp_F571,vecvRp_F571,yerr=vecerrvRp_F571,fmt='.')\n",
    "plt.ylabel(r'$v_{c}(r)$[km/s]')\n",
    "plt.xlabel(\"r[kpc]\")\n",
    "plt.title(r'$\\epsilon$')"
   ]
  },
  {
   "cell_type": "markdown",
   "metadata": {},
   "source": [
    "F583_1"
   ]
  },
  {
   "cell_type": "code",
   "execution_count": 39,
   "metadata": {},
   "outputs": [],
   "source": [
    "F583_1 = np.loadtxt(path+\"F583-1_rotmod.dat\")"
   ]
  },
  {
   "cell_type": "code",
   "execution_count": 40,
   "metadata": {},
   "outputs": [],
   "source": [
    "vecRp_F583_1 = np.array([row[0] for row in F583_1])# galactocentric distance [kpc]\n",
    "vecvRp_F583_1 = np.array([row[1] for row in F583_1])# rotation velocity [km/s]\n",
    "vecerrvRp_F583_1 = np.array([row[2] for row in F583_1])# error in rotation velocity [km/s]"
   ]
  },
  {
   "cell_type": "code",
   "execution_count": 41,
   "metadata": {},
   "outputs": [
    {
     "data": {
      "text/plain": [
       "<matplotlib.legend.Legend at 0x7fe40c15c310>"
      ]
     },
     "execution_count": 41,
     "metadata": {},
     "output_type": "execute_result"
    },
    {
     "data": {
      "image/png": "[encoded data removed]",
      "text/plain": [
       "<Figure size 432x288 with 1 Axes>"
      ]
     },
     "metadata": {
      "needs_background": "light"
     },
     "output_type": "display_data"
    }
   ],
   "source": [
    "plt.errorbar(vecRp_F583_1,vecvRp_F583_1,yerr=vecerrvRp_F583_1,fmt='.',label='F583_1')\n",
    "plt.ylabel(r'$v_{c}(r)$[km/s]')\n",
    "plt.xlabel(\"r[kpc]\")\n",
    "plt.title('F583-1_rotmod.dat')\n",
    "plt.legend(loc='lower right', prop={'size':10})"
   ]
  },
  {
   "cell_type": "code",
   "execution_count": 61,
   "metadata": {},
   "outputs": [],
   "source": [
    "f_F583_1 = interpolate.interp1d(vecRp_F583_1,vecvRp_F583_1)\n",
    "vecRp_F583_1_new = np.arange(vecRp_F583_1[0],vecRp_F583_1[-1],0.1)\n",
    "vecvRp_F583_1_new = f_F583_1(vecRp_F583_1_new)"
   ]
  },
  {
   "cell_type": "code",
   "execution_count": 62,
   "metadata": {},
   "outputs": [
    {
     "data": {
      "text/plain": [
       "Text(0.5, 0, 'r[kpc]')"
      ]
     },
     "execution_count": 62,
     "metadata": {},
     "output_type": "execute_result"
    },
    {
     "data": {
      "image/png": "[encoded data removed]",
      "text/plain": [
       "<Figure size 432x288 with 1 Axes>"
      ]
     },
     "metadata": {
      "needs_background": "light"
     },
     "output_type": "display_data"
    }
   ],
   "source": [
    "plt.errorbar(vecRp_F583_1,vecvRp_F583_1,yerr=vecerrvRp_F583_1,fmt='.')\n",
    "plt.plot(vecRp_F583_1_new,vecvRp_F583_1_new)\n",
    "plt.ylabel(r'$v_{c}(r)$[km/s]')\n",
    "plt.xlabel(\"r[kpc]\")"
   ]
  },
  {
   "cell_type": "code",
   "execution_count": 63,
   "metadata": {},
   "outputs": [],
   "source": [
    "def Xi2_eps_F583_1(parameter):\n",
    "    eps = np.exp(parameter)\n",
    "    model = Vc2_l0(vecRp_F583_1,m_a_,eps,l=0.)\n",
    "    xi = np.sum((vecvRp_F583_1-model)**2./(vecerrvRp_F583_1)**2.)\n",
    "    return xi"
   ]
  },
  {
   "cell_type": "code",
   "execution_count": 64,
   "metadata": {},
   "outputs": [
    {
     "name": "stderr",
     "output_type": "stream",
     "text": [
      "/Users/atalianb/miniconda3/envs/py37/lib/python3.7/site-packages/ipykernel_launcher.py:4: DeprecationWarning: np.asscalar(a) is deprecated since NumPy v1.16, use a.item() instead\n",
      "  after removing the cwd from sys.path.\n",
      "/Users/atalianb/miniconda3/envs/py37/lib/python3.7/site-packages/ipykernel_launcher.py:12: RuntimeWarning: overflow encountered in double_scalars\n",
      "  if sys.path[0] == '':\n",
      "/Users/atalianb/miniconda3/envs/py37/lib/python3.7/site-packages/ipykernel_launcher.py:14: RuntimeWarning: overflow encountered in double_scalars\n",
      "  \n",
      "/Users/atalianb/miniconda3/envs/py37/lib/python3.7/site-packages/ipykernel_launcher.py:12: RuntimeWarning: invalid value encountered in double_scalars\n",
      "  if sys.path[0] == '':\n",
      "/Users/atalianb/miniconda3/envs/py37/lib/python3.7/site-packages/ipykernel_launcher.py:14: RuntimeWarning: invalid value encountered in double_scalars\n",
      "  \n"
     ]
    },
    {
     "name": "stdout",
     "output_type": "stream",
     "text": [
      "      fun: 46.351656870516244\n",
      " hess_inv: <1x1 LbfgsInvHessProduct with dtype=float64>\n",
      "      jac: array([2.27373657e-05])\n",
      "  message: b'CONVERGENCE: REL_REDUCTION_OF_F_<=_FACTR*EPSMCH'\n",
      "     nfev: 36\n",
      "      nit: 6\n",
      "     njev: 18\n",
      "   status: 0\n",
      "  success: True\n",
      "        x: array([-8.95014126])\n"
     ]
    }
   ],
   "source": [
    "x0_eps_F583_1 = np.array(np.log(1.0e-4))\n",
    "LS_eps_F583_1 = optimize.minimize(Xi2_eps_F583_1,x0_eps_F583_1,method='L-BFGS-B',bounds=((np.log(1.0e-5),np.log(1.0e-3)),))\n",
    "print(LS_eps_F583_1)"
   ]
  },
  {
   "cell_type": "code",
   "execution_count": 65,
   "metadata": {},
   "outputs": [
    {
     "name": "stdout",
     "output_type": "stream",
     "text": [
      "[0.00012972]\n"
     ]
    }
   ],
   "source": [
    "print(np.exp(LS_eps_F583_1.x))"
   ]
  },
  {
   "cell_type": "code",
   "execution_count": 66,
   "metadata": {},
   "outputs": [
    {
     "name": "stderr",
     "output_type": "stream",
     "text": [
      "/Users/atalianb/miniconda3/envs/py37/lib/python3.7/site-packages/ipykernel_launcher.py:1: DeprecationWarning: np.asscalar(a) is deprecated since NumPy v1.16, use a.item() instead\n",
      "  \"\"\"Entry point for launching an IPython kernel.\n",
      "/Users/atalianb/miniconda3/envs/py37/lib/python3.7/site-packages/ipykernel_launcher.py:4: DeprecationWarning: np.asscalar(a) is deprecated since NumPy v1.16, use a.item() instead\n",
      "  after removing the cwd from sys.path.\n",
      "/Users/atalianb/miniconda3/envs/py37/lib/python3.7/site-packages/ipykernel_launcher.py:12: RuntimeWarning: overflow encountered in double_scalars\n",
      "  if sys.path[0] == '':\n",
      "/Users/atalianb/miniconda3/envs/py37/lib/python3.7/site-packages/ipykernel_launcher.py:14: RuntimeWarning: overflow encountered in double_scalars\n",
      "  \n",
      "/Users/atalianb/miniconda3/envs/py37/lib/python3.7/site-packages/ipykernel_launcher.py:12: RuntimeWarning: invalid value encountered in double_scalars\n",
      "  if sys.path[0] == '':\n",
      "/Users/atalianb/miniconda3/envs/py37/lib/python3.7/site-packages/ipykernel_launcher.py:14: RuntimeWarning: invalid value encountered in double_scalars\n",
      "  \n"
     ]
    },
    {
     "data": {
      "text/plain": [
       "Text(0.5, 1.0, '$\\\\epsilon$')"
      ]
     },
     "execution_count": 66,
     "metadata": {},
     "output_type": "execute_result"
    },
    {
     "data": {
      "image/png": "[encoded data removed]",
      "text/plain": [
       "<Figure size 432x288 with 1 Axes>"
      ]
     },
     "metadata": {
      "needs_background": "light"
     },
     "output_type": "display_data"
    }
   ],
   "source": [
    "plt.plot(vecRp_F583_1_new,Vc2_l0(vecRp_F583_1_new,m_a=m_a_,eps=np.asscalar(np.exp(LS_eps_F583_1.x))))\n",
    "plt.errorbar(vecRp_F583_1,vecvRp_F583_1,yerr=vecerrvRp_F583_1,fmt='.')\n",
    "plt.ylabel(r'$v_{c}(r)$[km/s]')\n",
    "plt.xlabel(\"r[kpc]\")\n",
    "plt.title(r'$\\epsilon$')"
   ]
  },
  {
   "cell_type": "markdown",
   "metadata": {},
   "source": [
    "F583_2"
   ]
  },
  {
   "cell_type": "code",
   "execution_count": 42,
   "metadata": {},
   "outputs": [],
   "source": [
    "F583_2 = np.loadtxt(path+\"F583-4_rotmod.dat\")"
   ]
  },
  {
   "cell_type": "code",
   "execution_count": 43,
   "metadata": {},
   "outputs": [],
   "source": [
    "vecRp_F583_2 = np.array([row[0] for row in F583_2])# galactocentric distance [kpc]\n",
    "vecvRp_F583_2 = np.array([row[1] for row in F583_2])# rotation velocity [km/s]\n",
    "vecerrvRp_F583_2 = np.array([row[2] for row in F583_2])# error in rotation velocity [km/s]"
   ]
  },
  {
   "cell_type": "code",
   "execution_count": 44,
   "metadata": {},
   "outputs": [
    {
     "data": {
      "text/plain": [
       "<matplotlib.legend.Legend at 0x7fe40c250ad0>"
      ]
     },
     "execution_count": 44,
     "metadata": {},
     "output_type": "execute_result"
    },
    {
     "data": {
      "image/png": "[encoded data removed]",
      "text/plain": [
       "<Figure size 432x288 with 1 Axes>"
      ]
     },
     "metadata": {
      "needs_background": "light"
     },
     "output_type": "display_data"
    }
   ],
   "source": [
    "plt.errorbar(vecRp_F583_2,vecvRp_F583_2,yerr=vecerrvRp_F583_2,fmt='.',label='F583_2')\n",
    "plt.ylabel(r'$v_{c}(r)$[km/s]')\n",
    "plt.xlabel(\"r[kpc]\")\n",
    "plt.title('F583-4_rotmod.dat')\n",
    "plt.legend(loc='lower right', prop={'size':10})"
   ]
  },
  {
   "cell_type": "code",
   "execution_count": 67,
   "metadata": {},
   "outputs": [],
   "source": [
    "f_F583_2 = interpolate.interp1d(vecRp_F583_2,vecvRp_F583_2)\n",
    "vecRp_F583_2_new = np.arange(vecRp_F583_2[0],vecRp_F583_2[-1],0.1)\n",
    "vecvRp_F583_2_new = f_F583_2(vecRp_F583_2_new)"
   ]
  },
  {
   "cell_type": "code",
   "execution_count": 68,
   "metadata": {},
   "outputs": [
    {
     "data": {
      "text/plain": [
       "Text(0.5, 0, 'r[kpc]')"
      ]
     },
     "execution_count": 68,
     "metadata": {},
     "output_type": "execute_result"
    },
    {
     "data": {
      "image/png": "[encoded data removed]",
      "text/plain": [
       "<Figure size 432x288 with 1 Axes>"
      ]
     },
     "metadata": {
      "needs_background": "light"
     },
     "output_type": "display_data"
    }
   ],
   "source": [
    "plt.errorbar(vecRp_F583_2,vecvRp_F583_2,yerr=vecerrvRp_F583_2,fmt='.')\n",
    "plt.plot(vecRp_F583_2_new,vecvRp_F583_2_new)\n",
    "plt.ylabel(r'$v_{c}(r)$[km/s]')\n",
    "plt.xlabel(\"r[kpc]\")"
   ]
  },
  {
   "cell_type": "code",
   "execution_count": 69,
   "metadata": {},
   "outputs": [],
   "source": [
    "def Xi2_eps_F583_2(parameter):\n",
    "    eps = np.exp(parameter)\n",
    "    model = Vc2_l0(vecRp_F583_2,m_a_,eps,l=0.)\n",
    "    xi = np.sum((vecvRp_F583_2-model)**2./(vecerrvRp_F583_2)**2.)\n",
    "    return xi"
   ]
  },
  {
   "cell_type": "code",
   "execution_count": 70,
   "metadata": {},
   "outputs": [
    {
     "name": "stderr",
     "output_type": "stream",
     "text": [
      "/Users/atalianb/miniconda3/envs/py37/lib/python3.7/site-packages/ipykernel_launcher.py:4: DeprecationWarning: np.asscalar(a) is deprecated since NumPy v1.16, use a.item() instead\n",
      "  after removing the cwd from sys.path.\n",
      "/Users/atalianb/miniconda3/envs/py37/lib/python3.7/site-packages/ipykernel_launcher.py:12: RuntimeWarning: overflow encountered in double_scalars\n",
      "  if sys.path[0] == '':\n",
      "/Users/atalianb/miniconda3/envs/py37/lib/python3.7/site-packages/ipykernel_launcher.py:14: RuntimeWarning: overflow encountered in double_scalars\n",
      "  \n",
      "/Users/atalianb/miniconda3/envs/py37/lib/python3.7/site-packages/ipykernel_launcher.py:12: RuntimeWarning: invalid value encountered in double_scalars\n",
      "  if sys.path[0] == '':\n",
      "/Users/atalianb/miniconda3/envs/py37/lib/python3.7/site-packages/ipykernel_launcher.py:14: RuntimeWarning: invalid value encountered in double_scalars\n",
      "  \n"
     ]
    },
    {
     "name": "stdout",
     "output_type": "stream",
     "text": [
      "      fun: 63.03814551405536\n",
      " hess_inv: <1x1 LbfgsInvHessProduct with dtype=float64>\n",
      "      jac: array([0.])\n",
      "  message: b'CONVERGENCE: NORM_OF_PROJECTED_GRADIENT_<=_PGTOL'\n",
      "     nfev: 20\n",
      "      nit: 8\n",
      "     njev: 10\n",
      "   status: 0\n",
      "  success: True\n",
      "        x: array([-9.65791506])\n"
     ]
    }
   ],
   "source": [
    "x0_eps_F583_2 = np.array(np.log(1.0e-4))\n",
    "LS_eps_F583_2 = optimize.minimize(Xi2_eps_F583_2,x0_eps_F583_2,method='L-BFGS-B',bounds=((np.log(1.0e-5),np.log(1.0e-3)),))\n",
    "print(LS_eps_F583_2)"
   ]
  },
  {
   "cell_type": "code",
   "execution_count": 71,
   "metadata": {},
   "outputs": [
    {
     "name": "stdout",
     "output_type": "stream",
     "text": [
      "[6.39176479e-05]\n"
     ]
    }
   ],
   "source": [
    "print(np.exp(LS_eps_F583_2.x))"
   ]
  },
  {
   "cell_type": "code",
   "execution_count": 72,
   "metadata": {},
   "outputs": [
    {
     "name": "stderr",
     "output_type": "stream",
     "text": [
      "/Users/atalianb/miniconda3/envs/py37/lib/python3.7/site-packages/ipykernel_launcher.py:1: DeprecationWarning: np.asscalar(a) is deprecated since NumPy v1.16, use a.item() instead\n",
      "  \"\"\"Entry point for launching an IPython kernel.\n",
      "/Users/atalianb/miniconda3/envs/py37/lib/python3.7/site-packages/ipykernel_launcher.py:4: DeprecationWarning: np.asscalar(a) is deprecated since NumPy v1.16, use a.item() instead\n",
      "  after removing the cwd from sys.path.\n",
      "/Users/atalianb/miniconda3/envs/py37/lib/python3.7/site-packages/ipykernel_launcher.py:12: RuntimeWarning: overflow encountered in double_scalars\n",
      "  if sys.path[0] == '':\n",
      "/Users/atalianb/miniconda3/envs/py37/lib/python3.7/site-packages/ipykernel_launcher.py:14: RuntimeWarning: overflow encountered in double_scalars\n",
      "  \n",
      "/Users/atalianb/miniconda3/envs/py37/lib/python3.7/site-packages/ipykernel_launcher.py:12: RuntimeWarning: invalid value encountered in double_scalars\n",
      "  if sys.path[0] == '':\n",
      "/Users/atalianb/miniconda3/envs/py37/lib/python3.7/site-packages/ipykernel_launcher.py:14: RuntimeWarning: invalid value encountered in double_scalars\n",
      "  \n"
     ]
    },
    {
     "data": {
      "text/plain": [
       "Text(0.5, 1.0, '$\\\\epsilon$')"
      ]
     },
     "execution_count": 72,
     "metadata": {},
     "output_type": "execute_result"
    },
    {
     "data": {
      "image/png": "[encoded data removed]",
      "text/plain": [
       "<Figure size 432x288 with 1 Axes>"
      ]
     },
     "metadata": {
      "needs_background": "light"
     },
     "output_type": "display_data"
    }
   ],
   "source": [
    "plt.plot(vecRp_F583_2_new,Vc2_l0(vecRp_F583_2_new,m_a=m_a_,eps=np.asscalar(np.exp(LS_eps_F583_2.x))))\n",
    "plt.errorbar(vecRp_F583_2,vecvRp_F583_2,yerr=vecerrvRp_F583_2,fmt='.')\n",
    "plt.ylabel(r'$v_{c}(r)$[km/s]')\n",
    "plt.xlabel(\"r[kpc]\")\n",
    "plt.title(r'$\\epsilon$')"
   ]
  },
  {
   "cell_type": "code",
   "execution_count": null,
   "metadata": {},
   "outputs": [],
   "source": []
  }
 ],
 "metadata": {
  "kernelspec": {
   "display_name": "Python 3",
   "language": "python",
   "name": "python3"
  },
  "language_info": {
   "codemirror_mode": {
    "name": "ipython",
    "version": 3
   },
   "file_extension": ".py",
   "mimetype": "text/x-python",
   "name": "python",
   "nbconvert_exporter": "python",
   "pygments_lexer": "ipython3",
   "version": "3.7.7"
  }
 },
 "nbformat": 4,
 "nbformat_minor": 4
}
