{
 "cells": [
  {
   "cell_type": "code",
   "execution_count": 1,
   "metadata": {},
   "outputs": [],
   "source": [
    "import numpy as np\n",
    "import matplotlib.pyplot as plt\n",
    "from scipy import optimize\n",
    "#from decimal import *\n",
    "from scipy import integrate"
   ]
  },
  {
   "cell_type": "code",
   "execution_count": 2,
   "metadata": {},
   "outputs": [],
   "source": [
    "def Integrate(func,x0,y0,x,h):\n",
    "    # Finds value of y for a given x using step size h \n",
    "    # and initial value y0 at x0.\n",
    "    def RK4(func,x0,y0,h):\n",
    "        K0 = h*func(x0,y0)\n",
    "        K1 = h*func(x0 + 0.5*h, y0 + 0.5*K0)\n",
    "        K2 = h*func(x0 + 0.5*h, y0 + 0.5*K1)\n",
    "        K3 = h*func(x0 + h, y0 + K2)\n",
    "        return (K0 + 2.*K1 + 2.*K2 + K3)/6.\n",
    "    X = []\n",
    "    Y = []\n",
    "    X.append(x0)\n",
    "    Y.append(y0)\n",
    "    while x0 < x:\n",
    "         # Count number of iterations using step size or\n",
    "        h = min(h,x - x0)# step height h\n",
    "        y0 = y0 + RK4(func,x0,y0,h)#update next value of y\n",
    "        x0 = x0 + h#update next value of x\n",
    "        X.append(x0)\n",
    "        Y.append(y0)\n",
    "    return np.array(X),np.array(Y)"
   ]
  },
  {
   "cell_type": "code",
   "execution_count": 7,
   "metadata": {},
   "outputs": [],
   "source": [
    "def shooting(func,u,x0,x,xf,step,k=1.0,h=0.01):\n",
    "    def res(u):# Boundary condition residual\n",
    "        X,Y = Integrate(func,x0,IC(u,k),x,h)\n",
    "        y = Y[len(Y) - 1]#last value of Y\n",
    "        r = np.zeros(len(u))\n",
    "        r[0] = y[0]#y0(inf)=0\n",
    "        r[1] = y[2]/x + y[3]#y_3(inf)/r + y_4(inf)=0\n",
    "        return r\n",
    "    x_list = []\n",
    "    root_list = []\n",
    "    while x<=xf:\n",
    "        #print(\"x=\",x)\n",
    "        x_list.append(x)\n",
    "        #print(\"u=\",u)\n",
    "        root = optimize.root(res,u)\n",
    "        #print(\"root=\",root)\n",
    "        u = root.x\n",
    "        #print(\"u=\",u)\n",
    "        root_temp = optimize.root(res,root.x)\n",
    "        #print(\"root_temp=\",root_temp)\n",
    "        root_list.append(root_temp.x)\n",
    "        X,Y = Integrate(func,x0,IC(root_temp.x,k),x,h)\n",
    "        x = x+step\n",
    "    return X,Y,root_temp,np.array(x_list),np.array(root_list)"
   ]
  },
  {
   "cell_type": "code",
   "execution_count": 4,
   "metadata": {},
   "outputs": [],
   "source": [
    "def IC(u,k=1.):#Initial conditions array, the first correspond to the initial condition in phi\n",
    "    return np.array([k,0.0,u[0],0.0,u[1]])"
   ]
  },
  {
   "cell_type": "code",
   "execution_count": 5,
   "metadata": {},
   "outputs": [],
   "source": [
    "def f0(x,y):\n",
    "    l = 0.\n",
    "    F = np.zeros(5)\n",
    "    if x==0:\n",
    "        F[0] = y[1]\n",
    "        F[1] = 2.*y[0]*(y[2]-y[4])\n",
    "        F[2] = y[3]\n",
    "        F[3] = 0.\n",
    "        F[4] = 0.\n",
    "    else:\n",
    "        F[0] = y[1]\n",
    "        F[1] = -2.*(l+1.)*y[1]/x +2.*y[0]*(y[2]-y[4])\n",
    "        F[2] = y[3]\n",
    "        F[3] = (2.*l+1.)*x**(2.*l)*y[0]**2. - 2.*y[3]/x\n",
    "        F[4] = 0.\n",
    "    return F"
   ]
  },
  {
   "cell_type": "code",
   "execution_count": 6,
   "metadata": {},
   "outputs": [],
   "source": [
    "##l=0\n",
    "u1_0 = 0.63173215# 1st trial value of unknown init. cond.\n",
    "u2_0 = 1.28125868# 2nd trial value of unknown init. cond.\n",
    "u_0 = np.array([u1_0, u2_0])\n",
    "x0_0 = 2.#first integration"
   ]
  },
  {
   "cell_type": "code",
   "execution_count": 8,
   "metadata": {},
   "outputs": [],
   "source": [
    "x0_1v1 = 0.0# Start of integration\n",
    "xf_1v1 = 10. # End of integration\n",
    "step_0 = 0.5"
   ]
  },
  {
   "cell_type": "code",
   "execution_count": 12,
   "metadata": {},
   "outputs": [],
   "source": [
    "X1v1_f,Y1_fv1,root1_fv1,arr_x1v1,arr_list1v1=shooting(f0,u_0,x0_1v1,x0_0,xf_1v1,step_0)"
   ]
  },
  {
   "cell_type": "code",
   "execution_count": 13,
   "metadata": {},
   "outputs": [
    {
     "data": {
      "text/plain": [
       "<matplotlib.legend.Legend at 0x7fbb68cab790>"
      ]
     },
     "execution_count": 13,
     "metadata": {},
     "output_type": "execute_result"
    },
    {
     "data": {
      "image/png": "[encoded data removed]",
      "text/plain": [
       "<Figure size 432x288 with 1 Axes>"
      ]
     },
     "metadata": {
      "needs_background": "light"
     },
     "output_type": "display_data"
    }
   ],
   "source": [
    "plt.plot(X1v1_f,Y1_fv1[:,0],label='l=0, numerical')\n",
    "plt.grid(True)\n",
    "plt.xlabel(\"x\")\n",
    "plt.ylabel(\"y\")\n",
    "plt.legend(loc='upper right', prop={'size':10})"
   ]
  },
  {
   "cell_type": "code",
   "execution_count": null,
   "metadata": {},
   "outputs": [],
   "source": []
  },
  {
   "cell_type": "markdown",
   "metadata": {},
   "source": [
    "# SFDM density profile"
   ]
  },
  {
   "cell_type": "markdown",
   "metadata": {},
   "source": [
    "$$\\begin{equation}\n",
    "\\rho(r) = \\begin{cases}\n",
    "\\frac{\\rho_{sol}}{\\left[ 1 + (r/r_{sol})^{2} \\right]^{8}} & r<r_{\\epsilon}\\\\\n",
    "\\frac{\\rho_{NFW}}{\\left( 1+r/r_{s} \\right)^{2}\\frac{r}{r_{s}}} & r\\geq r_{\\epsilon}\n",
    "\\end{cases}\n",
    "\\end{equation}$$"
   ]
  },
  {
   "cell_type": "code",
   "execution_count": 22,
   "metadata": {},
   "outputs": [],
   "source": [
    "#constants\n",
    "rho_soliton = 2.42e9#SM*kpc−3\n",
    "m_axion = 1.0e-22#eV\n",
    "G = 4.302e-6#kpc/SM(km/s)^2\n",
    "h_bar = 6.582e-16#eV*s"
   ]
  },
  {
   "cell_type": "code",
   "execution_count": 14,
   "metadata": {},
   "outputs": [],
   "source": [
    "def rho_minor(r,rho_sol,m_a):\n",
    "    rsol = ((rho_sol/(2.42e9))*(m_a/1.0e-22)**2.)**(-0.25)\n",
    "    d = (1. + (r/rsol)**2.)**8.\n",
    "    return 1/d"
   ]
  },
  {
   "cell_type": "code",
   "execution_count": 15,
   "metadata": {},
   "outputs": [],
   "source": [
    "def rho_mayor(r,rho_sol,m_a,eps,r_s):\n",
    "    rsol = ((rho_sol/(2.42e9))*(m_a/1.0e-22)**2.)**(-0.25)\n",
    "    r_eps = rsol*np.sqrt(eps**(-1./8.) - 1.)\n",
    "    delta_NFW = eps*(r_eps/r_s**3.)*(r_s + r_eps)**2.\n",
    "    d = (r/r_s**3.)*(r_s + r)**2.\n",
    "    return delta_NFW/d"
   ]
  },
  {
   "cell_type": "markdown",
   "metadata": {},
   "source": [
    "$$\\begin{equation}\n",
    "r_{sol} = \\left[ \\frac{\\rho_{\\text{sol}}}{2.42\\times 10^{9}\\text{M}_{\\odot}\\text{kpc}^{-3}}\\left(\\frac{m_{a}}{10^{-22}eV}\\right)^{2} \\right]^{-0.25}\\text{kpc}\n",
    "\\end{equation}$$"
   ]
  },
  {
   "cell_type": "code",
   "execution_count": 23,
   "metadata": {},
   "outputs": [
    {
     "name": "stdout",
     "output_type": "stream",
     "text": [
      "0.7067744650135565\n"
     ]
    }
   ],
   "source": [
    "#Las fracciones de rho_soliton son sacadas de los ajustes del paper de Alma, r_sol y r_eps están definidos en ese paper\n",
    "rsol_1 = ((rho_soliton*0.037/2.42e9)*(m_axion/1.0e-22)**2.)**(-0.25)\n",
    "r_eps_1 = rsol_1*np.sqrt(0.48**(-1./8.) - 1.)\n",
    "rsol_2 = ((rho_soliton*0.057/2.42e9)*(m_axion/1.0e-22)**2.)**(-0.25)\n",
    "r_eps_2 = rsol_2*np.sqrt(0.464**(-1./8.) - 1.)\n",
    "print(r_eps_1)"
   ]
  },
  {
   "cell_type": "code",
   "execution_count": 24,
   "metadata": {},
   "outputs": [],
   "source": [
    "#Arrays de casi sero al radio del corte r_eps y de r_eps al radio mayor que queremos ej.15\n",
    "r_1 = np.linspace(0.1,r_eps_1,30)\n",
    "r_2 = np.linspace(r_eps_1,15.,80)"
   ]
  },
  {
   "cell_type": "code",
   "execution_count": 25,
   "metadata": {},
   "outputs": [
    {
     "data": {
      "text/plain": [
       "Text(0.5, 0, 'r')"
      ]
     },
     "execution_count": 25,
     "metadata": {},
     "output_type": "execute_result"
    },
    {
     "data": {
      "image/png": "[encoded data removed]",
      "text/plain": [
       "<Figure size 432x288 with 1 Axes>"
      ]
     },
     "metadata": {
      "needs_background": "light"
     },
     "output_type": "display_data"
    }
   ],
   "source": [
    "plt.plot(r_2,rho_soliton*0.037*rho_mayor(r_2,rho_sol=0.037*rho_soliton,m_a=m_axion,eps=0.48,r_s=0.39))\n",
    "plt.plot(r_1,rho_soliton*0.037*rho_minor(r_1,rho_sol=0.037*rho_soliton,m_a=m_axion))\n",
    "plt.yscale('log')\n",
    "plt.xscale('log')\n",
    "plt.ylabel(r'$\\rho(r)$')\n",
    "plt.xlabel('r')"
   ]
  },
  {
   "cell_type": "code",
   "execution_count": 26,
   "metadata": {},
   "outputs": [],
   "source": [
    "def rho_tot(r,rho_sol,m_a,eps,r_s):\n",
    "    rsol = ((rho_sol/2.42e9)*(m_a/1.0e-22)**2.)**(-0.25)\n",
    "    r_eps = rsol*np.sqrt(eps**(-1./8.) - 1.)\n",
    "    result = []\n",
    "    for i in range(0,len(r)):\n",
    "        if r[i]<r_eps:\n",
    "            d = (1. + (r[i]/rsol)**2.)**8.\n",
    "            result.append(rho_sol/d)\n",
    "        else:\n",
    "            delta_NFW = eps*(r_eps/r_s**3.)*(r_s + r_eps)**2.\n",
    "            d = (r[i]/r_s**3.)*(r_s + r[i])**2.\n",
    "            result.append(delta_NFW*rho_sol/d)\n",
    "    return np.array(result)"
   ]
  },
  {
   "cell_type": "code",
   "execution_count": 27,
   "metadata": {},
   "outputs": [],
   "source": [
    "r = np.linspace(0.1,100,100)"
   ]
  },
  {
   "cell_type": "code",
   "execution_count": 28,
   "metadata": {},
   "outputs": [
    {
     "data": {
      "image/png": "[encoded data removed]",
      "text/plain": [
       "<Figure size 432x288 with 1 Axes>"
      ]
     },
     "metadata": {
      "needs_background": "light"
     },
     "output_type": "display_data"
    }
   ],
   "source": [
    "plt.plot(r,rho_tot(r,rho_sol=0.037*rho_soliton,m_a=m_axion,eps=0.48,r_s=0.39),label='Fornax')\n",
    "plt.plot(r,rho_tot(r,rho_sol=0.057*rho_soliton,m_a=m_axion,eps=0.464,r_s=0.57),label='Sculptor')\n",
    "plt.yscale('log')\n",
    "plt.xscale('log')\n",
    "plt.ylabel(r'$\\rho(r)$')\n",
    "plt.xlabel('r')\n",
    "plt.legend(loc='upper right', prop={'size':10})\n",
    "plt.grid(True)"
   ]
  },
  {
   "cell_type": "markdown",
   "metadata": {},
   "source": [
    "# Unidades para la parte numérica"
   ]
  },
  {
   "cell_type": "code",
   "execution_count": 29,
   "metadata": {},
   "outputs": [],
   "source": [
    "R = np.linspace(0,10,81)"
   ]
  },
  {
   "cell_type": "code",
   "execution_count": 30,
   "metadata": {},
   "outputs": [
    {
     "name": "stdout",
     "output_type": "stream",
     "text": [
      "4.51606752e-39\n"
     ]
    }
   ],
   "source": [
    "#G tiene unidades de kpc/SM *(km/s)^2, aqui estamos convirtiendo esos km a kpc, ya que 1km = 3.24x10^17kpc\n",
    "G_kpc=G*(3.24e-17)**2.\n",
    "print(G_kpc)"
   ]
  },
  {
   "cell_type": "code",
   "execution_count": 58,
   "metadata": {},
   "outputs": [
    {
     "name": "stdout",
     "output_type": "stream",
     "text": [
      "48792.47496841681\n"
     ]
    }
   ],
   "source": [
    "#Este tiene mal las unidades\n",
    "eps = (4.*np.pi*G*h_bar**2.*rho_soliton/m_axion**2.)**(0.25)\n",
    "print(eps)"
   ]
  },
  {
   "cell_type": "code",
   "execution_count": 102,
   "metadata": {},
   "outputs": [
    {
     "name": "stdout",
     "output_type": "stream",
     "text": [
      "2420000000.0\n"
     ]
    }
   ],
   "source": [
    "print(rho_soliton)"
   ]
  },
  {
   "cell_type": "code",
   "execution_count": 59,
   "metadata": {},
   "outputs": [
    {
     "name": "stdout",
     "output_type": "stream",
     "text": [
      "0.0002777316364385088\n"
     ]
    }
   ],
   "source": [
    "#Este tiene bien las unidades\n",
    "ep = (4.*np.pi*G_kpc*rho_soliton*h_bar**2./(m_axion**2.))**(0.25)\n",
    "print(ep)"
   ]
  },
  {
   "cell_type": "code",
   "execution_count": 60,
   "metadata": {},
   "outputs": [],
   "source": [
    "phi_0=m_axion**2.*Y1_fv1[:,0]**2*ep**4./(h_bar**2.*4.*np.pi*G_kpc)"
   ]
  },
  {
   "cell_type": "code",
   "execution_count": 81,
   "metadata": {},
   "outputs": [
    {
     "data": {
      "text/plain": [
       "<matplotlib.legend.Legend at 0x7fbb6cff1bd0>"
      ]
     },
     "execution_count": 81,
     "metadata": {},
     "output_type": "execute_result"
    },
    {
     "data": {
      "image/png": "[encoded data removed]",
      "text/plain": [
       "<Figure size 432x288 with 1 Axes>"
      ]
     },
     "metadata": {
      "needs_background": "light"
     },
     "output_type": "display_data"
    }
   ],
   "source": [
    "#la rho_soliton que estoy tomando también la debería de multiplicar por la fracción para fornax? ie.rho_sol=0.037*rho_soliton\n",
    "#plt.plot(r_1,rho_soliton*0.037*rho_minor(r_1,rho_sol=0.037*rho_soliton,m_a=m_axion),label='Theory')\n",
    "plt.plot(X1v1_f,rho_soliton*rho_minor(X1v1_f,rho_sol=rho_soliton,m_a=m_axion),label='Theory')\n",
    "plt.plot(X1v1_f,phi_0,label='Numerical')\n",
    "#plt.yscale('log')\n",
    "#plt.xscale('log')\n",
    "plt.ylabel(r'$\\rho(r)[M_{\\odot}/kpc^{3}]$')\n",
    "plt.xlabel('r (numerical)')\n",
    "plt.grid(True)\n",
    "plt.title('Fornax')\n",
    "plt.legend(loc='upper right', prop={'size':10})"
   ]
  },
  {
   "cell_type": "code",
   "execution_count": 95,
   "metadata": {},
   "outputs": [
    {
     "data": {
      "text/plain": [
       "9.72e-12"
      ]
     },
     "execution_count": 95,
     "metadata": {},
     "output_type": "execute_result"
    }
   ],
   "source": [
    "# c de km a kpc\n",
    "3.0e5*3.24e-17"
   ]
  },
  {
   "cell_type": "code",
   "execution_count": 96,
   "metadata": {},
   "outputs": [],
   "source": [
    "r_units = X1v1_f*h_bar*(3.0e5)/(m_axion*ep)#km\n",
    "r_units_kpc = X1v1_f*h_bar*(9.72e-12)/(m_axion*ep)#kpc"
   ]
  },
  {
   "cell_type": "code",
   "execution_count": 93,
   "metadata": {},
   "outputs": [
    {
     "name": "stdout",
     "output_type": "stream",
     "text": [
      "0.0002777316364385088\n"
     ]
    }
   ],
   "source": [
    "print(ep)"
   ]
  },
  {
   "cell_type": "code",
   "execution_count": 97,
   "metadata": {},
   "outputs": [
    {
     "data": {
      "text/plain": [
       "6.397703999999999e-05"
      ]
     },
     "execution_count": 97,
     "metadata": {},
     "output_type": "execute_result"
    }
   ],
   "source": [
    "h_bar*(9.72e-12)/(m_axion)#kpc"
   ]
  },
  {
   "cell_type": "code",
   "execution_count": 98,
   "metadata": {},
   "outputs": [
    {
     "data": {
      "text/plain": [
       "1974600000000.0"
      ]
     },
     "execution_count": 98,
     "metadata": {},
     "output_type": "execute_result"
    }
   ],
   "source": [
    "h_bar*(3.0e5)/(m_axion)#km"
   ]
  },
  {
   "cell_type": "code",
   "execution_count": 101,
   "metadata": {},
   "outputs": [
    {
     "data": {
      "text/plain": [
       "<matplotlib.legend.Legend at 0x7fbb6d597050>"
      ]
     },
     "execution_count": 101,
     "metadata": {},
     "output_type": "execute_result"
    },
    {
     "data": {
      "image/png": "[encoded data removed]",
      "text/plain": [
       "<Figure size 432x288 with 1 Axes>"
      ]
     },
     "metadata": {
      "needs_background": "light"
     },
     "output_type": "display_data"
    }
   ],
   "source": [
    "#plt.plot(r_units_kpc,rho_soliton*rho_minor(X1v1_f,rho_sol=rho_soliton,m_a=m_axion),label='Theory')\n",
    "plt.plot(r_units_kpc,phi_0,label='Numerical')\n",
    "#plt.yscale('log')\n",
    "#plt.xscale('log')\n",
    "plt.ylabel(r'$\\rho(r)[M_{\\odot}/kpc^{3}]$')\n",
    "plt.xlabel('r [kpc]')\n",
    "plt.grid(True)\n",
    "plt.title('Fornax')\n",
    "plt.legend(loc='upper right', prop={'size':10})"
   ]
  },
  {
   "cell_type": "code",
   "execution_count": 71,
   "metadata": {},
   "outputs": [
    {
     "data": {
      "text/plain": [
       "<matplotlib.legend.Legend at 0x7fbb6b4c2050>"
      ]
     },
     "execution_count": 71,
     "metadata": {},
     "output_type": "execute_result"
    },
    {
     "data": {
      "image/png": "[encoded data removed]",
      "text/plain": [
       "<Figure size 432x288 with 1 Axes>"
      ]
     },
     "metadata": {
      "needs_background": "light"
     },
     "output_type": "display_data"
    }
   ],
   "source": [
    "plt.plot(X1v1_f,rho_soliton*rho_minor(X1v1_f,rho_sol=rho_soliton,m_a=m_axion),label='Theory')\n",
    "plt.ylabel(r'$\\rho(r)[M_{\\odot}/kpc^{3}]$')\n",
    "plt.xlabel('r [kpc]')\n",
    "plt.grid(True)\n",
    "plt.title('Fornax')\n",
    "plt.legend(loc='upper right', prop={'size':10})"
   ]
  },
  {
   "cell_type": "code",
   "execution_count": 72,
   "metadata": {},
   "outputs": [
    {
     "data": {
      "text/plain": [
       "<matplotlib.legend.Legend at 0x7fbb67d55150>"
      ]
     },
     "execution_count": 72,
     "metadata": {},
     "output_type": "execute_result"
    },
    {
     "data": {
      "image/png": "[encoded data removed]",
      "text/plain": [
       "<Figure size 432x288 with 1 Axes>"
      ]
     },
     "metadata": {
      "needs_background": "light"
     },
     "output_type": "display_data"
    }
   ],
   "source": [
    "plt.plot(r_units_kpc,phi_0,label='Numerical')\n",
    "plt.ylabel(r'$\\rho(r)[M_{\\odot}/kpc^{3}]$')\n",
    "plt.xlabel('r [kpc]')\n",
    "plt.grid(True)\n",
    "plt.title('Fornax')\n",
    "plt.legend(loc='upper right', prop={'size':10})"
   ]
  },
  {
   "cell_type": "code",
   "execution_count": null,
   "metadata": {},
   "outputs": [],
   "source": []
  }
 ],
 "metadata": {
  "kernelspec": {
   "display_name": "Python 3",
   "language": "python",
   "name": "python3"
  },
  "language_info": {
   "codemirror_mode": {
    "name": "ipython",
    "version": 3
   },
   "file_extension": ".py",
   "mimetype": "text/x-python",
   "name": "python",
   "nbconvert_exporter": "python",
   "pygments_lexer": "ipython3",
   "version": "3.7.7"
  }
 },
 "nbformat": 4,
 "nbformat_minor": 4
}
