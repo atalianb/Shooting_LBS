{
 "cells": [
  {
   "cell_type": "code",
   "execution_count": 1,
   "metadata": {},
   "outputs": [],
   "source": [
    "import numpy as np\n",
    "from scipy import optimize\n",
    "from scipy import integrate\n",
    "import matplotlib.pyplot as plt"
   ]
  },
  {
   "cell_type": "code",
   "execution_count": 2,
   "metadata": {},
   "outputs": [],
   "source": [
    "path = \"/Users/atalianb/Documents/data_LBSG/LSBG/LSBG/\"\n",
    "data = np.loadtxt(path+\"D564-8_rotmod.dat\")"
   ]
  },
  {
   "cell_type": "code",
   "execution_count": 3,
   "metadata": {},
   "outputs": [],
   "source": [
    "vecRp_data = np.array([row[0] for row in data])# galactocentric distance [kpc]\n",
    "vecvRp_data = np.array([row[1] for row in data])# rotation velocity [km/s]\n",
    "vecerrvRp_data = np.array([row[2] for row in data])# error in rotation velocity [km/s]"
   ]
  },
  {
   "cell_type": "code",
   "execution_count": 4,
   "metadata": {},
   "outputs": [],
   "source": [
    "def rescaling(phi_0,l):\n",
    "    lmbd = (1./phi_0)**(1/(l+2.))\n",
    "    return lmbd"
   ]
  },
  {
   "cell_type": "code",
   "execution_count": 119,
   "metadata": {},
   "outputs": [],
   "source": [
    "eps = 2.1e-4\n",
    "m_a = 1.0e-22\n",
    "phi0_0 = 0.05\n",
    "phi0_1 = 0.02\n",
    "phi0_2 = 0.01\n",
    "phi0_3 = 0.001"
   ]
  },
  {
   "cell_type": "code",
   "execution_count": 85,
   "metadata": {},
   "outputs": [
    {
     "name": "stdout",
     "output_type": "stream",
     "text": [
      "10.089201877934272\n"
     ]
    }
   ],
   "source": [
    "r_num = vecRp_data[-1]*eps*m_a/6.39e-27\n",
    "print(r_num)"
   ]
  },
  {
   "cell_type": "code",
   "execution_count": 100,
   "metadata": {},
   "outputs": [],
   "source": [
    "x0_0 = 3.#first integration\n",
    "x0_0v1 = 0.01 # Start of integration\n",
    "step_0 = 0.5\n",
    "xf_0v1 = r_num#End integration\n",
    "##l=0\n",
    "u1_0 = 0.63173215# 1st trial value of unknown init. cond.\n",
    "u2_0 = 1.28125868# 2nd trial value of unknown init. cond.\n",
    "u_0 = np.array([u1_0, u2_0])\n",
    "###l=1 \n",
    "u1_1 = -3.7# 1st trial value of unknown init. cond.\n",
    "u2_1 = -2.2# 2nd trial value of unknown init. cond.\n",
    "u_1 = np.array([u1_1, u2_1])\n",
    "##l=2\n",
    "u1_2 = -3.75086524# 1st trial value of unknown init. cond.\n",
    "u2_2 = -2.21111819# 2nd trial value of unknown init. cond.\n",
    "u_2 = np.array([u1_2, u2_2])\n",
    "##l=3\n",
    "u1_3 = -10.99374281#-9.3#4957282 # 1st trial value of unknown init. cond.\n",
    "u2_3 = -6.46898492#-4.8# 2nd trial value of unknown init. cond.\n",
    "u_3 = np.array([u1_3, u2_3])"
   ]
  },
  {
   "cell_type": "code",
   "execution_count": 87,
   "metadata": {},
   "outputs": [],
   "source": [
    "def Integrate(func,x0,y0,x,h):\n",
    "    # Finds value of y for a given x using step size h \n",
    "    # and initial value y0 at x0.\n",
    "    def RK4(func,x0,y0,h):\n",
    "        K0 = h*func(x0,y0)\n",
    "        K1 = h*func(x0 + 0.5*h, y0 + 0.5*K0)\n",
    "        K2 = h*func(x0 + 0.5*h, y0 + 0.5*K1)\n",
    "        K3 = h*func(x0 + h, y0 + K2)\n",
    "        return (K0 + 2.*K1 + 2.*K2 + K3)/6.\n",
    "    X = []\n",
    "    Y = []\n",
    "    X.append(x0)\n",
    "    Y.append(y0)\n",
    "    while x0 < x:\n",
    "         # Count number of iterations using step size or\n",
    "        h = min(h,x - x0)# step height h\n",
    "        y0 = y0 + RK4(func,x0,y0,h)#update next value of y\n",
    "        x0 = x0 + h#update next value of x\n",
    "        X.append(x0)\n",
    "        Y.append(y0)\n",
    "    return np.array(X),np.array(Y)\n",
    "#########\n",
    "def shooting(func,u,x0,x,xf,step,k,h=0.01):\n",
    "    def res(u):# Boundary condition residual\n",
    "        X,Y = Integrate(func,x0,IC(u,k),x,h)\n",
    "        y = Y[len(Y) - 1]#last value of Y\n",
    "        r = np.zeros(len(u))\n",
    "        r[0] = y[0]#y0(inf)=0\n",
    "        r[1] = y[2]/x + y[3]#y_3(inf)/r + y_4(inf)=0\n",
    "        return r\n",
    "    x_list = []\n",
    "    root_list = []\n",
    "    while x<=xf:\n",
    "        #print(\"x=\",x)\n",
    "        x_list.append(x)\n",
    "        #print(\"u=\",u)\n",
    "        root = optimize.root(res,u)\n",
    "        #print(\"root=\",root)\n",
    "        u = root.x\n",
    "        #print(\"u=\",u)\n",
    "        root_temp = optimize.root(res,root.x)\n",
    "        #print(\"root_temp=\",root_temp)\n",
    "        root_list.append(root_temp.x)\n",
    "        X,Y = Integrate(func,x0,IC(root_temp.x,k),x,h)\n",
    "        x = x+step\n",
    "    return X,Y,root_temp,np.array(x_list),np.array(root_list)\n",
    "########\n",
    "def IC(u,k):#Initial conditions array, the first correspond to the initial condition in phi\n",
    "    return np.array([k,0.0,u[0],0.0,u[1]])\n",
    "########\n",
    "def f0(x,y):\n",
    "    l = 0.\n",
    "    F = np.zeros(5)\n",
    "    if x==0:\n",
    "        F[0] = y[1]\n",
    "        F[1] = 2.*y[0]*(y[2]-y[4])\n",
    "        F[2] = y[3]\n",
    "        F[3] = 0.\n",
    "        F[4] = 0.\n",
    "    else:\n",
    "        F[0] = y[1]\n",
    "        F[1] = -2.*(l+1.)*y[1]/x +2.*y[0]*(y[2]-y[4])\n",
    "        F[2] = y[3]\n",
    "        F[3] = (2.*l+1.)*x**(2.*l)*y[0]**2. - 2.*y[3]/x\n",
    "        F[4] = 0.\n",
    "    return F\n",
    "##########\n",
    "def f1(x,y):\n",
    "    l = 1.\n",
    "    F = np.zeros(5)\n",
    "    if x==0:\n",
    "        F[0] = y[1]\n",
    "        F[1] = 2.*y[0]*(y[2]-y[4])\n",
    "        F[2] = y[3]\n",
    "        F[3] = 0.\n",
    "        F[4] = 0.\n",
    "    else:\n",
    "        F[0] = y[1]\n",
    "        F[1] = -2.*(l+1.)*y[1]/x +2.*y[0]*(y[2]-y[4])\n",
    "        F[2] = y[3]\n",
    "        F[3] = (2.*l+1.)*x**(2.*l)*y[0]**2. - 2.*y[3]/x\n",
    "        F[4] = 0.\n",
    "    return F\n",
    "############\n",
    "def f2(x,y):\n",
    "    l = 2.\n",
    "    F = np.zeros(5)\n",
    "    if x==0:\n",
    "        F[0] = y[1]\n",
    "        F[1] = 2.*y[0]*(y[2]-y[4])\n",
    "        F[2] = y[3]\n",
    "        F[3] = 0.\n",
    "        F[4] = 0.\n",
    "    else:\n",
    "        F[0] = y[1]\n",
    "        F[1] = -2.*(l+1.)*y[1]/x +2.*y[0]*(y[2]-y[4])\n",
    "        F[2] = y[3]\n",
    "        F[3] = (2.*l+1.)*x**(2.*l)*y[0]**2. - 2.*y[3]/x\n",
    "        F[4] = 0.\n",
    "    return F\n",
    "########\n",
    "def f3(x,y):\n",
    "    l = 3.\n",
    "    F = np.zeros(5)\n",
    "    if x==0:\n",
    "        F[0] = y[1]\n",
    "        F[1] = 2.*y[0]*(y[2]-y[4])\n",
    "        F[2] = y[3]\n",
    "        F[3] = 0.\n",
    "        F[4] = 0.\n",
    "    else:\n",
    "        F[0] = y[1]\n",
    "        F[1] = -2.*(l+1.)*y[1]/x +2.*y[0]*(y[2]-y[4])\n",
    "        F[2] = y[3]\n",
    "        F[3] = (2.*l+1.)*x**(2.*l)*y[0]**2. - 2.*y[3]/x\n",
    "        F[4] = 0.\n",
    "    return F\n",
    "########\n",
    "def Mass_func(r,phi,l):\n",
    "    Int = np.zeros(len(r))\n",
    "    dr = np.diff(r)[0]\n",
    "    phi_array = np.array(phi[:,0])\n",
    "    for i in range(0,len(r)-1):\n",
    "        Int[i+1] = dr*(phi_array[i+1]**2.*r[i+1]**(2.*l+2.)) + Int[i]\n",
    "    return Int"
   ]
  },
  {
   "cell_type": "code",
   "execution_count": 88,
   "metadata": {},
   "outputs": [],
   "source": [
    "def Vc2_cir(M,r):\n",
    "    units =8.95e10*eps**2.\n",
    "    return (units*M)/r\n",
    "####\n",
    "##Units for r in kpc\n",
    "###\n",
    "def r_units(r):\n",
    "    return (6.39e-27*r)/(eps*m_a)"
   ]
  },
  {
   "cell_type": "code",
   "execution_count": 101,
   "metadata": {},
   "outputs": [
    {
     "name": "stderr",
     "output_type": "stream",
     "text": [
      "/Users/atalianb/miniconda3/envs/py37/lib/python3.7/site-packages/ipykernel_launcher.py:113: RuntimeWarning: overflow encountered in double_scalars\n",
      "/Users/atalianb/miniconda3/envs/py37/lib/python3.7/site-packages/ipykernel_launcher.py:115: RuntimeWarning: overflow encountered in double_scalars\n",
      "/Users/atalianb/miniconda3/envs/py37/lib/python3.7/site-packages/ipykernel_launcher.py:113: RuntimeWarning: invalid value encountered in double_scalars\n",
      "/Users/atalianb/miniconda3/envs/py37/lib/python3.7/site-packages/ipykernel_launcher.py:115: RuntimeWarning: invalid value encountered in double_scalars\n"
     ]
    }
   ],
   "source": [
    "X0_f,Y0_f,root0_f,arr_x0,arr_list0=shooting(f0,u_0,x0_0v1,x0_0,xf_0v1,step_0,k=1.)\n",
    "X1_f,Y1_f,root1_f,arr_x1,arr_list1=shooting(f1,u_1,x0_0v1,x0_0,xf_0v1,step_0,k=1.)\n",
    "X2_f,Y2_f,root2_f,arr_x2,arr_list2=shooting(f2,u_2,x0_0v1,x0_0,xf_0v1,step_0,k=1.)\n",
    "X3_f,Y3_f,root3_f,arr_x3,arr_list3=shooting(f3,u_3,x0_0v1,x0_0,xf_0v1,step_0,k=1.)"
   ]
  },
  {
   "cell_type": "code",
   "execution_count": 102,
   "metadata": {},
   "outputs": [
    {
     "data": {
      "text/plain": [
       "<matplotlib.legend.Legend at 0x7fd9d7dd97d0>"
      ]
     },
     "execution_count": 102,
     "metadata": {},
     "output_type": "execute_result"
    },
    {
     "data": {
      "image/png": "[encoded data removed]",
      "text/plain": [
       "<Figure size 432x288 with 1 Axes>"
      ]
     },
     "metadata": {
      "needs_background": "light"
     },
     "output_type": "display_data"
    }
   ],
   "source": [
    "plt.plot(X0_f,Y0_f[:,0],label='l=0')\n",
    "plt.plot(X1_f,Y1_f[:,0],label='l=1')\n",
    "plt.plot(X2_f,Y2_f[:,0],label='l=2')\n",
    "plt.plot(X3_f,Y3_f[:,0],label='l=3')\n",
    "plt.legend(loc='upper right', prop={'size':10})"
   ]
  },
  {
   "cell_type": "code",
   "execution_count": 120,
   "metadata": {},
   "outputs": [],
   "source": [
    "Xl0 = X0_f*rescaling(phi0_0,l=0.)\n",
    "Xl1 = X1_f*rescaling(phi0_1,l=1.)\n",
    "Xl2 = X2_f*rescaling(phi0_2,l=2.)\n",
    "Xl3 = X3_f*rescaling(phi0_3,l=3.)"
   ]
  },
  {
   "cell_type": "code",
   "execution_count": 121,
   "metadata": {},
   "outputs": [
    {
     "data": {
      "text/plain": [
       "<matplotlib.legend.Legend at 0x7fd9d83eae10>"
      ]
     },
     "execution_count": 121,
     "metadata": {},
     "output_type": "execute_result"
    },
    {
     "data": {
      "image/png": "[encoded data removed]",
      "text/plain": [
       "<Figure size 432x288 with 1 Axes>"
      ]
     },
     "metadata": {
      "needs_background": "light"
     },
     "output_type": "display_data"
    }
   ],
   "source": [
    "plt.plot(Xl0,Y0_f[:,0]*phi0_0,label='l=0')\n",
    "plt.plot(Xl1,Y1_f[:,0]*phi0_1,label='l=1')\n",
    "plt.plot(Xl2,Y2_f[:,0]*phi0_2,label='l=2')\n",
    "plt.plot(Xl3,Y3_f[:,0]*phi0_3,label='l=3')\n",
    "plt.legend(loc='upper right', prop={'size':10})"
   ]
  },
  {
   "cell_type": "code",
   "execution_count": 122,
   "metadata": {},
   "outputs": [],
   "source": [
    "M_r0 = Mass_func(Xl0,Y0_f*phi0_0,l=0)\n",
    "M_r1 = Mass_func(Xl1,Y1_f*phi0_1,l=1)\n",
    "M_r2 = Mass_func(Xl2,Y2_f*phi0_2,l=2)\n",
    "M_r3 = Mass_func(Xl3,Y3_f*phi0_3,l=3)"
   ]
  },
  {
   "cell_type": "code",
   "execution_count": 123,
   "metadata": {},
   "outputs": [],
   "source": [
    "Vc2_r0 = Vc2_cir(M_r0,Xl0)\n",
    "Vc2_r1 = Vc2_cir(M_r1,Xl1)\n",
    "Vc2_r2 = Vc2_cir(M_r2,Xl2)\n",
    "Vc2_r3 = Vc2_cir(M_r3,Xl3)"
   ]
  },
  {
   "cell_type": "code",
   "execution_count": 124,
   "metadata": {},
   "outputs": [],
   "source": [
    "X0_units = r_units(Xl0)\n",
    "X1_units = r_units(Xl1)\n",
    "X2_units = r_units(Xl2)\n",
    "X3_units = r_units(Xl3)"
   ]
  },
  {
   "cell_type": "code",
   "execution_count": 125,
   "metadata": {},
   "outputs": [],
   "source": [
    "Vc_tot = np.sqrt(Vc2_r0 + Vc2_r1 + Vc2_r2 + Vc2_r3)"
   ]
  },
  {
   "cell_type": "code",
   "execution_count": 97,
   "metadata": {},
   "outputs": [
    {
     "name": "stdout",
     "output_type": "stream",
     "text": [
      "/Users/atalianb/Documents/Descargas_win/projects/Transfer_from_ubuntu/ShootingMethod\n"
     ]
    }
   ],
   "source": [
    "!pwd"
   ]
  },
  {
   "cell_type": "code",
   "execution_count": 128,
   "metadata": {},
   "outputs": [
    {
     "data": {
      "image/png": "[encoded data removed]",
      "text/plain": [
       "<Figure size 432x288 with 1 Axes>"
      ]
     },
     "metadata": {
      "needs_background": "light"
     },
     "output_type": "display_data"
    }
   ],
   "source": [
    "plt.errorbar(vecRp_data,vecvRp_data,yerr=vecerrvRp_data,fmt='.',label='data')\n",
    "plt.plot(X0_units,np.sqrt(Vc2_r0),label='l=0, 'r'$ \\phi_{0}=$'+str(phi0_0))\n",
    "plt.plot(X1_units,np.sqrt(Vc2_r1),label='l=1, 'r'$ \\phi_{0}=$'+str(phi0_1))\n",
    "plt.plot(X2_units,np.sqrt(Vc2_r2),label='l=2, 'r'$ \\phi_{0}=$'+str(phi0_2))\n",
    "plt.plot(X3_units,np.sqrt(Vc2_r3),label='l=3, 'r'$ \\phi_{0}=$'+str(phi0_3))\n",
    "plt.plot(X2_units,Vc_tot,label='total')\n",
    "plt.ylabel(r'$v_{c}(r)$[km/s]')\n",
    "plt.xlabel(\"r[kpc]\")\n",
    "plt.xlim(0,vecRp_data[-1] +0.1)\n",
    "plt.legend(loc='upper left', prop={'size':9})\n",
    "plt.title('D564-8_rotmod.dat')\n",
    "plt.savefig('D564-8_rotmod_m_a10-22_Vc_tot_l0123_phi0_'+str(phi0_0)+'phi1_'+str(phi0_1)+'phi2_'+str(phi0_2)+'phi3_'+str(phi0_3)+'.pdf')"
   ]
  },
  {
   "cell_type": "code",
   "execution_count": null,
   "metadata": {},
   "outputs": [],
   "source": []
  }
 ],
 "metadata": {
  "kernelspec": {
   "display_name": "Python 3",
   "language": "python",
   "name": "python3"
  },
  "language_info": {
   "codemirror_mode": {
    "name": "ipython",
    "version": 3
   },
   "file_extension": ".py",
   "mimetype": "text/x-python",
   "name": "python",
   "nbconvert_exporter": "python",
   "pygments_lexer": "ipython3",
   "version": "3.7.7"
  }
 },
 "nbformat": 4,
 "nbformat_minor": 4
}
