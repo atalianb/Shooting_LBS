{
 "cells": [
  {
   "cell_type": "code",
   "execution_count": 1,
   "metadata": {},
   "outputs": [],
   "source": [
    "import numpy as np\n",
    "import matplotlib.pyplot as plt\n",
    "from scipy import optimize\n",
    "from scipy import integrate\n",
    "from scipy import interpolate"
   ]
  },
  {
   "cell_type": "code",
   "execution_count": 2,
   "metadata": {},
   "outputs": [],
   "source": [
    "path = \"/Users/atalianb/Documents/data_LBSG/Blok_McGaugh_& _Rubin_(2001)/\""
   ]
  },
  {
   "cell_type": "code",
   "execution_count": 3,
   "metadata": {},
   "outputs": [],
   "source": [
    "ESO3020120 = np.loadtxt(path+'ESO3020120.dat')"
   ]
  },
  {
   "cell_type": "code",
   "execution_count": 4,
   "metadata": {},
   "outputs": [],
   "source": [
    "vecRp_ESO3020120 = np.array([row[1] for row in ESO3020120])# galactocentric distance [kpc]\n",
    "vecvRp_ESO3020120 = np.array([row[5] for row in ESO3020120])# rotation velocity [km/s]\n",
    "vecerrvRp_ESO3020120 = np.array([row[6] for row in ESO3020120])# error in rotation velocity [km/s]"
   ]
  },
  {
   "cell_type": "code",
   "execution_count": 5,
   "metadata": {},
   "outputs": [
    {
     "data": {
      "text/plain": [
       "Text(0.5, 0, 'r[kpc]')"
      ]
     },
     "execution_count": 5,
     "metadata": {},
     "output_type": "execute_result"
    },
    {
     "data": {
      "image/png": "[encoded data removed]",
      "text/plain": [
       "<Figure size 432x288 with 1 Axes>"
      ]
     },
     "metadata": {
      "needs_background": "light"
     },
     "output_type": "display_data"
    }
   ],
   "source": [
    "plt.errorbar(vecRp_ESO3020120,vecvRp_ESO3020120,yerr=vecerrvRp_ESO3020120,fmt='.')\n",
    "plt.ylabel(r'$v_{c}(r)$[km/s]')\n",
    "plt.xlabel(\"r[kpc]\")"
   ]
  },
  {
   "cell_type": "code",
   "execution_count": 7,
   "metadata": {},
   "outputs": [],
   "source": [
    "##Values\n",
    "####\n",
    "eps_ = 2.5e-4#\n",
    "m_a_ = 1.0e-22#eV/c^2\n",
    "G_kpc = 4.302e-6#kpc/SolarMass(km/s)^2\n",
    "####\n",
    "##Integration values\n",
    "###\n",
    "x0_0 = 3.#first integration\n",
    "x0_0v1 = 0.01# Start of integration. Use 0.01 for continuity in l=3 solution, for 0,1,2 0.0 it's ok\n",
    "xf_0v1 = 10.# End of integration\n",
    "step_0 = 0.5#Step to integrate from x0_0 until xf_0v1 is reached\n",
    "###l=1 \n",
    "u1_1 = -3.7# 1st trial value of unknown init. cond.\n",
    "u2_1 = -2.2# 2nd trial value of unknown init. cond.\n",
    "u_1 = np.array([u1_1, u2_1])"
   ]
  },
  {
   "cell_type": "code",
   "execution_count": 8,
   "metadata": {},
   "outputs": [],
   "source": [
    "def Integrate(func,x0,y0,x,h):\n",
    "    # Finds value of y for a given x using step size h \n",
    "    # and initial value y0 at x0.\n",
    "    def RK4(func,x0,y0,h):\n",
    "        K0 = h*func(x0,y0)\n",
    "        K1 = h*func(x0 + 0.5*h, y0 + 0.5*K0)\n",
    "        K2 = h*func(x0 + 0.5*h, y0 + 0.5*K1)\n",
    "        K3 = h*func(x0 + h, y0 + K2)\n",
    "        return (K0 + 2.*K1 + 2.*K2 + K3)/6.\n",
    "    X = []\n",
    "    Y = []\n",
    "    X.append(x0)\n",
    "    Y.append(y0)\n",
    "    while x0 < x:\n",
    "         # Count number of iterations using step size or\n",
    "        h = min(h,x - x0)# step height h\n",
    "        y0 = y0 + RK4(func,x0,y0,h)#update next value of y\n",
    "        x0 = x0 + h#update next value of x\n",
    "        X.append(x0)\n",
    "        Y.append(y0)\n",
    "    return np.array(X),np.array(Y)"
   ]
  },
  {
   "cell_type": "code",
   "execution_count": 9,
   "metadata": {},
   "outputs": [],
   "source": [
    "def shooting(func,u,x0,x,xf,step,k,h=0.01):\n",
    "    def res(u):# Boundary condition residual\n",
    "        X,Y = Integrate(func,x0,IC(u,k),x,h)\n",
    "        y = Y[len(Y) - 1]#last value of Y\n",
    "        r = np.zeros(len(u))\n",
    "        r[0] = y[0]#y0(inf)=0\n",
    "        r[1] = y[2]/x + y[3]#y_3(inf)/r + y_4(inf)=0\n",
    "        return r\n",
    "    x_list = []\n",
    "    root_list = []\n",
    "    while x<=xf:\n",
    "        x_list.append(x)\n",
    "        root = optimize.root(res,u)\n",
    "        u = root.x\n",
    "        root_temp = optimize.root(res,root.x)\n",
    "        root_list.append(root_temp.x)\n",
    "        X,Y = Integrate(func,x0,IC(root_temp.x,k),x,h)\n",
    "        x = x+step\n",
    "    return X,Y,root_temp,np.array(x_list),np.array(root_list)"
   ]
  },
  {
   "cell_type": "code",
   "execution_count": 10,
   "metadata": {},
   "outputs": [],
   "source": [
    "def IC(u,k):#Initial conditions array, the first correspond to the initial condition in phi\n",
    "    return np.array([k,0.0,u[0],0.0,u[1]])"
   ]
  },
  {
   "cell_type": "code",
   "execution_count": 11,
   "metadata": {},
   "outputs": [],
   "source": [
    "def f1(x,y):\n",
    "    l = 1.\n",
    "    F = np.zeros(5)\n",
    "    if x==0:\n",
    "        F[0] = y[1]\n",
    "        F[1] = 2.*y[0]*(y[2]-y[4])\n",
    "        F[2] = y[3]\n",
    "        F[3] = 0.\n",
    "        F[4] = 0.\n",
    "    else:\n",
    "        F[0] = y[1]\n",
    "        F[1] = -2.*(l+1.)*y[1]/x +2.*y[0]*(y[2]-y[4])\n",
    "        F[2] = y[3]\n",
    "        F[3] = (2.*l+1.)*x**(2.*l)*y[0]**2. - 2.*y[3]/x\n",
    "        F[4] = 0.\n",
    "    return F"
   ]
  },
  {
   "cell_type": "code",
   "execution_count": 12,
   "metadata": {},
   "outputs": [],
   "source": [
    "def Mass_func(r,phi,l):\n",
    "    Int = np.zeros(len(r))\n",
    "    dr = np.diff(r)[0]\n",
    "    phi_array = np.array(phi[:,0])\n",
    "    for i in range(0,len(r)-1):\n",
    "        Int[i+1] = dr*(phi_array[i+1]**2.*r[i+1]**(2.*l+2.)) + Int[i]\n",
    "    return Int"
   ]
  },
  {
   "cell_type": "code",
   "execution_count": 13,
   "metadata": {},
   "outputs": [],
   "source": [
    "def Vc2_cir(r,eps,M):\n",
    "    units =8.95e10*eps**2.\n",
    "    return (units*M)/r\n",
    "####\n",
    "##Units for r in kpc\n",
    "###\n",
    "def r_units(r,eps,m_a):\n",
    "    return (6.39e-27*r)/(eps*m_a)"
   ]
  },
  {
   "cell_type": "code",
   "execution_count": 14,
   "metadata": {},
   "outputs": [],
   "source": [
    "#The function integrate f0 with the shooting method,\n",
    "#integrates to find the M(r) and returns the r[kpc] and Vc[km/s] \n",
    "#if the last element of r[kpc] array is minor than the last element of the r data array\n",
    "#takes the last element of the M(r) array and compute the Vc^2 for the rest of the r elements\n",
    "def Vc_xy(r,m_a,eps,l=1.):\n",
    "    X0,Y0,root0_f,arr_x0,arr_list0=shooting(f1,u_1,x0_0v1,x0_0,xf_0v1,step_0,k=1.)\n",
    "    M_r0 = Mass_func(X0,Y0,l=1.)#Integrates rho(r) to obtain M(r)\n",
    "    Vc2_r0 = Vc2_cir(X0,eps,M_r0)#Vc^2[km/s]^2 theoretical\n",
    "    X0_units = r_units(X0,eps,m_a)#r[kpc] theoretical\n",
    "    M_r0_units = M_r0*eps*1.34e-10/m_a#M(r) with Solar Mass units\n",
    "    if X0_units[-1]<r[-1]:\n",
    "        #array from last element of the r[kpc] theoretical to the last element of the data array,\n",
    "        # with 80 elements. It can be replaced by np.arange(X0_units[-1],vecRp_data[-1],0.1) \n",
    "        #but you have to be careful in the next function with interpolate\n",
    "        r_array = np.linspace(X0_units[-1],r[-1],80)\n",
    "        Vc2_rmayor = G_kpc*M_r0_units[-1]/r_array#Computes Vc^2 with with the last result from M(r)\n",
    "        Vc2_total = np.append(Vc2_r0,Vc2_rmayor)#creates an array of Vc^2 with Vc2_r0 and Vc2_rmayor\n",
    "        r_total = np.append(X0_units,r_array)\n",
    "        return r_total,np.sqrt(Vc2_total)\n",
    "    else:\n",
    "        return X0_units,np.sqrt(Vc2_r0)"
   ]
  },
  {
   "cell_type": "code",
   "execution_count": 15,
   "metadata": {},
   "outputs": [],
   "source": [
    "def Vc_xi2(r,m_a,eps,l=1.):\n",
    "    Vc = Vc_xy(r,m_a,eps)\n",
    "    #If you want to use np.arange in the previous function, It is recommended to use extrapolate\n",
    "    f = interpolate.interp1d(Vc[0],Vc[1],fill_value='extrapolate')\n",
    "    Vc_new = f(r)\n",
    "    return Vc_new"
   ]
  },
  {
   "cell_type": "markdown",
   "metadata": {},
   "source": [
    "# $\\chi^{2}$"
   ]
  },
  {
   "cell_type": "markdown",
   "metadata": {},
   "source": [
    "# ESO3020120"
   ]
  },
  {
   "cell_type": "markdown",
   "metadata": {},
   "source": [
    "$\\epsilon$"
   ]
  },
  {
   "cell_type": "code",
   "execution_count": 16,
   "metadata": {},
   "outputs": [],
   "source": [
    "def Chi2_eps_ESO3020120(parameter):\n",
    "    eps = np.exp(parameter)\n",
    "    model = Vc_xi2(vecRp_ESO3020120,m_a_,eps,l=1.)\n",
    "    xi = np.sum((vecvRp_ESO3020120-model)**2./(vecerrvRp_ESO3020120)**2.)\n",
    "    return xi"
   ]
  },
  {
   "cell_type": "code",
   "execution_count": 17,
   "metadata": {},
   "outputs": [
    {
     "name": "stdout",
     "output_type": "stream",
     "text": [
      "      fun: 156.794791397851\n",
      " hess_inv: <1x1 LbfgsInvHessProduct with dtype=float64>\n",
      "      jac: array([0.00108855])\n",
      "  message: b'CONVERGENCE: REL_REDUCTION_OF_F_<=_FACTR*EPSMCH'\n",
      "     nfev: 20\n",
      "      nit: 6\n",
      "     njev: 10\n",
      "   status: 0\n",
      "  success: True\n",
      "        x: array([-8.07314252])\n"
     ]
    }
   ],
   "source": [
    "x0_eps_ESO3020120 = np.array(np.log(1.0e-4))\n",
    "LS_eps_ESO3020120 = optimize.minimize(Chi2_eps_ESO3020120,x0_eps_ESO3020120,method='L-BFGS-B',bounds=((np.log(1.0e-6),np.log(1.0e-3)),))\n",
    "print(LS_eps_ESO3020120)"
   ]
  },
  {
   "cell_type": "code",
   "execution_count": 18,
   "metadata": {},
   "outputs": [
    {
     "name": "stdout",
     "output_type": "stream",
     "text": [
      "[0.0003118]\n"
     ]
    }
   ],
   "source": [
    "print(np.exp(LS_eps_ESO3020120.x))"
   ]
  },
  {
   "cell_type": "code",
   "execution_count": 19,
   "metadata": {},
   "outputs": [
    {
     "name": "stderr",
     "output_type": "stream",
     "text": [
      "/Users/atalianb/miniconda3/envs/py37/lib/python3.7/site-packages/ipykernel_launcher.py:2: DeprecationWarning: np.asscalar(a) is deprecated since NumPy v1.16, use a.item() instead\n",
      "  \n"
     ]
    },
    {
     "data": {
      "text/plain": [
       "Text(0.5, 0, 'r[kpc]')"
      ]
     },
     "execution_count": 19,
     "metadata": {},
     "output_type": "execute_result"
    },
    {
     "data": {
      "image/png": "[encoded data removed]",
      "text/plain": [
       "<Figure size 432x288 with 1 Axes>"
      ]
     },
     "metadata": {
      "needs_background": "light"
     },
     "output_type": "display_data"
    }
   ],
   "source": [
    "plt.errorbar(vecRp_ESO3020120,vecvRp_ESO3020120,yerr=vecerrvRp_ESO3020120,fmt='.')\n",
    "plt.plot(vecRp_ESO3020120,Vc_xi2(vecRp_ESO3020120,m_a_,np.asscalar(np.exp(LS_eps_ESO3020120.x))))\n",
    "plt.ylabel(r'$v_{c}(r)$[km/s]')\n",
    "plt.xlabel(\"r[kpc]\")"
   ]
  },
  {
   "cell_type": "markdown",
   "metadata": {},
   "source": [
    "$m_{a}$"
   ]
  },
  {
   "cell_type": "code",
   "execution_count": 20,
   "metadata": {},
   "outputs": [],
   "source": [
    "def Chi2_m_a_ESO3020120(parameter):\n",
    "    m_a = np.exp(parameter)\n",
    "    model = Vc_xi2(vecRp_ESO3020120,m_a,eps_,l=1.)\n",
    "    xi = np.sum((vecvRp_ESO3020120-model)**2./(vecerrvRp_ESO3020120)**2.)\n",
    "    return xi"
   ]
  },
  {
   "cell_type": "code",
   "execution_count": 21,
   "metadata": {},
   "outputs": [
    {
     "name": "stdout",
     "output_type": "stream",
     "text": [
      "      fun: 44.392371467061935\n",
      " hess_inv: <1x1 LbfgsInvHessProduct with dtype=float64>\n",
      "      jac: array([0.])\n",
      "  message: b'CONVERGENCE: NORM_OF_PROJECTED_GRADIENT_<=_PGTOL'\n",
      "     nfev: 18\n",
      "      nit: 6\n",
      "     njev: 9\n",
      "   status: 0\n",
      "  success: True\n",
      "        x: array([-52.46626756])\n"
     ]
    }
   ],
   "source": [
    "x0_m_a_ESO3020120 = np.array(np.log(1.0e-23))\n",
    "LS_m_a_ESO3020120 = optimize.minimize(Chi2_m_a_ESO3020120,x0_m_a_ESO3020120,method='L-BFGS-B',bounds=((np.log(1.0e-24),np.log(1.0e-20)),))\n",
    "print(LS_m_a_ESO3020120)"
   ]
  },
  {
   "cell_type": "code",
   "execution_count": 22,
   "metadata": {},
   "outputs": [
    {
     "name": "stdout",
     "output_type": "stream",
     "text": [
      "[1.63753093e-23]\n"
     ]
    }
   ],
   "source": [
    "print(np.exp(LS_m_a_ESO3020120.x))"
   ]
  },
  {
   "cell_type": "code",
   "execution_count": 23,
   "metadata": {},
   "outputs": [
    {
     "name": "stderr",
     "output_type": "stream",
     "text": [
      "/Users/atalianb/miniconda3/envs/py37/lib/python3.7/site-packages/ipykernel_launcher.py:2: DeprecationWarning: np.asscalar(a) is deprecated since NumPy v1.16, use a.item() instead\n",
      "  \n"
     ]
    },
    {
     "data": {
      "text/plain": [
       "Text(0.5, 0, 'r[kpc]')"
      ]
     },
     "execution_count": 23,
     "metadata": {},
     "output_type": "execute_result"
    },
    {
     "data": {
      "image/png": "[encoded data removed]",
      "text/plain": [
       "<Figure size 432x288 with 1 Axes>"
      ]
     },
     "metadata": {
      "needs_background": "light"
     },
     "output_type": "display_data"
    }
   ],
   "source": [
    "plt.errorbar(vecRp_ESO3020120,vecvRp_ESO3020120,yerr=vecerrvRp_ESO3020120,fmt='.')\n",
    "plt.plot(vecRp_ESO3020120,Vc_xi2(vecRp_ESO3020120,np.asscalar(np.exp(LS_m_a_ESO3020120.x)),eps_))\n",
    "plt.ylabel(r'$v_{c}(r)$[km/s]')\n",
    "plt.xlabel(\"r[kpc]\")"
   ]
  },
  {
   "cell_type": "markdown",
   "metadata": {},
   "source": [
    "# Dos parámetros"
   ]
  },
  {
   "cell_type": "markdown",
   "metadata": {},
   "source": [
    "$m_{a}$ y $\\epsilon$"
   ]
  },
  {
   "cell_type": "code",
   "execution_count": 25,
   "metadata": {},
   "outputs": [],
   "source": [
    "def Vc_l0_m_a_eps(r,params):\n",
    "    m_a,eps = params\n",
    "    return Vc_xi2(r,m_a,eps,l=1.)"
   ]
  },
  {
   "cell_type": "code",
   "execution_count": 27,
   "metadata": {},
   "outputs": [],
   "source": [
    "def Xi2_m_a_eps_ESO3020120(params):\n",
    "    m_a,eps = params\n",
    "    par = np.exp(m_a),np.exp(eps)\n",
    "    model = Vc_l0_m_a_eps(vecRp_ESO3020120,par)\n",
    "    xi  = np.sum((vecvRp_ESO3020120-model)**2./(vecerrvRp_ESO3020120)**2.)\n",
    "    return xi"
   ]
  },
  {
   "cell_type": "code",
   "execution_count": 28,
   "metadata": {},
   "outputs": [
    {
     "name": "stdout",
     "output_type": "stream",
     "text": [
      "      fun: 8.60753201763043\n",
      " hess_inv: <2x2 LbfgsInvHessProduct with dtype=float64>\n",
      "      jac: array([0.00033218, 0.00056559])\n",
      "  message: b'CONVERGENCE: REL_REDUCTION_OF_F_<=_FACTR*EPSMCH'\n",
      "     nfev: 42\n",
      "      nit: 8\n",
      "     njev: 14\n",
      "   status: 0\n",
      "  success: True\n",
      "        x: array([-53.08461864,  -7.88531665])\n"
     ]
    }
   ],
   "source": [
    "x0_m_a_eps_ESO3020120 = np.array([np.log(1.0e-23),np.log(1.0e-4)])\n",
    "LS_m_a_eps_ESO3020120 = optimize.minimize(Xi2_m_a_eps_ESO3020120,x0_m_a_eps_ESO3020120,method='L-BFGS-B',bounds=((np.log(1.0e-24),np.log(1.0e-20)),(np.log(1.0e-5),np.log(1.)),))\n",
    "print(LS_m_a_eps_ESO3020120)"
   ]
  },
  {
   "cell_type": "code",
   "execution_count": 29,
   "metadata": {},
   "outputs": [
    {
     "name": "stdout",
     "output_type": "stream",
     "text": [
      "[8.82354392e-24 3.76227460e-04]\n"
     ]
    }
   ],
   "source": [
    "print(np.exp(LS_m_a_eps_ESO3020120.x))"
   ]
  },
  {
   "cell_type": "code",
   "execution_count": 31,
   "metadata": {},
   "outputs": [
    {
     "name": "stderr",
     "output_type": "stream",
     "text": [
      "/Users/atalianb/miniconda3/envs/py37/lib/python3.7/site-packages/ipykernel_launcher.py:2: DeprecationWarning: np.asscalar(a) is deprecated since NumPy v1.16, use a.item() instead\n",
      "  \n"
     ]
    },
    {
     "data": {
      "text/plain": [
       "Text(0.5, 1.0, '$m_{a}$=8.823543924447775e-24$\\\\epsilon$=0.0003762274604582216')"
      ]
     },
     "execution_count": 31,
     "metadata": {},
     "output_type": "execute_result"
    },
    {
     "data": {
      "image/png": "[encoded data removed]",
      "text/plain": [
       "<Figure size 432x288 with 1 Axes>"
      ]
     },
     "metadata": {
      "needs_background": "light"
     },
     "output_type": "display_data"
    }
   ],
   "source": [
    "plt.errorbar(vecRp_ESO3020120,vecvRp_ESO3020120,yerr=vecerrvRp_ESO3020120,fmt='.')\n",
    "plt.plot(vecRp_ESO3020120,Vc_xi2(vecRp_ESO3020120,np.asscalar(np.exp(LS_m_a_eps_ESO3020120.x[0])),np.asscalar(np.exp(LS_m_a_eps_ESO3020120.x[1]))))\n",
    "plt.ylabel(r'$v_{c}(r)$[km/s]')\n",
    "plt.xlabel(\"r[kpc]\")\n",
    "plt.title(r'$m_{a}$='+str(np.exp(LS_m_a_eps_ESO3020120.x[0]))+r'$\\epsilon$='+str(np.exp(LS_m_a_eps_ESO3020120.x[1])))"
   ]
  },
  {
   "cell_type": "markdown",
   "metadata": {},
   "source": [
    "# ESO3050090"
   ]
  },
  {
   "cell_type": "code",
   "execution_count": 32,
   "metadata": {},
   "outputs": [],
   "source": [
    "ESO3050090 = np.loadtxt(path+'ESO3050090.dat')"
   ]
  },
  {
   "cell_type": "code",
   "execution_count": 33,
   "metadata": {},
   "outputs": [],
   "source": [
    "vecRp_ESO3050090 = np.array([row[1] for row in ESO3050090])# galactocentric distance [kpc]\n",
    "vecvRp_ESO3050090 = np.array([row[5] for row in ESO3050090])# rotation velocity [km/s]\n",
    "vecerrvRp_ESO3050090 = np.array([row[6] for row in ESO3050090])# error in rotation velocity [km/s]"
   ]
  },
  {
   "cell_type": "code",
   "execution_count": 34,
   "metadata": {},
   "outputs": [
    {
     "data": {
      "text/plain": [
       "Text(0.5, 0, 'r[kpc]')"
      ]
     },
     "execution_count": 34,
     "metadata": {},
     "output_type": "execute_result"
    },
    {
     "data": {
      "image/png": "[encoded data removed]",
      "text/plain": [
       "<Figure size 432x288 with 1 Axes>"
      ]
     },
     "metadata": {
      "needs_background": "light"
     },
     "output_type": "display_data"
    }
   ],
   "source": [
    "plt.errorbar(vecRp_ESO3050090,vecvRp_ESO3050090,yerr=vecerrvRp_ESO3050090,fmt='.')\n",
    "plt.ylabel(r'$v_{c}(r)$[km/s]')\n",
    "plt.xlabel(\"r[kpc]\")"
   ]
  },
  {
   "cell_type": "markdown",
   "metadata": {},
   "source": [
    "# $\\chi^{2}$"
   ]
  },
  {
   "cell_type": "markdown",
   "metadata": {},
   "source": [
    "$m_{a}$ y $\\epsilon$"
   ]
  },
  {
   "cell_type": "code",
   "execution_count": 35,
   "metadata": {},
   "outputs": [],
   "source": [
    "def Xi2_m_a_eps_ESO3050090(params):\n",
    "    m_a,eps = params\n",
    "    par = np.exp(m_a),np.exp(eps)\n",
    "    model = Vc_l0_m_a_eps(vecRp_ESO3050090,par)\n",
    "    xi  = np.sum((vecvRp_ESO3050090-model)**2./(vecerrvRp_ESO3050090)**2.)\n",
    "    return xi"
   ]
  },
  {
   "cell_type": "code",
   "execution_count": 36,
   "metadata": {},
   "outputs": [
    {
     "name": "stdout",
     "output_type": "stream",
     "text": [
      "      fun: 11.112756132424508\n",
      " hess_inv: <2x2 LbfgsInvHessProduct with dtype=float64>\n",
      "      jac: array([6.89226397e-05, 4.97379874e-05])\n",
      "  message: b'CONVERGENCE: REL_REDUCTION_OF_F_<=_FACTR*EPSMCH'\n",
      "     nfev: 51\n",
      "      nit: 11\n",
      "     njev: 17\n",
      "   status: 0\n",
      "  success: True\n",
      "        x: array([-52.11804376,  -8.4532485 ])\n"
     ]
    }
   ],
   "source": [
    "x0_m_a_eps_ESO3050090 = np.array([np.log(1.0e-23),np.log(1.0e-4)])\n",
    "LS_m_a_eps_ESO3050090 = optimize.minimize(Xi2_m_a_eps_ESO3050090,x0_m_a_eps_ESO3050090,method='L-BFGS-B',bounds=((np.log(1.0e-24),np.log(1.0e-20)),(np.log(1.0e-5),np.log(1.)),))\n",
    "print(LS_m_a_eps_ESO3050090)"
   ]
  },
  {
   "cell_type": "code",
   "execution_count": 37,
   "metadata": {},
   "outputs": [
    {
     "name": "stdout",
     "output_type": "stream",
     "text": [
      "[2.31964320e-23 2.13206686e-04]\n"
     ]
    }
   ],
   "source": [
    "print(np.exp(LS_m_a_eps_ESO3050090.x))"
   ]
  },
  {
   "cell_type": "code",
   "execution_count": 39,
   "metadata": {},
   "outputs": [
    {
     "name": "stderr",
     "output_type": "stream",
     "text": [
      "/Users/atalianb/miniconda3/envs/py37/lib/python3.7/site-packages/ipykernel_launcher.py:2: DeprecationWarning: np.asscalar(a) is deprecated since NumPy v1.16, use a.item() instead\n",
      "  \n"
     ]
    },
    {
     "data": {
      "text/plain": [
       "Text(0.5, 0, 'r[kpc]')"
      ]
     },
     "execution_count": 39,
     "metadata": {},
     "output_type": "execute_result"
    },
    {
     "data": {
      "image/png": "[encoded data removed]",
      "text/plain": [
       "<Figure size 432x288 with 1 Axes>"
      ]
     },
     "metadata": {
      "needs_background": "light"
     },
     "output_type": "display_data"
    }
   ],
   "source": [
    "plt.errorbar(vecRp_ESO3050090,vecvRp_ESO3050090,yerr=vecerrvRp_ESO3050090,fmt='.')\n",
    "plt.plot(vecRp_ESO3050090,Vc_xi2(vecRp_ESO3050090,np.asscalar(np.exp(LS_m_a_eps_ESO3050090.x[0])),np.asscalar(np.exp(LS_m_a_eps_ESO3050090.x[1]))))\n",
    "plt.ylabel(r'$v_{c}(r)$[km/s]')\n",
    "plt.xlabel(\"r[kpc]\")"
   ]
  },
  {
   "cell_type": "markdown",
   "metadata": {},
   "source": [
    "# ESO4880049"
   ]
  },
  {
   "cell_type": "code",
   "execution_count": 40,
   "metadata": {},
   "outputs": [],
   "source": [
    "ESO4880049 = np.loadtxt(path+'ESO4880049.dat')"
   ]
  },
  {
   "cell_type": "code",
   "execution_count": 41,
   "metadata": {},
   "outputs": [],
   "source": [
    "vecRp_ESO4880049 = np.array([row[1] for row in ESO4880049])# galactocentric distance [kpc]\n",
    "vecvRp_ESO4880049 = np.array([row[5] for row in ESO4880049])# rotation velocity [km/s]\n",
    "vecerrvRp_ESO4880049 = np.array([row[6] for row in ESO4880049])# error in rotation velocity [km/s]"
   ]
  },
  {
   "cell_type": "code",
   "execution_count": 42,
   "metadata": {},
   "outputs": [
    {
     "data": {
      "text/plain": [
       "Text(0.5, 0, 'r[kpc]')"
      ]
     },
     "execution_count": 42,
     "metadata": {},
     "output_type": "execute_result"
    },
    {
     "data": {
      "image/png": "[encoded data removed]",
      "text/plain": [
       "<Figure size 432x288 with 1 Axes>"
      ]
     },
     "metadata": {
      "needs_background": "light"
     },
     "output_type": "display_data"
    }
   ],
   "source": [
    "plt.errorbar(vecRp_ESO4880049,vecvRp_ESO4880049,yerr=vecerrvRp_ESO4880049,fmt='.')\n",
    "plt.ylabel(r'$v_{c}(r)$[km/s]')\n",
    "plt.xlabel(\"r[kpc]\")"
   ]
  },
  {
   "cell_type": "markdown",
   "metadata": {},
   "source": [
    "# $\\chi^{2}$"
   ]
  },
  {
   "cell_type": "markdown",
   "metadata": {},
   "source": [
    "$m_{a}$ y $\\epsilon$"
   ]
  },
  {
   "cell_type": "code",
   "execution_count": 43,
   "metadata": {},
   "outputs": [],
   "source": [
    "def Xi2_m_a_eps_ESO4880049(params):\n",
    "    m_a,eps = params\n",
    "    par = np.exp(m_a),np.exp(eps)\n",
    "    model = Vc_l0_m_a_eps(vecRp_ESO4880049,par)\n",
    "    xi  = np.sum((vecvRp_ESO4880049-model)**2./(vecerrvRp_ESO4880049)**2.)\n",
    "    return xi"
   ]
  },
  {
   "cell_type": "code",
   "execution_count": 44,
   "metadata": {},
   "outputs": [
    {
     "name": "stdout",
     "output_type": "stream",
     "text": [
      "      fun: 348.8342342611341\n",
      " hess_inv: <2x2 LbfgsInvHessProduct with dtype=float64>\n",
      "      jac: array([4.1388713 , 4.17015829])\n",
      "  message: b'CONVERGENCE: REL_REDUCTION_OF_F_<=_FACTR*EPSMCH'\n",
      "     nfev: 168\n",
      "      nit: 12\n",
      "     njev: 56\n",
      "   status: 0\n",
      "  success: True\n",
      "        x: array([-50.73412104,  -7.19987711])\n"
     ]
    }
   ],
   "source": [
    "x0_m_a_eps_ESO4880049 = np.array([np.log(1.0e-23),np.log(1.0e-4)])\n",
    "LS_m_a_eps_ESO4880049 = optimize.minimize(Xi2_m_a_eps_ESO4880049,x0_m_a_eps_ESO4880049,method='L-BFGS-B',bounds=((np.log(1.0e-24),np.log(1.0e-22)),(np.log(1.0e-5),np.log(1.0e-3)),))\n",
    "print(LS_m_a_eps_ESO4880049)"
   ]
  },
  {
   "cell_type": "code",
   "execution_count": 45,
   "metadata": {},
   "outputs": [
    {
     "name": "stdout",
     "output_type": "stream",
     "text": [
      "[9.25659342e-23 7.46677562e-04]\n"
     ]
    }
   ],
   "source": [
    "print(np.exp(LS_m_a_eps_ESO4880049.x))"
   ]
  },
  {
   "cell_type": "code",
   "execution_count": 46,
   "metadata": {},
   "outputs": [
    {
     "name": "stderr",
     "output_type": "stream",
     "text": [
      "/Users/atalianb/miniconda3/envs/py37/lib/python3.7/site-packages/ipykernel_launcher.py:2: DeprecationWarning: np.asscalar(a) is deprecated since NumPy v1.16, use a.item() instead\n",
      "  \n"
     ]
    },
    {
     "data": {
      "text/plain": [
       "Text(0.5, 0, 'r[kpc]')"
      ]
     },
     "execution_count": 46,
     "metadata": {},
     "output_type": "execute_result"
    },
    {
     "data": {
      "image/png": "[encoded data removed]",
      "text/plain": [
       "<Figure size 432x288 with 1 Axes>"
      ]
     },
     "metadata": {
      "needs_background": "light"
     },
     "output_type": "display_data"
    }
   ],
   "source": [
    "plt.errorbar(vecRp_ESO4880049,vecvRp_ESO4880049,yerr=vecerrvRp_ESO4880049,fmt='.')\n",
    "plt.plot(vecRp_ESO4880049,Vc_xi2(vecRp_ESO4880049,np.asscalar(np.exp(LS_m_a_eps_ESO4880049.x[0])),np.asscalar(np.exp(LS_m_a_eps_ESO4880049.x[1]))))\n",
    "plt.ylabel(r'$v_{c}(r)$[km/s]')\n",
    "plt.xlabel(\"r[kpc]\")"
   ]
  },
  {
   "cell_type": "markdown",
   "metadata": {},
   "source": [
    "# U11557"
   ]
  },
  {
   "cell_type": "code",
   "execution_count": 47,
   "metadata": {},
   "outputs": [],
   "source": [
    "U11557 = np.loadtxt(path+'U11557.dat')"
   ]
  },
  {
   "cell_type": "code",
   "execution_count": 48,
   "metadata": {},
   "outputs": [],
   "source": [
    "vecRp_U11557 = np.array([row[1] for row in U11557])# galactocentric distance [kpc]\n",
    "vecvRp_U11557 = np.array([row[5] for row in U11557])# rotation velocity [km/s]\n",
    "vecerrvRp_U11557 = np.array([row[6] for row in U11557])# error in rotation velocity [km/s]"
   ]
  },
  {
   "cell_type": "code",
   "execution_count": 49,
   "metadata": {},
   "outputs": [
    {
     "data": {
      "text/plain": [
       "Text(0.5, 0, 'r[kpc]')"
      ]
     },
     "execution_count": 49,
     "metadata": {},
     "output_type": "execute_result"
    },
    {
     "data": {
      "image/png": "[encoded data removed]",
      "text/plain": [
       "<Figure size 432x288 with 1 Axes>"
      ]
     },
     "metadata": {
      "needs_background": "light"
     },
     "output_type": "display_data"
    }
   ],
   "source": [
    "plt.errorbar(vecRp_U11557,vecvRp_U11557,yerr=vecerrvRp_U11557,fmt='.')\n",
    "plt.ylabel(r'$v_{c}(r)$[km/s]')\n",
    "plt.xlabel(\"r[kpc]\")"
   ]
  },
  {
   "cell_type": "markdown",
   "metadata": {},
   "source": [
    "# $\\chi^{2}$"
   ]
  },
  {
   "cell_type": "markdown",
   "metadata": {},
   "source": [
    "$m_{a}$ y $\\epsilon$"
   ]
  },
  {
   "cell_type": "code",
   "execution_count": 50,
   "metadata": {},
   "outputs": [],
   "source": [
    "def Xi2_m_a_eps_U11557(params):\n",
    "    m_a,eps = params\n",
    "    par = np.exp(m_a),np.exp(eps)\n",
    "    model = Vc_l0_m_a_eps(vecRp_U11557,par)\n",
    "    xi  = np.sum((vecvRp_U11557-model)**2./(vecerrvRp_U11557)**2.)\n",
    "    return xi"
   ]
  },
  {
   "cell_type": "code",
   "execution_count": 51,
   "metadata": {},
   "outputs": [
    {
     "name": "stdout",
     "output_type": "stream",
     "text": [
      "      fun: 7.611589212525327\n",
      " hess_inv: <2x2 LbfgsInvHessProduct with dtype=float64>\n",
      "      jac: array([9.76996181e-07, 1.24344968e-06])\n",
      "  message: b'CONVERGENCE: NORM_OF_PROJECTED_GRADIENT_<=_PGTOL'\n",
      "     nfev: 48\n",
      "      nit: 10\n",
      "     njev: 16\n",
      "   status: 0\n",
      "  success: True\n",
      "        x: array([-53.02543498,  -8.12737282])\n"
     ]
    }
   ],
   "source": [
    "x0_m_a_eps_U11557 = np.array([np.log(1.0e-23),np.log(1.0e-4)])\n",
    "LS_m_a_eps_U11557 = optimize.minimize(Xi2_m_a_eps_U11557,x0_m_a_eps_U11557,method='L-BFGS-B',bounds=((np.log(1.0e-24),np.log(1.0e-22)),(np.log(1.0e-5),np.log(1.0e-3)),))\n",
    "print(LS_m_a_eps_U11557)"
   ]
  },
  {
   "cell_type": "code",
   "execution_count": 52,
   "metadata": {},
   "outputs": [
    {
     "name": "stdout",
     "output_type": "stream",
     "text": [
      "[9.36151609e-24 2.95343101e-04]\n"
     ]
    }
   ],
   "source": [
    "print(np.exp(LS_m_a_eps_U11557.x))"
   ]
  },
  {
   "cell_type": "code",
   "execution_count": 53,
   "metadata": {},
   "outputs": [
    {
     "name": "stderr",
     "output_type": "stream",
     "text": [
      "/Users/atalianb/miniconda3/envs/py37/lib/python3.7/site-packages/ipykernel_launcher.py:2: DeprecationWarning: np.asscalar(a) is deprecated since NumPy v1.16, use a.item() instead\n",
      "  \n"
     ]
    },
    {
     "data": {
      "text/plain": [
       "Text(0.5, 0, 'r[kpc]')"
      ]
     },
     "execution_count": 53,
     "metadata": {},
     "output_type": "execute_result"
    },
    {
     "data": {
      "image/png": "[encoded data removed]",
      "text/plain": [
       "<Figure size 432x288 with 1 Axes>"
      ]
     },
     "metadata": {
      "needs_background": "light"
     },
     "output_type": "display_data"
    }
   ],
   "source": [
    "plt.errorbar(vecRp_U11557,vecvRp_U11557,yerr=vecerrvRp_U11557,fmt='.')\n",
    "plt.plot(vecRp_U11557,Vc_xi2(vecRp_U11557,np.asscalar(np.exp(LS_m_a_eps_U11557.x[0])),np.asscalar(np.exp(LS_m_a_eps_U11557.x[1]))))\n",
    "plt.ylabel(r'$v_{c}(r)$[km/s]')\n",
    "plt.xlabel(\"r[kpc]\")"
   ]
  },
  {
   "cell_type": "markdown",
   "metadata": {},
   "source": [
    "# U11616"
   ]
  },
  {
   "cell_type": "code",
   "execution_count": 54,
   "metadata": {},
   "outputs": [],
   "source": [
    "U11616 = np.loadtxt(path+'U11616.dat')"
   ]
  },
  {
   "cell_type": "code",
   "execution_count": 55,
   "metadata": {},
   "outputs": [],
   "source": [
    "vecRp_U11616 = np.array([row[1] for row in U11616])# galactocentric distance [kpc]\n",
    "vecvRp_U11616 = np.array([row[5] for row in U11616])# rotation velocity [km/s]\n",
    "vecerrvRp_U11616 = np.array([row[6] for row in U11616])# error in rotation velocity [km/s]"
   ]
  },
  {
   "cell_type": "code",
   "execution_count": 56,
   "metadata": {},
   "outputs": [
    {
     "data": {
      "text/plain": [
       "Text(0.5, 0, 'r[kpc]')"
      ]
     },
     "execution_count": 56,
     "metadata": {},
     "output_type": "execute_result"
    },
    {
     "data": {
      "image/png": "[encoded data removed]",
      "text/plain": [
       "<Figure size 432x288 with 1 Axes>"
      ]
     },
     "metadata": {
      "needs_background": "light"
     },
     "output_type": "display_data"
    }
   ],
   "source": [
    "plt.errorbar(vecRp_U11616,vecvRp_U11616,yerr=vecerrvRp_U11616,fmt='.')\n",
    "plt.ylabel(r'$v_{c}(r)$[km/s]')\n",
    "plt.xlabel(\"r[kpc]\")"
   ]
  },
  {
   "cell_type": "markdown",
   "metadata": {},
   "source": [
    "# $\\chi^{2}$"
   ]
  },
  {
   "cell_type": "markdown",
   "metadata": {},
   "source": [
    "$m_{a}$ y $\\epsilon$"
   ]
  },
  {
   "cell_type": "code",
   "execution_count": 57,
   "metadata": {},
   "outputs": [],
   "source": [
    "def Xi2_m_a_eps_U11616(params):\n",
    "    m_a,eps = params\n",
    "    par = np.exp(m_a),np.exp(eps)\n",
    "    model = Vc_l0_m_a_eps(vecRp_U11616,par)\n",
    "    xi  = np.sum((vecvRp_U11616-model)**2./(vecerrvRp_U11616)**2.)\n",
    "    return xi"
   ]
  },
  {
   "cell_type": "code",
   "execution_count": 58,
   "metadata": {},
   "outputs": [
    {
     "name": "stdout",
     "output_type": "stream",
     "text": [
      "      fun: 105.96731423096827\n",
      " hess_inv: <2x2 LbfgsInvHessProduct with dtype=float64>\n",
      "      jac: array([-0.01053451, -0.01049898])\n",
      "  message: b'CONVERGENCE: REL_REDUCTION_OF_F_<=_FACTR*EPSMCH'\n",
      "     nfev: 63\n",
      "      nit: 13\n",
      "     njev: 21\n",
      "   status: 0\n",
      "  success: True\n",
      "        x: array([-53.37878922,  -7.50777952])\n"
     ]
    }
   ],
   "source": [
    "x0_m_a_eps_U11616 = np.array([np.log(1.0e-23),np.log(1.0e-4)])\n",
    "LS_m_a_eps_U11616 = optimize.minimize(Xi2_m_a_eps_U11616,x0_m_a_eps_U11616,method='L-BFGS-B',bounds=((np.log(1.0e-24),np.log(1.0e-22)),(np.log(1.0e-5),np.log(1.0e-3)),))\n",
    "print(LS_m_a_eps_U11616)"
   ]
  },
  {
   "cell_type": "code",
   "execution_count": 59,
   "metadata": {},
   "outputs": [
    {
     "name": "stdout",
     "output_type": "stream",
     "text": [
      "[6.57485822e-24 5.48798331e-04]\n"
     ]
    }
   ],
   "source": [
    "print(np.exp(LS_m_a_eps_U11616.x))"
   ]
  },
  {
   "cell_type": "code",
   "execution_count": 60,
   "metadata": {},
   "outputs": [
    {
     "name": "stderr",
     "output_type": "stream",
     "text": [
      "/Users/atalianb/miniconda3/envs/py37/lib/python3.7/site-packages/ipykernel_launcher.py:2: DeprecationWarning: np.asscalar(a) is deprecated since NumPy v1.16, use a.item() instead\n",
      "  \n"
     ]
    },
    {
     "data": {
      "text/plain": [
       "Text(0.5, 0, 'r[kpc]')"
      ]
     },
     "execution_count": 60,
     "metadata": {},
     "output_type": "execute_result"
    },
    {
     "data": {
      "image/png": "[encoded data removed]",
      "text/plain": [
       "<Figure size 432x288 with 1 Axes>"
      ]
     },
     "metadata": {
      "needs_background": "light"
     },
     "output_type": "display_data"
    }
   ],
   "source": [
    "plt.errorbar(vecRp_U11616,vecvRp_U11616,yerr=vecerrvRp_U11616,fmt='.')\n",
    "plt.plot(vecRp_U11616,Vc_xi2(vecRp_U11616,np.asscalar(np.exp(LS_m_a_eps_U11616.x[0])),np.asscalar(np.exp(LS_m_a_eps_U11616.x[1]))))\n",
    "plt.ylabel(r'$v_{c}(r)$[km/s]')\n",
    "plt.xlabel(\"r[kpc]\")"
   ]
  },
  {
   "cell_type": "markdown",
   "metadata": {},
   "source": [
    "# U4115"
   ]
  },
  {
   "cell_type": "code",
   "execution_count": 61,
   "metadata": {},
   "outputs": [],
   "source": [
    "U4115 = np.loadtxt(path+'U4115.dat')"
   ]
  },
  {
   "cell_type": "code",
   "execution_count": 62,
   "metadata": {},
   "outputs": [],
   "source": [
    "vecRp_U4115 = np.array([row[1] for row in U4115])# galactocentric distance [kpc]\n",
    "vecvRp_U4115 = np.array([row[5] for row in U4115])# rotation velocity [km/s]\n",
    "vecerrvRp_U4115 = np.array([row[6] for row in U4115])# error in rotation velocity [km/s]"
   ]
  },
  {
   "cell_type": "code",
   "execution_count": 63,
   "metadata": {},
   "outputs": [
    {
     "data": {
      "text/plain": [
       "Text(0.5, 0, 'r[kpc]')"
      ]
     },
     "execution_count": 63,
     "metadata": {},
     "output_type": "execute_result"
    },
    {
     "data": {
      "image/png": "[encoded data removed]",
      "text/plain": [
       "<Figure size 432x288 with 1 Axes>"
      ]
     },
     "metadata": {
      "needs_background": "light"
     },
     "output_type": "display_data"
    }
   ],
   "source": [
    "plt.errorbar(vecRp_U4115,vecvRp_U4115,yerr=vecerrvRp_U4115,fmt='.')\n",
    "plt.ylabel(r'$v_{c}(r)$[km/s]')\n",
    "plt.xlabel(\"r[kpc]\")"
   ]
  },
  {
   "cell_type": "markdown",
   "metadata": {},
   "source": [
    "# $\\chi^{2}$"
   ]
  },
  {
   "cell_type": "markdown",
   "metadata": {},
   "source": [
    "$m_{a}$ y $\\epsilon$"
   ]
  },
  {
   "cell_type": "code",
   "execution_count": 64,
   "metadata": {},
   "outputs": [],
   "source": [
    "def Xi2_m_a_eps_U4115(params):\n",
    "    m_a,eps = params\n",
    "    par = np.exp(m_a),np.exp(eps)\n",
    "    model = Vc_l0_m_a_eps(vecRp_U4115,par)\n",
    "    xi  = np.sum((vecvRp_U4115-model)**2./(vecerrvRp_U4115)**2.)\n",
    "    return xi"
   ]
  },
  {
   "cell_type": "code",
   "execution_count": 65,
   "metadata": {},
   "outputs": [
    {
     "name": "stdout",
     "output_type": "stream",
     "text": [
      "      fun: 5.082831697912227\n",
      " hess_inv: <2x2 LbfgsInvHessProduct with dtype=float64>\n",
      "      jac: array([-5.63143947e+00,  1.77635669e-07])\n",
      "  message: b'CONVERGENCE: NORM_OF_PROJECTED_GRADIENT_<=_PGTOL'\n",
      "     nfev: 60\n",
      "      nit: 10\n",
      "     njev: 20\n",
      "   status: 0\n",
      "  success: True\n",
      "        x: array([-50.65687205,  -8.74339126])\n"
     ]
    }
   ],
   "source": [
    "x0_m_a_eps_U4115 = np.array([np.log(1.0e-23),np.log(1.0e-4)])\n",
    "LS_m_a_eps_U4115 = optimize.minimize(Xi2_m_a_eps_U4115,x0_m_a_eps_U4115,method='L-BFGS-B',bounds=((np.log(1.0e-24),np.log(1.0e-22)),(np.log(1.0e-5),np.log(1.0e-3)),))\n",
    "print(LS_m_a_eps_U4115)"
   ]
  },
  {
   "cell_type": "code",
   "execution_count": 66,
   "metadata": {},
   "outputs": [
    {
     "name": "stdout",
     "output_type": "stream",
     "text": [
      "[1.00000000e-22 1.59512023e-04]\n"
     ]
    }
   ],
   "source": [
    "print(np.exp(LS_m_a_eps_U4115.x))"
   ]
  },
  {
   "cell_type": "code",
   "execution_count": 67,
   "metadata": {},
   "outputs": [
    {
     "name": "stderr",
     "output_type": "stream",
     "text": [
      "/Users/atalianb/miniconda3/envs/py37/lib/python3.7/site-packages/ipykernel_launcher.py:2: DeprecationWarning: np.asscalar(a) is deprecated since NumPy v1.16, use a.item() instead\n",
      "  \n"
     ]
    },
    {
     "data": {
      "text/plain": [
       "Text(0.5, 0, 'r[kpc]')"
      ]
     },
     "execution_count": 67,
     "metadata": {},
     "output_type": "execute_result"
    },
    {
     "data": {
      "image/png": "[encoded data removed]",
      "text/plain": [
       "<Figure size 432x288 with 1 Axes>"
      ]
     },
     "metadata": {
      "needs_background": "light"
     },
     "output_type": "display_data"
    }
   ],
   "source": [
    "plt.errorbar(vecRp_U4115,vecvRp_U4115,yerr=vecerrvRp_U4115,fmt='.')\n",
    "plt.plot(vecRp_U4115,Vc_xi2(vecRp_U4115,np.asscalar(np.exp(LS_m_a_eps_U4115.x[0])),np.asscalar(np.exp(LS_m_a_eps_U4115.x[1]))))\n",
    "plt.ylabel(r'$v_{c}(r)$[km/s]')\n",
    "plt.xlabel(\"r[kpc]\")"
   ]
  },
  {
   "cell_type": "markdown",
   "metadata": {},
   "source": [
    "# Subplots"
   ]
  },
  {
   "cell_type": "code",
   "execution_count": 70,
   "metadata": {},
   "outputs": [
    {
     "name": "stderr",
     "output_type": "stream",
     "text": [
      "/Users/atalianb/miniconda3/envs/py37/lib/python3.7/site-packages/ipykernel_launcher.py:3: DeprecationWarning: np.asscalar(a) is deprecated since NumPy v1.16, use a.item() instead\n",
      "  This is separate from the ipykernel package so we can avoid doing imports until\n",
      "/Users/atalianb/miniconda3/envs/py37/lib/python3.7/site-packages/ipykernel_launcher.py:6: DeprecationWarning: np.asscalar(a) is deprecated since NumPy v1.16, use a.item() instead\n",
      "  \n",
      "/Users/atalianb/miniconda3/envs/py37/lib/python3.7/site-packages/ipykernel_launcher.py:9: DeprecationWarning: np.asscalar(a) is deprecated since NumPy v1.16, use a.item() instead\n",
      "  if __name__ == '__main__':\n",
      "/Users/atalianb/miniconda3/envs/py37/lib/python3.7/site-packages/ipykernel_launcher.py:12: DeprecationWarning: np.asscalar(a) is deprecated since NumPy v1.16, use a.item() instead\n",
      "  if sys.path[0] == '':\n",
      "/Users/atalianb/miniconda3/envs/py37/lib/python3.7/site-packages/ipykernel_launcher.py:15: DeprecationWarning: np.asscalar(a) is deprecated since NumPy v1.16, use a.item() instead\n",
      "  from ipykernel import kernelapp as app\n",
      "/Users/atalianb/miniconda3/envs/py37/lib/python3.7/site-packages/ipykernel_launcher.py:18: DeprecationWarning: np.asscalar(a) is deprecated since NumPy v1.16, use a.item() instead\n"
     ]
    },
    {
     "data": {
      "image/png": "[encoded data removed]",
      "text/plain": [
       "<Figure size 1200x800 with 6 Axes>"
      ]
     },
     "metadata": {
      "needs_background": "light"
     },
     "output_type": "display_data"
    }
   ],
   "source": [
    "fig, ((ax0,ax1),(ax2,ax3),(ax4,ax5)) = plt.subplots(nrows=3,ncols=2,dpi=200)\n",
    "ax0.errorbar(vecRp_ESO3020120,vecvRp_ESO3020120,yerr=vecerrvRp_ESO3020120,fmt='.')\n",
    "ax0.plot(vecRp_ESO3020120,Vc_xi2(vecRp_ESO3020120,np.asscalar(np.exp(LS_m_a_eps_ESO3020120.x[0])),np.asscalar(np.exp(LS_m_a_eps_ESO3020120.x[1]))))\n",
    "ax0.set_title('ESO3020120')\n",
    "ax1.errorbar(vecRp_ESO3050090,vecvRp_ESO3050090,yerr=vecerrvRp_ESO3050090,fmt='.')\n",
    "ax1.plot(vecRp_ESO3050090,Vc_xi2(vecRp_ESO3050090,np.asscalar(np.exp(LS_m_a_eps_ESO3050090.x[0])),np.asscalar(np.exp(LS_m_a_eps_ESO3050090.x[1]))))\n",
    "ax1.set_title('ESO3050090')\n",
    "ax2.errorbar(vecRp_ESO4880049,vecvRp_ESO4880049,yerr=vecerrvRp_ESO4880049,fmt='.')\n",
    "ax2.plot(vecRp_ESO4880049,Vc_xi2(vecRp_ESO4880049,np.asscalar(np.exp(LS_m_a_eps_ESO4880049.x[0])),np.asscalar(np.exp(LS_m_a_eps_ESO4880049.x[1]))))\n",
    "ax2.set_title('ESO4880049')\n",
    "ax3.errorbar(vecRp_U11557,vecvRp_U11557,yerr=vecerrvRp_U11557,fmt='.')\n",
    "ax3.plot(vecRp_U11557,Vc_xi2(vecRp_U11557,np.asscalar(np.exp(LS_m_a_eps_U11557.x[0])),np.asscalar(np.exp(LS_m_a_eps_U11557.x[1]))))\n",
    "ax3.set_title('U11557')\n",
    "ax4.errorbar(vecRp_U4115,vecvRp_U4115,yerr=vecerrvRp_U4115,fmt='.')\n",
    "ax4.plot(vecRp_U4115,Vc_xi2(vecRp_U4115,np.asscalar(np.exp(LS_m_a_eps_U4115.x[0])),np.asscalar(np.exp(LS_m_a_eps_U4115.x[1]))))\n",
    "ax4.set_title('U4115')\n",
    "ax5.errorbar(vecRp_U11616,vecvRp_U11616,yerr=vecerrvRp_U11616,fmt='.')\n",
    "ax5.plot(vecRp_U11616,Vc_xi2(vecRp_U11616,np.asscalar(np.exp(LS_m_a_eps_U11616.x[0])),np.asscalar(np.exp(LS_m_a_eps_U11616.x[1]))))\n",
    "ax5.set_title('U11616')\n",
    "# Set common labels\n",
    "fig.text(0.5, 0.04, 'r[kpc]', ha='center', va='center')\n",
    "fig.text(0.06, 0.5, r'$v_{c}(r)$[km/s]', ha='center', va='center', rotation='vertical')\n",
    "plt.subplots_adjust(hspace=1.)"
   ]
  },
  {
   "cell_type": "code",
   "execution_count": null,
   "metadata": {},
   "outputs": [],
   "source": []
  }
 ],
 "metadata": {
  "kernelspec": {
   "display_name": "Python 3",
   "language": "python",
   "name": "python3"
  },
  "language_info": {
   "codemirror_mode": {
    "name": "ipython",
    "version": 3
   },
   "file_extension": ".py",
   "mimetype": "text/x-python",
   "name": "python",
   "nbconvert_exporter": "python",
   "pygments_lexer": "ipython3",
   "version": "3.7.7"
  }
 },
 "nbformat": 4,
 "nbformat_minor": 4
}
