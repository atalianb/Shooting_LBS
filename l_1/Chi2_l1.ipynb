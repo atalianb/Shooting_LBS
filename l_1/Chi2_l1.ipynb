{
 "cells": [
  {
   "cell_type": "code",
   "execution_count": 2,
   "metadata": {},
   "outputs": [],
   "source": [
    "import numpy as np\n",
    "import matplotlib.pyplot as plt\n",
    "from scipy import optimize\n",
    "from scipy import integrate\n",
    "from scipy import interpolate"
   ]
  },
  {
   "cell_type": "code",
   "execution_count": 5,
   "metadata": {},
   "outputs": [],
   "source": [
    "path = \"/Users/atalianb/Documents/data_LBSG/LSBG/LSBG/\""
   ]
  },
  {
   "cell_type": "code",
   "execution_count": 6,
   "metadata": {},
   "outputs": [],
   "source": [
    "D564 = np.loadtxt(path+'D564-8_rotmod.dat')"
   ]
  },
  {
   "cell_type": "code",
   "execution_count": 7,
   "metadata": {},
   "outputs": [],
   "source": [
    "vecRp_D564 = np.array([row[0] for row in D564])# galactocentric distance [kpc]\n",
    "vecvRp_D564 = np.array([row[1] for row in D564])# rotation velocity [km/s]\n",
    "vecerrvRp_D564 = np.array([row[2] for row in D564])# error in rotation velocity [km/s]"
   ]
  },
  {
   "cell_type": "code",
   "execution_count": 8,
   "metadata": {},
   "outputs": [
    {
     "data": {
      "text/plain": [
       "Text(0.5, 0, 'r[kpc]')"
      ]
     },
     "execution_count": 8,
     "metadata": {},
     "output_type": "execute_result"
    },
    {
     "data": {
      "image/png": "[encoded data removed]",
      "text/plain": [
       "<Figure size 432x288 with 1 Axes>"
      ]
     },
     "metadata": {
      "needs_background": "light"
     },
     "output_type": "display_data"
    }
   ],
   "source": [
    "plt.errorbar(vecRp_D564,vecvRp_D564,yerr=vecerrvRp_D564,fmt='.')\n",
    "plt.ylabel(r'$v_{c}(r)$[km/s]')\n",
    "plt.xlabel(\"r[kpc]\")"
   ]
  },
  {
   "cell_type": "code",
   "execution_count": 9,
   "metadata": {},
   "outputs": [],
   "source": [
    "##Values\n",
    "####\n",
    "eps_ = 2.5e-4#\n",
    "m_a_ = 1.0e-22#eV/c^2\n",
    "G_kpc = 4.302e-6#kpc/SolarMass(km/s)^2\n",
    "####\n",
    "##Integration values\n",
    "###\n",
    "x0_0 = 3.#first integration\n",
    "x0_0v1 = 0.01# Start of integration. Use 0.01 for continuity in l=3 solution, for 0,1,2 0.0 it's ok\n",
    "xf_0v1 = 10.# End of integration\n",
    "step_0 = 0.5#Step to integrate from x0_0 until xf_0v1 is reached\n",
    "###l=1 \n",
    "u1_1 = -3.7# 1st trial value of unknown init. cond.\n",
    "u2_1 = -2.2# 2nd trial value of unknown init. cond.\n",
    "u_1 = np.array([u1_1, u2_1])"
   ]
  },
  {
   "cell_type": "code",
   "execution_count": 10,
   "metadata": {},
   "outputs": [],
   "source": [
    "def Integrate(func,x0,y0,x,h):\n",
    "    # Finds value of y for a given x using step size h \n",
    "    # and initial value y0 at x0.\n",
    "    def RK4(func,x0,y0,h):\n",
    "        K0 = h*func(x0,y0)\n",
    "        K1 = h*func(x0 + 0.5*h, y0 + 0.5*K0)\n",
    "        K2 = h*func(x0 + 0.5*h, y0 + 0.5*K1)\n",
    "        K3 = h*func(x0 + h, y0 + K2)\n",
    "        return (K0 + 2.*K1 + 2.*K2 + K3)/6.\n",
    "    X = []\n",
    "    Y = []\n",
    "    X.append(x0)\n",
    "    Y.append(y0)\n",
    "    while x0 < x:\n",
    "         # Count number of iterations using step size or\n",
    "        h = min(h,x - x0)# step height h\n",
    "        y0 = y0 + RK4(func,x0,y0,h)#update next value of y\n",
    "        x0 = x0 + h#update next value of x\n",
    "        X.append(x0)\n",
    "        Y.append(y0)\n",
    "    return np.array(X),np.array(Y)"
   ]
  },
  {
   "cell_type": "code",
   "execution_count": 11,
   "metadata": {},
   "outputs": [],
   "source": [
    "def shooting(func,u,x0,x,xf,step,k,h=0.01):\n",
    "    def res(u):# Boundary condition residual\n",
    "        X,Y = Integrate(func,x0,IC(u,k),x,h)\n",
    "        y = Y[len(Y) - 1]#last value of Y\n",
    "        r = np.zeros(len(u))\n",
    "        r[0] = y[0]#y0(inf)=0\n",
    "        r[1] = y[2]/x + y[3]#y_3(inf)/r + y_4(inf)=0\n",
    "        return r\n",
    "    x_list = []\n",
    "    root_list = []\n",
    "    while x<=xf:\n",
    "        x_list.append(x)\n",
    "        root = optimize.root(res,u)\n",
    "        u = root.x\n",
    "        root_temp = optimize.root(res,root.x)\n",
    "        root_list.append(root_temp.x)\n",
    "        X,Y = Integrate(func,x0,IC(root_temp.x,k),x,h)\n",
    "        x = x+step\n",
    "    return X,Y,root_temp,np.array(x_list),np.array(root_list)"
   ]
  },
  {
   "cell_type": "code",
   "execution_count": 12,
   "metadata": {},
   "outputs": [],
   "source": [
    "def IC(u,k):#Initial conditions array, the first correspond to the initial condition in phi\n",
    "    return np.array([k,0.0,u[0],0.0,u[1]])"
   ]
  },
  {
   "cell_type": "code",
   "execution_count": 13,
   "metadata": {},
   "outputs": [],
   "source": [
    "def f1(x,y):\n",
    "    l = 1.\n",
    "    F = np.zeros(5)\n",
    "    if x==0:\n",
    "        F[0] = y[1]\n",
    "        F[1] = 2.*y[0]*(y[2]-y[4])\n",
    "        F[2] = y[3]\n",
    "        F[3] = 0.\n",
    "        F[4] = 0.\n",
    "    else:\n",
    "        F[0] = y[1]\n",
    "        F[1] = -2.*(l+1.)*y[1]/x +2.*y[0]*(y[2]-y[4])\n",
    "        F[2] = y[3]\n",
    "        F[3] = (2.*l+1.)*x**(2.*l)*y[0]**2. - 2.*y[3]/x\n",
    "        F[4] = 0.\n",
    "    return F"
   ]
  },
  {
   "cell_type": "code",
   "execution_count": 14,
   "metadata": {},
   "outputs": [],
   "source": [
    "def Mass_func(r,phi,l):\n",
    "    Int = np.zeros(len(r))\n",
    "    dr = np.diff(r)[0]\n",
    "    phi_array = np.array(phi[:,0])\n",
    "    for i in range(0,len(r)-1):\n",
    "        Int[i+1] = dr*(phi_array[i+1]**2.*r[i+1]**(2.*l+2.)) + Int[i]\n",
    "    return Int"
   ]
  },
  {
   "cell_type": "code",
   "execution_count": 15,
   "metadata": {},
   "outputs": [],
   "source": [
    "def Vc2_cir(r,eps,M):\n",
    "    units =8.95e10*eps**2.\n",
    "    return (units*M)/r\n",
    "####\n",
    "##Units for r in kpc\n",
    "###\n",
    "def r_units(r,eps,m_a):\n",
    "    return (6.39e-27*r)/(eps*m_a)"
   ]
  },
  {
   "cell_type": "code",
   "execution_count": 20,
   "metadata": {},
   "outputs": [],
   "source": [
    "#The function integrate f0 with the shooting method,\n",
    "#integrates to find the M(r) and returns the r[kpc] and Vc[km/s] \n",
    "#if the last element of r[kpc] array is minor than the last element of the r data array\n",
    "#takes the last element of the M(r) array and compute the Vc^2 for the rest of the r elements\n",
    "def Vc_xy(r,m_a,eps,l=1.):\n",
    "    X0,Y0,root0_f,arr_x0,arr_list0=shooting(f1,u_1,x0_0v1,x0_0,xf_0v1,step_0,k=1.)\n",
    "    M_r0 = Mass_func(X0,Y0,l=1.)#Integrates rho(r) to obtain M(r)\n",
    "    Vc2_r0 = Vc2_cir(X0,eps,M_r0)#Vc^2[km/s]^2 theoretical\n",
    "    X0_units = r_units(X0,eps,m_a)#r[kpc] theoretical\n",
    "    M_r0_units = M_r0*eps*1.34e-10/m_a#M(r) with Solar Mass units\n",
    "    if X0_units[-1]<r[-1]:\n",
    "        #array from last element of the r[kpc] theoretical to the last element of the data array,\n",
    "        # with 80 elements. It can be replaced by np.arange(X0_units[-1],vecRp_data[-1],0.1) \n",
    "        #but you have to be careful in the next function with interpolate\n",
    "        r_array = np.linspace(X0_units[-1],r[-1],80)\n",
    "        Vc2_rmayor = G_kpc*M_r0_units[-1]/r_array#Computes Vc^2 with with the last result from M(r)\n",
    "        Vc2_total = np.append(Vc2_r0,Vc2_rmayor)#creates an array of Vc^2 with Vc2_r0 and Vc2_rmayor\n",
    "        r_total = np.append(X0_units,r_array)\n",
    "        return r_total,np.sqrt(Vc2_total)\n",
    "    else:\n",
    "        return X0_units,np.sqrt(Vc2_r0)"
   ]
  },
  {
   "cell_type": "code",
   "execution_count": 21,
   "metadata": {},
   "outputs": [],
   "source": [
    "def Vc_xi2(r,m_a,eps,l=1.):\n",
    "    Vc = Vc_xy(r,m_a,eps)\n",
    "    #If you want to use np.arange in the previous function, It is recommended to use extrapolate\n",
    "    f = interpolate.interp1d(Vc[0],Vc[1],fill_value='extrapolate')\n",
    "    Vc_new = f(r)\n",
    "    return Vc_new"
   ]
  },
  {
   "cell_type": "markdown",
   "metadata": {},
   "source": [
    "# $\\chi^{2}$"
   ]
  },
  {
   "cell_type": "markdown",
   "metadata": {},
   "source": [
    "# $\\epsilon$"
   ]
  },
  {
   "cell_type": "code",
   "execution_count": 41,
   "metadata": {},
   "outputs": [],
   "source": [
    "def Chi2_eps_D564(parameter):\n",
    "    eps = np.exp(parameter)\n",
    "    model = Vc_xi2(vecRp_D564,m_a_,eps,l=1.)\n",
    "    xi = np.sum((vecvRp_D564-model)**2./(vecerrvRp_D564)**2.)\n",
    "    return xi"
   ]
  },
  {
   "cell_type": "code",
   "execution_count": 42,
   "metadata": {},
   "outputs": [
    {
     "name": "stdout",
     "output_type": "stream",
     "text": [
      "      fun: 17.11737706888298\n",
      " hess_inv: <1x1 LbfgsInvHessProduct with dtype=float64>\n",
      "      jac: array([7.10542677e-07])\n",
      "  message: b'CONVERGENCE: NORM_OF_PROJECTED_GRADIENT_<=_PGTOL'\n",
      "     nfev: 16\n",
      "      nit: 5\n",
      "     njev: 8\n",
      "   status: 0\n",
      "  success: True\n",
      "        x: array([-9.30276644])\n"
     ]
    }
   ],
   "source": [
    "x0_eps_D564 = np.array(np.log(1.0e-4))\n",
    "LS_eps_D564 = optimize.minimize(Chi2_eps_D564,x0_eps_D564,method='L-BFGS-B',bounds=((np.log(1.0e-6),np.log(1.0e-3)),))\n",
    "print(LS_eps_D564)"
   ]
  },
  {
   "cell_type": "code",
   "execution_count": 43,
   "metadata": {},
   "outputs": [
    {
     "name": "stdout",
     "output_type": "stream",
     "text": [
      "[9.11716614e-05]\n"
     ]
    }
   ],
   "source": [
    "print(np.exp(LS_eps_D564.x))"
   ]
  },
  {
   "cell_type": "code",
   "execution_count": 44,
   "metadata": {},
   "outputs": [
    {
     "name": "stderr",
     "output_type": "stream",
     "text": [
      "/Users/atalianb/miniconda3/envs/py37/lib/python3.7/site-packages/ipykernel_launcher.py:2: DeprecationWarning: np.asscalar(a) is deprecated since NumPy v1.16, use a.item() instead\n",
      "  \n"
     ]
    },
    {
     "data": {
      "text/plain": [
       "Text(0.5, 0, 'r[kpc]')"
      ]
     },
     "execution_count": 44,
     "metadata": {},
     "output_type": "execute_result"
    },
    {
     "data": {
      "image/png": "[encoded data removed]",
      "text/plain": [
       "<Figure size 432x288 with 1 Axes>"
      ]
     },
     "metadata": {
      "needs_background": "light"
     },
     "output_type": "display_data"
    }
   ],
   "source": [
    "plt.errorbar(vecRp_D564,vecvRp_D564,yerr=vecerrvRp_D564,fmt='.')\n",
    "plt.plot(vecRp_D564,Vc_xi2(vecRp_D564,m_a_,np.asscalar(np.exp(LS_eps_D564.x))))\n",
    "plt.ylabel(r'$v_{c}(r)$[km/s]')\n",
    "plt.xlabel(\"r[kpc]\")"
   ]
  },
  {
   "cell_type": "markdown",
   "metadata": {},
   "source": [
    "$m_{a}$"
   ]
  },
  {
   "cell_type": "code",
   "execution_count": 45,
   "metadata": {},
   "outputs": [],
   "source": [
    "def Chi2_m_a_D564(parameter):\n",
    "    m_a = np.exp(parameter)\n",
    "    model = Vc_xi2(vecRp_D564,m_a,eps_,l=1.)\n",
    "    xi = np.sum((vecvRp_D564-model)**2./(vecerrvRp_D564)**2.)\n",
    "    return xi"
   ]
  },
  {
   "cell_type": "code",
   "execution_count": 46,
   "metadata": {},
   "outputs": [
    {
     "name": "stdout",
     "output_type": "stream",
     "text": [
      "      fun: 123.7246972364415\n",
      " hess_inv: <1x1 LbfgsInvHessProduct with dtype=float64>\n",
      "      jac: array([-2.84217071e-06])\n",
      "  message: b'CONVERGENCE: NORM_OF_PROJECTED_GRADIENT_<=_PGTOL'\n",
      "     nfev: 12\n",
      "      nit: 3\n",
      "     njev: 6\n",
      "   status: 0\n",
      "  success: True\n",
      "        x: array([-52.96993188])\n"
     ]
    }
   ],
   "source": [
    "x0_m_a_D564 = np.array(np.log(1.0e-23))\n",
    "LS_m_a_D564 = optimize.minimize(Chi2_m_a_D564,x0_m_a_D564,method='L-BFGS-B',bounds=((np.log(1.0e-24),np.log(1.0e-20)),))\n",
    "print(LS_m_a_D564)"
   ]
  },
  {
   "cell_type": "code",
   "execution_count": 47,
   "metadata": {},
   "outputs": [
    {
     "name": "stdout",
     "output_type": "stream",
     "text": [
      "[9.89579923e-24]\n"
     ]
    }
   ],
   "source": [
    "print(np.exp(LS_m_a_D564.x))"
   ]
  },
  {
   "cell_type": "code",
   "execution_count": 48,
   "metadata": {},
   "outputs": [
    {
     "name": "stderr",
     "output_type": "stream",
     "text": [
      "/Users/atalianb/miniconda3/envs/py37/lib/python3.7/site-packages/ipykernel_launcher.py:2: DeprecationWarning: np.asscalar(a) is deprecated since NumPy v1.16, use a.item() instead\n",
      "  \n"
     ]
    },
    {
     "data": {
      "text/plain": [
       "Text(0.5, 0, 'r[kpc]')"
      ]
     },
     "execution_count": 48,
     "metadata": {},
     "output_type": "execute_result"
    },
    {
     "data": {
      "image/png": "[encoded data removed]",
      "text/plain": [
       "<Figure size 432x288 with 1 Axes>"
      ]
     },
     "metadata": {
      "needs_background": "light"
     },
     "output_type": "display_data"
    }
   ],
   "source": [
    "plt.errorbar(vecRp_D564,vecvRp_D564,yerr=vecerrvRp_D564,fmt='.')\n",
    "plt.plot(vecRp_D564,Vc_xi2(vecRp_D564,np.asscalar(np.exp(LS_m_a_D564.x)),eps_))\n",
    "plt.ylabel(r'$v_{c}(r)$[km/s]')\n",
    "plt.xlabel(\"r[kpc]\")"
   ]
  },
  {
   "cell_type": "markdown",
   "metadata": {},
   "source": [
    "# Dos parámetros"
   ]
  },
  {
   "cell_type": "markdown",
   "metadata": {},
   "source": [
    "$m_{a}$ y $\\epsilon$"
   ]
  },
  {
   "cell_type": "code",
   "execution_count": 49,
   "metadata": {},
   "outputs": [],
   "source": [
    "def Vc_l0_m_a_eps(r,params):\n",
    "    m_a,eps = params\n",
    "    return Vc_xi2(r,m_a,eps,l=1.)"
   ]
  },
  {
   "cell_type": "code",
   "execution_count": 50,
   "metadata": {},
   "outputs": [],
   "source": [
    "def Xi2_m_a_eps_D564(params):\n",
    "    m_a,eps = params\n",
    "    par = np.exp(m_a),np.exp(eps)\n",
    "    model = Vc_l0_m_a_eps(vecRp_D564,par)\n",
    "    xi  = np.sum((vecvRp_D564-model)**2./(vecerrvRp_D564)**2.)\n",
    "    return xi"
   ]
  },
  {
   "cell_type": "code",
   "execution_count": 51,
   "metadata": {},
   "outputs": [
    {
     "name": "stdout",
     "output_type": "stream",
     "text": [
      "      fun: 11.540796944673634\n",
      " hess_inv: <2x2 LbfgsInvHessProduct with dtype=float64>\n",
      "      jac: array([-4.36983746e-05, -1.27009504e-04])\n",
      "  message: b'CONVERGENCE: REL_REDUCTION_OF_F_<=_FACTR*EPSMCH'\n",
      "     nfev: 90\n",
      "      nit: 12\n",
      "     njev: 30\n",
      "   status: 0\n",
      "  success: True\n",
      "        x: array([-50.87727964,  -9.2329417 ])\n"
     ]
    }
   ],
   "source": [
    "x0_m_a_eps_D564 = np.array([np.log(1.0e-23),np.log(1.0e-4)])\n",
    "LS_m_a_eps_D564 = optimize.minimize(Xi2_m_a_eps_D564,x0_m_a_eps_D564,method='L-BFGS-B',bounds=((np.log(1.0e-24),np.log(1.0e-20)),(np.log(1.0e-5),np.log(1.)),))\n",
    "print(LS_m_a_eps_D564)"
   ]
  },
  {
   "cell_type": "code",
   "execution_count": 53,
   "metadata": {},
   "outputs": [
    {
     "name": "stdout",
     "output_type": "stream",
     "text": [
      "[8.02191766e-23 9.77652165e-05]\n"
     ]
    }
   ],
   "source": [
    "print(np.exp(LS_m_a_eps_D564.x))"
   ]
  },
  {
   "cell_type": "code",
   "execution_count": 55,
   "metadata": {},
   "outputs": [
    {
     "name": "stderr",
     "output_type": "stream",
     "text": [
      "/Users/atalianb/miniconda3/envs/py37/lib/python3.7/site-packages/ipykernel_launcher.py:2: DeprecationWarning: np.asscalar(a) is deprecated since NumPy v1.16, use a.item() instead\n",
      "  \n"
     ]
    },
    {
     "data": {
      "text/plain": [
       "Text(0.5, 1.0, '$m_{a}$=8.021917664114911e-23$\\\\epsilon$=9.776521653211969e-05')"
      ]
     },
     "execution_count": 55,
     "metadata": {},
     "output_type": "execute_result"
    },
    {
     "data": {
      "image/png": "[encoded data removed]",
      "text/plain": [
       "<Figure size 432x288 with 1 Axes>"
      ]
     },
     "metadata": {
      "needs_background": "light"
     },
     "output_type": "display_data"
    }
   ],
   "source": [
    "plt.errorbar(vecRp_D564,vecvRp_D564,yerr=vecerrvRp_D564,fmt='.')\n",
    "plt.plot(vecRp_D564,Vc_xi2(vecRp_D564,np.asscalar(np.exp(LS_m_a_eps_D564.x[0])),np.asscalar(np.exp(LS_m_a_eps_D564.x[1]))))\n",
    "plt.ylabel(r'$v_{c}(r)$[km/s]')\n",
    "plt.xlabel(\"r[kpc]\")\n",
    "plt.title(r'$m_{a}$='+str(np.exp(LS_m_a_eps_D564.x[0]))+r'$\\epsilon$='+str(np.exp(LS_m_a_eps_D564.x[1])))"
   ]
  },
  {
   "cell_type": "code",
   "execution_count": null,
   "metadata": {},
   "outputs": [],
   "source": []
  },
  {
   "cell_type": "code",
   "execution_count": null,
   "metadata": {},
   "outputs": [],
   "source": [
    "def rescaling(phi_0,l):\n",
    "    lmbd = (1./phi_0)**(1/(l+2.))\n",
    "    return lmbd"
   ]
  },
  {
   "cell_type": "markdown",
   "metadata": {},
   "source": [
    "# F563"
   ]
  },
  {
   "cell_type": "code",
   "execution_count": 57,
   "metadata": {},
   "outputs": [],
   "source": [
    "F563 = np.loadtxt(path+'F563-V2_rotmod.dat')"
   ]
  },
  {
   "cell_type": "code",
   "execution_count": 58,
   "metadata": {},
   "outputs": [],
   "source": [
    "vecRp_F563 = np.array([row[0] for row in F563])# galactocentric distance [kpc]\n",
    "vecvRp_F563 = np.array([row[1] for row in F563])# rotation velocity [km/s]\n",
    "vecerrvRp_F563 = np.array([row[2] for row in F563])# error in rotation velocity [km/s]"
   ]
  },
  {
   "cell_type": "markdown",
   "metadata": {},
   "source": [
    "# $\\epsilon$"
   ]
  },
  {
   "cell_type": "code",
   "execution_count": 59,
   "metadata": {},
   "outputs": [],
   "source": [
    "def Chi2_eps_F563(parameter):\n",
    "    eps = np.exp(parameter)\n",
    "    model = Vc_xi2(vecRp_F563,m_a_,eps,l=1.)\n",
    "    xi = np.sum((vecvRp_F563-model)**2./(vecerrvRp_F563)**2.)\n",
    "    return xi"
   ]
  },
  {
   "cell_type": "code",
   "execution_count": 60,
   "metadata": {},
   "outputs": [
    {
     "name": "stdout",
     "output_type": "stream",
     "text": [
      "      fun: 308.1993512861046\n",
      " hess_inv: <1x1 LbfgsInvHessProduct with dtype=float64>\n",
      "      jac: array([-5.68434142e-06])\n",
      "  message: b'CONVERGENCE: NORM_OF_PROJECTED_GRADIENT_<=_PGTOL'\n",
      "     nfev: 22\n",
      "      nit: 7\n",
      "     njev: 11\n",
      "   status: 0\n",
      "  success: True\n",
      "        x: array([-8.2577958])\n"
     ]
    }
   ],
   "source": [
    "x0_eps_F563 = np.array(np.log(1.0e-4))\n",
    "LS_eps_F563 = optimize.minimize(Chi2_eps_F563,x0_eps_F563,method='L-BFGS-B',bounds=((np.log(1.0e-6),np.log(1.0e-3)),))\n",
    "print(LS_eps_F563)"
   ]
  },
  {
   "cell_type": "code",
   "execution_count": 61,
   "metadata": {},
   "outputs": [
    {
     "name": "stdout",
     "output_type": "stream",
     "text": [
      "[0.00025923]\n"
     ]
    }
   ],
   "source": [
    "print(np.exp(LS_eps_F563.x))"
   ]
  },
  {
   "cell_type": "code",
   "execution_count": 73,
   "metadata": {},
   "outputs": [
    {
     "name": "stderr",
     "output_type": "stream",
     "text": [
      "/Users/atalianb/miniconda3/envs/py37/lib/python3.7/site-packages/ipykernel_launcher.py:2: DeprecationWarning: np.asscalar(a) is deprecated since NumPy v1.16, use a.item() instead\n",
      "  \n"
     ]
    },
    {
     "data": {
      "text/plain": [
       "Text(0.5, 0, 'r[kpc]')"
      ]
     },
     "execution_count": 73,
     "metadata": {},
     "output_type": "execute_result"
    },
    {
     "data": {
      "image/png": "[encoded data removed]",
      "text/plain": [
       "<Figure size 432x288 with 1 Axes>"
      ]
     },
     "metadata": {
      "needs_background": "light"
     },
     "output_type": "display_data"
    }
   ],
   "source": [
    "plt.errorbar(vecRp_F563,vecvRp_F563,yerr=vecerrvRp_F563,fmt='.')\n",
    "plt.plot(vecRp_F563,Vc_xi2(vecRp_F563,m_a_,np.asscalar(np.exp(LS_eps_F563.x))))\n",
    "plt.ylabel(r'$v_{c}(r)$[km/s]')\n",
    "plt.xlabel(\"r[kpc]\")"
   ]
  },
  {
   "cell_type": "markdown",
   "metadata": {},
   "source": [
    "$m_{a}$"
   ]
  },
  {
   "cell_type": "code",
   "execution_count": 63,
   "metadata": {},
   "outputs": [],
   "source": [
    "def Chi2_m_a_F563(parameter):\n",
    "    m_a = np.exp(parameter)\n",
    "    model = Vc_xi2(vecRp_F563,m_a,eps_,l=1.)\n",
    "    xi = np.sum((vecvRp_F563-model)**2./(vecerrvRp_F563)**2.)\n",
    "    return xi"
   ]
  },
  {
   "cell_type": "code",
   "execution_count": 64,
   "metadata": {},
   "outputs": [
    {
     "name": "stdout",
     "output_type": "stream",
     "text": [
      "      fun: 164.61422872123487\n",
      " hess_inv: <1x1 LbfgsInvHessProduct with dtype=float64>\n",
      "      jac: array([0.02532943])\n",
      "  message: b'CONVERGENCE: REL_REDUCTION_OF_F_<=_FACTR*EPSMCH'\n",
      "     nfev: 56\n",
      "      nit: 6\n",
      "     njev: 28\n",
      "   status: 0\n",
      "  success: True\n",
      "        x: array([-52.4313687])\n"
     ]
    }
   ],
   "source": [
    "x0_m_a_F563 = np.array(np.log(1.0e-23))\n",
    "LS_m_a_F563 = optimize.minimize(Chi2_m_a_F563,x0_m_a_F563,method='L-BFGS-B',bounds=((np.log(1.0e-24),np.log(1.0e-20)),))\n",
    "print(LS_m_a_F563)"
   ]
  },
  {
   "cell_type": "code",
   "execution_count": 65,
   "metadata": {},
   "outputs": [
    {
     "name": "stdout",
     "output_type": "stream",
     "text": [
      "[1.6956878e-23]\n"
     ]
    }
   ],
   "source": [
    "print(np.exp(LS_m_a_F563.x))"
   ]
  },
  {
   "cell_type": "code",
   "execution_count": 74,
   "metadata": {},
   "outputs": [
    {
     "name": "stderr",
     "output_type": "stream",
     "text": [
      "/Users/atalianb/miniconda3/envs/py37/lib/python3.7/site-packages/ipykernel_launcher.py:2: DeprecationWarning: np.asscalar(a) is deprecated since NumPy v1.16, use a.item() instead\n",
      "  \n"
     ]
    },
    {
     "data": {
      "text/plain": [
       "Text(0.5, 0, 'r[kpc]')"
      ]
     },
     "execution_count": 74,
     "metadata": {},
     "output_type": "execute_result"
    },
    {
     "data": {
      "image/png": "[encoded data removed]",
      "text/plain": [
       "<Figure size 432x288 with 1 Axes>"
      ]
     },
     "metadata": {
      "needs_background": "light"
     },
     "output_type": "display_data"
    }
   ],
   "source": [
    "plt.errorbar(vecRp_F563,vecvRp_F563,yerr=vecerrvRp_F563,fmt='.')\n",
    "plt.plot(vecRp_F563,Vc_xi2(vecRp_F563,np.asscalar(np.exp(LS_m_a_F563.x)),eps_))\n",
    "plt.ylabel(r'$v_{c}(r)$[km/s]')\n",
    "plt.xlabel(\"r[kpc]\")"
   ]
  },
  {
   "cell_type": "markdown",
   "metadata": {},
   "source": [
    "# Dos parámetros"
   ]
  },
  {
   "cell_type": "markdown",
   "metadata": {},
   "source": [
    "$m_{a}$ y $\\epsilon$"
   ]
  },
  {
   "cell_type": "code",
   "execution_count": 67,
   "metadata": {},
   "outputs": [],
   "source": [
    "def Xi2_m_a_eps_F563(params):\n",
    "    m_a,eps = params\n",
    "    par = np.exp(m_a),np.exp(eps)\n",
    "    model = Vc_l0_m_a_eps(vecRp_F563,par)\n",
    "    xi  = np.sum((vecvRp_F563-model)**2./(vecerrvRp_F563)**2.)\n",
    "    return xi"
   ]
  },
  {
   "cell_type": "code",
   "execution_count": 68,
   "metadata": {},
   "outputs": [
    {
     "name": "stdout",
     "output_type": "stream",
     "text": [
      "      fun: 11.903321530796806\n",
      " hess_inv: <2x2 LbfgsInvHessProduct with dtype=float64>\n",
      "      jac: array([ 0.00000000e+00, -3.37507802e-06])\n",
      "  message: b'CONVERGENCE: NORM_OF_PROJECTED_GRADIENT_<=_PGTOL'\n",
      "     nfev: 54\n",
      "      nit: 13\n",
      "     njev: 18\n",
      "   status: 0\n",
      "  success: True\n",
      "        x: array([-53.20800619,  -7.52471962])\n"
     ]
    }
   ],
   "source": [
    "x0_m_a_eps_F563 = np.array([np.log(1.0e-23),np.log(1.0e-4)])\n",
    "LS_m_a_eps_F563 = optimize.minimize(Xi2_m_a_eps_F563,x0_m_a_eps_F563,method='L-BFGS-B',bounds=((np.log(1.0e-24),np.log(1.0e-20)),(np.log(1.0e-5),np.log(1.)),))\n",
    "print(LS_m_a_eps_F563)"
   ]
  },
  {
   "cell_type": "code",
   "execution_count": 69,
   "metadata": {},
   "outputs": [
    {
     "name": "stdout",
     "output_type": "stream",
     "text": [
      "[7.79931606e-24 5.39579934e-04]\n"
     ]
    }
   ],
   "source": [
    "print(np.exp(LS_m_a_eps_F563.x))"
   ]
  },
  {
   "cell_type": "code",
   "execution_count": 71,
   "metadata": {},
   "outputs": [
    {
     "name": "stderr",
     "output_type": "stream",
     "text": [
      "/Users/atalianb/miniconda3/envs/py37/lib/python3.7/site-packages/ipykernel_launcher.py:2: DeprecationWarning: np.asscalar(a) is deprecated since NumPy v1.16, use a.item() instead\n",
      "  \n"
     ]
    },
    {
     "data": {
      "text/plain": [
       "Text(0.5, 1.0, '$m_{a}$=7.79931605779767e-24$\\\\epsilon$=0.0005395799337548258')"
      ]
     },
     "execution_count": 71,
     "metadata": {},
     "output_type": "execute_result"
    },
    {
     "data": {
      "image/png": "[encoded data removed]",
      "text/plain": [
       "<Figure size 432x288 with 1 Axes>"
      ]
     },
     "metadata": {
      "needs_background": "light"
     },
     "output_type": "display_data"
    }
   ],
   "source": [
    "plt.errorbar(vecRp_F563,vecvRp_F563,yerr=vecerrvRp_F563,fmt='.')\n",
    "plt.plot(vecRp_F563,Vc_xi2(vecRp_F563,np.asscalar(np.exp(LS_m_a_eps_F563.x[0])),np.asscalar(np.exp(LS_m_a_eps_F563.x[1]))))\n",
    "plt.ylabel(r'$v_{c}(r)$[km/s]')\n",
    "plt.xlabel(\"r[kpc]\")\n",
    "plt.title(r'$m_{a}$='+str(np.exp(LS_m_a_eps_F563.x[0]))+r'$\\epsilon$='+str(np.exp(LS_m_a_eps_F563.x[1])))"
   ]
  },
  {
   "cell_type": "markdown",
   "metadata": {},
   "source": [
    "# F568"
   ]
  },
  {
   "cell_type": "code",
   "execution_count": 75,
   "metadata": {},
   "outputs": [],
   "source": [
    "F568 = np.loadtxt(path+\"F568-3_rotmod.dat\")"
   ]
  },
  {
   "cell_type": "code",
   "execution_count": 76,
   "metadata": {},
   "outputs": [],
   "source": [
    "vecRp_F568 = np.array([row[0] for row in F568])# galactocentric distance [kpc]\n",
    "vecvRp_F568 = np.array([row[1] for row in F568])# rotation velocity [km/s]\n",
    "vecerrvRp_F568 = np.array([row[2] for row in F568])# error in rotation velocity [km/s]"
   ]
  },
  {
   "cell_type": "code",
   "execution_count": 77,
   "metadata": {},
   "outputs": [
    {
     "data": {
      "text/plain": [
       "<matplotlib.legend.Legend at 0x7f874d432ad0>"
      ]
     },
     "execution_count": 77,
     "metadata": {},
     "output_type": "execute_result"
    },
    {
     "data": {
      "image/png": "[encoded data removed]",
      "text/plain": [
       "<Figure size 432x288 with 1 Axes>"
      ]
     },
     "metadata": {
      "needs_background": "light"
     },
     "output_type": "display_data"
    }
   ],
   "source": [
    "plt.errorbar(vecRp_F568,vecvRp_F568,yerr=vecerrvRp_F568,fmt='.',label='F568')\n",
    "plt.ylabel(r'$v_{c}(r)$[km/s]')\n",
    "plt.xlabel(\"r[kpc]\")\n",
    "plt.title('F568-3_rotmod.dat')\n",
    "plt.legend(loc='lower right', prop={'size':10})"
   ]
  },
  {
   "cell_type": "code",
   "execution_count": 78,
   "metadata": {},
   "outputs": [],
   "source": [
    "def Chi2_eps_F568(parameter):\n",
    "    eps = np.exp(parameter)\n",
    "    model = Vc_xi2(vecRp_F568,m_a_,eps,l=1.)\n",
    "    xi = np.sum((vecvRp_F568-model)**2./(vecerrvRp_F568)**2.)\n",
    "    return xi"
   ]
  },
  {
   "cell_type": "code",
   "execution_count": 79,
   "metadata": {},
   "outputs": [
    {
     "name": "stdout",
     "output_type": "stream",
     "text": [
      "      fun: 944.7156959319321\n",
      " hess_inv: <1x1 LbfgsInvHessProduct with dtype=float64>\n",
      "      jac: array([-0.0005798])\n",
      "  message: b'CONVERGENCE: REL_REDUCTION_OF_F_<=_FACTR*EPSMCH'\n",
      "     nfev: 16\n",
      "      nit: 6\n",
      "     njev: 8\n",
      "   status: 0\n",
      "  success: True\n",
      "        x: array([-8.17670796])\n"
     ]
    }
   ],
   "source": [
    "x0_eps_F568 = np.array(np.log(1.0e-4))\n",
    "LS_eps_F568 = optimize.minimize(Chi2_eps_F568,x0_eps_F568,method='L-BFGS-B',bounds=((np.log(1.0e-6),np.log(1.0e-3)),))\n",
    "print(LS_eps_F568)"
   ]
  },
  {
   "cell_type": "code",
   "execution_count": 80,
   "metadata": {},
   "outputs": [
    {
     "name": "stdout",
     "output_type": "stream",
     "text": [
      "[0.00028113]\n"
     ]
    }
   ],
   "source": [
    "print(np.exp(LS_eps_F568.x))"
   ]
  },
  {
   "cell_type": "code",
   "execution_count": 81,
   "metadata": {},
   "outputs": [
    {
     "name": "stderr",
     "output_type": "stream",
     "text": [
      "/Users/atalianb/miniconda3/envs/py37/lib/python3.7/site-packages/ipykernel_launcher.py:2: DeprecationWarning: np.asscalar(a) is deprecated since NumPy v1.16, use a.item() instead\n",
      "  \n"
     ]
    },
    {
     "data": {
      "text/plain": [
       "Text(0.5, 0, 'r[kpc]')"
      ]
     },
     "execution_count": 81,
     "metadata": {},
     "output_type": "execute_result"
    },
    {
     "data": {
      "image/png": "[encoded data removed]",
      "text/plain": [
       "<Figure size 432x288 with 1 Axes>"
      ]
     },
     "metadata": {
      "needs_background": "light"
     },
     "output_type": "display_data"
    }
   ],
   "source": [
    "plt.errorbar(vecRp_F568,vecvRp_F568,yerr=vecerrvRp_F568,fmt='.')\n",
    "plt.plot(vecRp_F568,Vc_xi2(vecRp_F568,m_a_,np.asscalar(np.exp(LS_eps_F568.x))))\n",
    "plt.ylabel(r'$v_{c}(r)$[km/s]')\n",
    "plt.xlabel(\"r[kpc]\")"
   ]
  },
  {
   "cell_type": "markdown",
   "metadata": {},
   "source": [
    "$m_{a}$"
   ]
  },
  {
   "cell_type": "code",
   "execution_count": 82,
   "metadata": {},
   "outputs": [],
   "source": [
    "def Chi2_m_a_F568(parameter):\n",
    "    m_a = np.exp(parameter)\n",
    "    model = Vc_xi2(vecRp_F568,m_a,eps_,l=1.)\n",
    "    xi = np.sum((vecvRp_F568-model)**2./(vecerrvRp_F568)**2.)\n",
    "    return xi"
   ]
  },
  {
   "cell_type": "code",
   "execution_count": 83,
   "metadata": {},
   "outputs": [
    {
     "name": "stdout",
     "output_type": "stream",
     "text": [
      "      fun: 313.21598139777393\n",
      " hess_inv: <1x1 LbfgsInvHessProduct with dtype=float64>\n",
      "      jac: array([4.54747313e-05])\n",
      "  message: b'CONVERGENCE: REL_REDUCTION_OF_F_<=_FACTR*EPSMCH'\n",
      "     nfev: 16\n",
      "      nit: 5\n",
      "     njev: 8\n",
      "   status: 0\n",
      "  success: True\n",
      "        x: array([-52.61675773])\n"
     ]
    }
   ],
   "source": [
    "x0_m_a_F568 = np.array(np.log(1.0e-23))\n",
    "LS_m_a_F568 = optimize.minimize(Chi2_m_a_F568,x0_m_a_F568,method='L-BFGS-B',bounds=((np.log(1.0e-24),np.log(1.0e-20)),))\n",
    "print(LS_m_a_F568)"
   ]
  },
  {
   "cell_type": "code",
   "execution_count": 84,
   "metadata": {},
   "outputs": [
    {
     "name": "stdout",
     "output_type": "stream",
     "text": [
      "[1.40874525e-23]\n"
     ]
    }
   ],
   "source": [
    "print(np.exp(LS_m_a_F568.x))"
   ]
  },
  {
   "cell_type": "code",
   "execution_count": 85,
   "metadata": {},
   "outputs": [
    {
     "name": "stderr",
     "output_type": "stream",
     "text": [
      "/Users/atalianb/miniconda3/envs/py37/lib/python3.7/site-packages/ipykernel_launcher.py:2: DeprecationWarning: np.asscalar(a) is deprecated since NumPy v1.16, use a.item() instead\n",
      "  \n"
     ]
    },
    {
     "data": {
      "text/plain": [
       "Text(0.5, 0, 'r[kpc]')"
      ]
     },
     "execution_count": 85,
     "metadata": {},
     "output_type": "execute_result"
    },
    {
     "data": {
      "image/png": "[encoded data removed]",
      "text/plain": [
       "<Figure size 432x288 with 1 Axes>"
      ]
     },
     "metadata": {
      "needs_background": "light"
     },
     "output_type": "display_data"
    }
   ],
   "source": [
    "plt.errorbar(vecRp_F568,vecvRp_F568,yerr=vecerrvRp_F568,fmt='.')\n",
    "plt.plot(vecRp_F568,Vc_xi2(vecRp_F568,np.asscalar(np.exp(LS_m_a_F568.x)),4.0e-4))\n",
    "plt.ylabel(r'$v_{c}(r)$[km/s]')\n",
    "plt.xlabel(\"r[kpc]\")"
   ]
  },
  {
   "cell_type": "markdown",
   "metadata": {},
   "source": [
    "# Dos parámetros"
   ]
  },
  {
   "cell_type": "markdown",
   "metadata": {},
   "source": [
    "$m_{a}$ y $\\epsilon$"
   ]
  },
  {
   "cell_type": "code",
   "execution_count": 86,
   "metadata": {},
   "outputs": [],
   "source": [
    "def Xi2_m_a_eps_F568(params):\n",
    "    m_a,eps = params\n",
    "    par = np.exp(m_a),np.exp(eps)\n",
    "    model = Vc_l0_m_a_eps(vecRp_F568,par)\n",
    "    xi  = np.sum((vecvRp_F568-model)**2./(vecerrvRp_F568)**2.)\n",
    "    return xi"
   ]
  },
  {
   "cell_type": "code",
   "execution_count": 87,
   "metadata": {},
   "outputs": [
    {
     "name": "stdout",
     "output_type": "stream",
     "text": [
      "      fun: 72.11094956345354\n",
      " hess_inv: <2x2 LbfgsInvHessProduct with dtype=float64>\n",
      "      jac: array([0.00000000e+00, 2.84217096e-06])\n",
      "  message: b'CONVERGENCE: NORM_OF_PROJECTED_GRADIENT_<=_PGTOL'\n",
      "     nfev: 69\n",
      "      nit: 12\n",
      "     njev: 23\n",
      "   status: 0\n",
      "  success: True\n",
      "        x: array([-53.57516005,  -7.72563293])\n"
     ]
    }
   ],
   "source": [
    "x0_m_a_eps_F568 = np.array([np.log(1.0e-23),np.log(1.0e-5)])\n",
    "LS_m_a_eps_F568 = optimize.minimize(Xi2_m_a_eps_F568,x0_m_a_eps_F568,method='L-BFGS-B',bounds=((np.log(1.0e-25),np.log(1.0e-21)),(np.log(1.0e-6),np.log(1.0e-3)),))\n",
    "print(LS_m_a_eps_F568)"
   ]
  },
  {
   "cell_type": "code",
   "execution_count": 88,
   "metadata": {},
   "outputs": [
    {
     "name": "stdout",
     "output_type": "stream",
     "text": [
      "[5.40261008e-24 4.41367399e-04]\n"
     ]
    }
   ],
   "source": [
    "print(np.exp(LS_m_a_eps_F568.x))"
   ]
  },
  {
   "cell_type": "code",
   "execution_count": 89,
   "metadata": {},
   "outputs": [
    {
     "name": "stderr",
     "output_type": "stream",
     "text": [
      "/Users/atalianb/miniconda3/envs/py37/lib/python3.7/site-packages/ipykernel_launcher.py:2: DeprecationWarning: np.asscalar(a) is deprecated since NumPy v1.16, use a.item() instead\n",
      "  \n"
     ]
    },
    {
     "data": {
      "text/plain": [
       "Text(0.5, 0, 'r[kpc]')"
      ]
     },
     "execution_count": 89,
     "metadata": {},
     "output_type": "execute_result"
    },
    {
     "data": {
      "image/png": "[encoded data removed]",
      "text/plain": [
       "<Figure size 432x288 with 1 Axes>"
      ]
     },
     "metadata": {
      "needs_background": "light"
     },
     "output_type": "display_data"
    }
   ],
   "source": [
    "plt.errorbar(vecRp_F568,vecvRp_F568,yerr=vecerrvRp_F568,fmt='.')\n",
    "plt.plot(vecRp_F568,Vc_xi2(vecRp_F568,np.asscalar(np.exp(LS_m_a_eps_F568.x[0])),np.asscalar(np.exp(LS_m_a_eps_F568.x[1]))))\n",
    "plt.ylabel(r'$v_{c}(r)$[km/s]')\n",
    "plt.xlabel(\"r[kpc]\")"
   ]
  },
  {
   "cell_type": "markdown",
   "metadata": {},
   "source": [
    "# F571"
   ]
  },
  {
   "cell_type": "code",
   "execution_count": 90,
   "metadata": {},
   "outputs": [],
   "source": [
    "F571 = np.loadtxt(path+\"F571-V1_rotmod.dat\")"
   ]
  },
  {
   "cell_type": "code",
   "execution_count": 91,
   "metadata": {},
   "outputs": [],
   "source": [
    "vecRp_F571 = np.array([row[0] for row in F571])# galactocentric distance [kpc]\n",
    "vecvRp_F571 = np.array([row[1] for row in F571])# rotation velocity [km/s]\n",
    "vecerrvRp_F571 = np.array([row[2] for row in F571])# error in rotation velocity [km/s]"
   ]
  },
  {
   "cell_type": "code",
   "execution_count": 92,
   "metadata": {},
   "outputs": [
    {
     "data": {
      "text/plain": [
       "<matplotlib.legend.Legend at 0x7f874e36a750>"
      ]
     },
     "execution_count": 92,
     "metadata": {},
     "output_type": "execute_result"
    },
    {
     "data": {
      "image/png": "[encoded data removed]",
      "text/plain": [
       "<Figure size 432x288 with 1 Axes>"
      ]
     },
     "metadata": {
      "needs_background": "light"
     },
     "output_type": "display_data"
    }
   ],
   "source": [
    "plt.errorbar(vecRp_F571,vecvRp_F571,yerr=vecerrvRp_F571,fmt='.',label='F571')\n",
    "plt.ylabel(r'$v_{c}(r)$[km/s]')\n",
    "plt.xlabel(\"r[kpc]\")\n",
    "plt.title('F571-V1_rotmod.dat')\n",
    "plt.legend(loc='lower right', prop={'size':10})"
   ]
  },
  {
   "cell_type": "markdown",
   "metadata": {},
   "source": [
    "# $\\epsilon$"
   ]
  },
  {
   "cell_type": "code",
   "execution_count": 93,
   "metadata": {},
   "outputs": [],
   "source": [
    "def Chi2_eps_F571(parameter):\n",
    "    eps = np.exp(parameter)\n",
    "    model = Vc_xi2(vecRp_F571,m_a_,eps,l=1.)\n",
    "    xi = np.sum((vecvRp_F571-model)**2./(vecerrvRp_F571)**2.)\n",
    "    return xi"
   ]
  },
  {
   "cell_type": "code",
   "execution_count": 94,
   "metadata": {},
   "outputs": [
    {
     "name": "stdout",
     "output_type": "stream",
     "text": [
      "      fun: 188.83379375397766\n",
      " hess_inv: <1x1 LbfgsInvHessProduct with dtype=float64>\n",
      "      jac: array([-5.68434192e-06])\n",
      "  message: b'CONVERGENCE: NORM_OF_PROJECTED_GRADIENT_<=_PGTOL'\n",
      "     nfev: 18\n",
      "      nit: 5\n",
      "     njev: 9\n",
      "   status: 0\n",
      "  success: True\n",
      "        x: array([-5.95540703])\n"
     ]
    }
   ],
   "source": [
    "x0_eps_F571 = np.array(np.log(1.0e-4))\n",
    "LS_eps_F571 = optimize.minimize(Chi2_eps_F571,x0_eps_F571,method='L-BFGS-B',bounds=((np.log(1.0e-5),np.log(1.0e-2)),))\n",
    "print(LS_eps_F571)"
   ]
  },
  {
   "cell_type": "code",
   "execution_count": 95,
   "metadata": {},
   "outputs": [
    {
     "name": "stdout",
     "output_type": "stream",
     "text": [
      "[0.00259179]\n"
     ]
    }
   ],
   "source": [
    "print(np.exp(LS_eps_F571.x))"
   ]
  },
  {
   "cell_type": "code",
   "execution_count": 96,
   "metadata": {},
   "outputs": [
    {
     "name": "stderr",
     "output_type": "stream",
     "text": [
      "/Users/atalianb/miniconda3/envs/py37/lib/python3.7/site-packages/ipykernel_launcher.py:2: DeprecationWarning: np.asscalar(a) is deprecated since NumPy v1.16, use a.item() instead\n",
      "  \n"
     ]
    },
    {
     "data": {
      "text/plain": [
       "Text(0.5, 0, 'r[kpc]')"
      ]
     },
     "execution_count": 96,
     "metadata": {},
     "output_type": "execute_result"
    },
    {
     "data": {
      "image/png": "[encoded data removed]",
      "text/plain": [
       "<Figure size 432x288 with 1 Axes>"
      ]
     },
     "metadata": {
      "needs_background": "light"
     },
     "output_type": "display_data"
    }
   ],
   "source": [
    "plt.errorbar(vecRp_F571,vecvRp_F571,yerr=vecerrvRp_F571,fmt='.')\n",
    "plt.plot(vecRp_F571,Vc_xi2(vecRp_F571,m_a_,np.asscalar(np.exp(LS_eps_F571.x))))\n",
    "plt.ylabel(r'$v_{c}(r)$[km/s]')\n",
    "plt.xlabel(\"r[kpc]\")"
   ]
  },
  {
   "cell_type": "markdown",
   "metadata": {},
   "source": [
    "$m_{a}$"
   ]
  },
  {
   "cell_type": "code",
   "execution_count": 97,
   "metadata": {},
   "outputs": [],
   "source": [
    "def Chi2_m_a_F571(parameter):\n",
    "    m_a = np.exp(parameter)\n",
    "    model = Vc_xi2(vecRp_F571,m_a,eps_,l=1.)\n",
    "    xi = np.sum((vecvRp_F571-model)**2./(vecerrvRp_F571)**2.)\n",
    "    return xi"
   ]
  },
  {
   "cell_type": "code",
   "execution_count": 98,
   "metadata": {},
   "outputs": [
    {
     "name": "stdout",
     "output_type": "stream",
     "text": [
      "      fun: 80.12694304420789\n",
      " hess_inv: <1x1 LbfgsInvHessProduct with dtype=float64>\n",
      "      jac: array([0.02813607])\n",
      "  message: b'CONVERGENCE: REL_REDUCTION_OF_F_<=_FACTR*EPSMCH'\n",
      "     nfev: 60\n",
      "      nit: 6\n",
      "     njev: 30\n",
      "   status: 0\n",
      "  success: True\n",
      "        x: array([-53.26609406])\n"
     ]
    }
   ],
   "source": [
    "x0_m_a_F571 = np.array(np.log(1.0e-23))\n",
    "LS_m_a_F571 = optimize.minimize(Chi2_m_a_F571,x0_m_a_F571,method='L-BFGS-B',bounds=((np.log(1.0e-24),np.log(1.0e-20)),))\n",
    "print(LS_m_a_F571)"
   ]
  },
  {
   "cell_type": "code",
   "execution_count": 99,
   "metadata": {},
   "outputs": [
    {
     "name": "stdout",
     "output_type": "stream",
     "text": [
      "[7.35917749e-24]\n"
     ]
    }
   ],
   "source": [
    "print(np.exp(LS_m_a_F571.x))"
   ]
  },
  {
   "cell_type": "code",
   "execution_count": 100,
   "metadata": {},
   "outputs": [
    {
     "name": "stderr",
     "output_type": "stream",
     "text": [
      "/Users/atalianb/miniconda3/envs/py37/lib/python3.7/site-packages/ipykernel_launcher.py:2: DeprecationWarning: np.asscalar(a) is deprecated since NumPy v1.16, use a.item() instead\n",
      "  \n"
     ]
    },
    {
     "data": {
      "text/plain": [
       "Text(0.5, 0, 'r[kpc]')"
      ]
     },
     "execution_count": 100,
     "metadata": {},
     "output_type": "execute_result"
    },
    {
     "data": {
      "image/png": "[encoded data removed]",
      "text/plain": [
       "<Figure size 432x288 with 1 Axes>"
      ]
     },
     "metadata": {
      "needs_background": "light"
     },
     "output_type": "display_data"
    }
   ],
   "source": [
    "plt.errorbar(vecRp_F571,vecvRp_F571,yerr=vecerrvRp_F571,fmt='.')\n",
    "plt.plot(vecRp_F571,Vc_xi2(vecRp_F571,np.asscalar(np.exp(LS_m_a_F571.x)),eps_))\n",
    "plt.ylabel(r'$v_{c}(r)$[km/s]')\n",
    "plt.xlabel(\"r[kpc]\")"
   ]
  },
  {
   "cell_type": "markdown",
   "metadata": {},
   "source": [
    "# Dos parámetros"
   ]
  },
  {
   "cell_type": "markdown",
   "metadata": {},
   "source": [
    "$m_{a}$ y $\\epsilon$"
   ]
  },
  {
   "cell_type": "code",
   "execution_count": 101,
   "metadata": {},
   "outputs": [],
   "source": [
    "def Xi2_m_a_eps_F571(params):\n",
    "    m_a,eps = params\n",
    "    par = np.exp(m_a),np.exp(eps)\n",
    "    model = Vc_l0_m_a_eps(vecRp_F571,par)\n",
    "    xi  = np.sum((vecvRp_F571-model)**2./(vecerrvRp_F571)**2.)\n",
    "    return xi"
   ]
  },
  {
   "cell_type": "code",
   "execution_count": 102,
   "metadata": {},
   "outputs": [
    {
     "name": "stdout",
     "output_type": "stream",
     "text": [
      "      fun: 8.538791211702877\n",
      " hess_inv: <2x2 LbfgsInvHessProduct with dtype=float64>\n",
      "      jac: array([-8.88178346e-07, -1.59872117e-06])\n",
      "  message: b'CONVERGENCE: NORM_OF_PROJECTED_GRADIENT_<=_PGTOL'\n",
      "     nfev: 60\n",
      "      nit: 11\n",
      "     njev: 20\n",
      "   status: 0\n",
      "  success: True\n",
      "        x: array([-53.61064562,  -7.95914501])\n"
     ]
    }
   ],
   "source": [
    "x0_m_a_eps_F571 = np.array([np.log(1.0e-23),np.log(1.0e-4)])\n",
    "LS_m_a_eps_F571 = optimize.minimize(Xi2_m_a_eps_F571,x0_m_a_eps_F571,method='L-BFGS-B',bounds=((np.log(1.0e-25),np.log(1.0e-20)),(np.log(1.0e-5),np.log(1.0e-3)),))\n",
    "print(LS_m_a_eps_F571)"
   ]
  },
  {
   "cell_type": "code",
   "execution_count": 103,
   "metadata": {},
   "outputs": [
    {
     "name": "stdout",
     "output_type": "stream",
     "text": [
      "[5.21425703e-24 3.49451768e-04]\n"
     ]
    }
   ],
   "source": [
    "print(np.exp(LS_m_a_eps_F571.x))"
   ]
  },
  {
   "cell_type": "code",
   "execution_count": 104,
   "metadata": {},
   "outputs": [
    {
     "name": "stderr",
     "output_type": "stream",
     "text": [
      "/Users/atalianb/miniconda3/envs/py37/lib/python3.7/site-packages/ipykernel_launcher.py:2: DeprecationWarning: np.asscalar(a) is deprecated since NumPy v1.16, use a.item() instead\n",
      "  \n"
     ]
    },
    {
     "data": {
      "text/plain": [
       "Text(0.5, 0, 'r[kpc]')"
      ]
     },
     "execution_count": 104,
     "metadata": {},
     "output_type": "execute_result"
    },
    {
     "data": {
      "image/png": "[encoded data removed]",
      "text/plain": [
       "<Figure size 432x288 with 1 Axes>"
      ]
     },
     "metadata": {
      "needs_background": "light"
     },
     "output_type": "display_data"
    }
   ],
   "source": [
    "plt.errorbar(vecRp_F571,vecvRp_F571,yerr=vecerrvRp_F571,fmt='.')\n",
    "plt.plot(vecRp_F571,Vc_xi2(vecRp_F571,np.asscalar(np.exp(LS_m_a_eps_F571.x[0])),np.asscalar(np.exp(LS_m_a_eps_F571.x[1]))))\n",
    "plt.ylabel(r'$v_{c}(r)$[km/s]')\n",
    "plt.xlabel(\"r[kpc]\")"
   ]
  },
  {
   "cell_type": "code",
   "execution_count": null,
   "metadata": {},
   "outputs": [],
   "source": []
  },
  {
   "cell_type": "code",
   "execution_count": null,
   "metadata": {},
   "outputs": [],
   "source": []
  }
 ],
 "metadata": {
  "kernelspec": {
   "display_name": "Python 3",
   "language": "python",
   "name": "python3"
  },
  "language_info": {
   "codemirror_mode": {
    "name": "ipython",
    "version": 3
   },
   "file_extension": ".py",
   "mimetype": "text/x-python",
   "name": "python",
   "nbconvert_exporter": "python",
   "pygments_lexer": "ipython3",
   "version": "3.7.7"
  }
 },
 "nbformat": 4,
 "nbformat_minor": 4
}
