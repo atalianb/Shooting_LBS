{
 "cells": [
  {
   "cell_type": "code",
   "execution_count": 1,
   "metadata": {},
   "outputs": [],
   "source": [
    "import numpy as np\n",
    "import matplotlib.pyplot as plt\n",
    "from scipy import optimize\n",
    "from scipy import integrate\n",
    "from scipy import interpolate"
   ]
  },
  {
   "cell_type": "code",
   "execution_count": 2,
   "metadata": {},
   "outputs": [],
   "source": [
    "path = \"/Users/atalianb/Documents/data_LBSG/Blok_McGaugh_& _Rubin_(2001)/\""
   ]
  },
  {
   "cell_type": "code",
   "execution_count": 3,
   "metadata": {},
   "outputs": [],
   "source": [
    "##Values for epsilon and the field mass from the chi^2,\n",
    "##taking just l=0 or l=1 for the data set ESO3020120\n",
    "####\n",
    "eps_l0 = 3.8e-4\n",
    "eps_l1 = 3.7e-4\n",
    "m_a_l0 = 6.2e-24#eV/c^2\n",
    "m_a_l1 = 8.8e-24#eV/c^2\n",
    "#####Gravitational Constant\n",
    "G_kpc = 4.302e-6#kpc/SolarMass(km/s)^2\n",
    "####\n",
    "##Integration values\n",
    "###\n",
    "x0_0 = 3.#first integration\n",
    "x0_0v1 = 0.01# Start of integration. Use 0.01 for continuity in l=3 solution, for 0,1,2 0.0 it's ok\n",
    "xf_0v1 = 10.# End of integration\n",
    "step_0 = 0.5#Step to integrate from x0_0 until xf_0v1 is reached\n",
    "##l=0\n",
    "u1_0 = 0.63173215# 1st trial value of unknown init. cond.\n",
    "u2_0 = 1.28125868# 2nd trial value of unknown init. cond.\n",
    "u_0 = np.array([u1_0, u2_0])\n",
    "###l=1 \n",
    "u1_1 = -3.7# 1st trial value of unknown init. cond.\n",
    "u2_1 = -2.2# 2nd trial value of unknown init. cond.\n",
    "u_1 = np.array([u1_1, u2_1])"
   ]
  },
  {
   "cell_type": "code",
   "execution_count": 4,
   "metadata": {},
   "outputs": [],
   "source": [
    "def Integrate(func,x0,y0,x,h):\n",
    "    # Finds value of y for a given x using step size h \n",
    "    # and initial value y0 at x0.\n",
    "    def RK4(func,x0,y0,h):\n",
    "        K0 = h*func(x0,y0)\n",
    "        K1 = h*func(x0 + 0.5*h, y0 + 0.5*K0)\n",
    "        K2 = h*func(x0 + 0.5*h, y0 + 0.5*K1)\n",
    "        K3 = h*func(x0 + h, y0 + K2)\n",
    "        return (K0 + 2.*K1 + 2.*K2 + K3)/6.\n",
    "    X = []\n",
    "    Y = []\n",
    "    X.append(x0)\n",
    "    Y.append(y0)\n",
    "    while x0 < x:\n",
    "         # Count number of iterations using step size or\n",
    "        h = min(h,x - x0)# step height h\n",
    "        y0 = y0 + RK4(func,x0,y0,h)#update next value of y\n",
    "        x0 = x0 + h#update next value of x\n",
    "        X.append(x0)\n",
    "        Y.append(y0)\n",
    "    return np.array(X),np.array(Y)"
   ]
  },
  {
   "cell_type": "code",
   "execution_count": 5,
   "metadata": {},
   "outputs": [],
   "source": [
    "def shooting(func,u,x0,x,xf,step,k,h=0.01):\n",
    "    def res(u):# Boundary condition residual\n",
    "        X,Y = Integrate(func,x0,IC(u,k),x,h)\n",
    "        y = Y[len(Y) - 1]#last value of Y\n",
    "        r = np.zeros(len(u))\n",
    "        r[0] = y[0]#y0(inf)=0\n",
    "        r[1] = y[2]/x + y[3]#y_3(inf)/r + y_4(inf)=0\n",
    "        return r\n",
    "    x_list = []\n",
    "    root_list = []\n",
    "    while x<=xf:\n",
    "        x_list.append(x)\n",
    "        root = optimize.root(res,u)\n",
    "        u = root.x\n",
    "        root_temp = optimize.root(res,root.x)\n",
    "        root_list.append(root_temp.x)\n",
    "        X,Y = Integrate(func,x0,IC(root_temp.x,k),x,h)\n",
    "        x = x+step\n",
    "    return X,Y,root_temp,np.array(x_list),np.array(root_list)"
   ]
  },
  {
   "cell_type": "code",
   "execution_count": 6,
   "metadata": {},
   "outputs": [],
   "source": [
    "def IC(u,k):#Initial conditions array, the first correspond to the initial condition in phi\n",
    "    return np.array([k,0.0,u[0],0.0,u[1]])"
   ]
  },
  {
   "cell_type": "code",
   "execution_count": 7,
   "metadata": {},
   "outputs": [],
   "source": [
    "def f0(x,y):\n",
    "    l = 0.\n",
    "    F = np.zeros(5)\n",
    "    if x==0:\n",
    "        F[0] = y[1]\n",
    "        F[1] = 2.*y[0]*(y[2]-y[4])\n",
    "        F[2] = y[3]\n",
    "        F[3] = 0.\n",
    "        F[4] = 0.\n",
    "    else:\n",
    "        F[0] = y[1]\n",
    "        F[1] = -2.*(l+1.)*y[1]/x +2.*y[0]*(y[2]-y[4])\n",
    "        F[2] = y[3]\n",
    "        F[3] = (2.*l+1.)*x**(2.*l)*y[0]**2. - 2.*y[3]/x\n",
    "        F[4] = 0.\n",
    "    return F\n",
    "def f1(x,y):\n",
    "    l = 1.\n",
    "    F = np.zeros(5)\n",
    "    if x==0:\n",
    "        F[0] = y[1]\n",
    "        F[1] = 2.*y[0]*(y[2]-y[4])\n",
    "        F[2] = y[3]\n",
    "        F[3] = 0.\n",
    "        F[4] = 0.\n",
    "    else:\n",
    "        F[0] = y[1]\n",
    "        F[1] = -2.*(l+1.)*y[1]/x +2.*y[0]*(y[2]-y[4])\n",
    "        F[2] = y[3]\n",
    "        F[3] = (2.*l+1.)*x**(2.*l)*y[0]**2. - 2.*y[3]/x\n",
    "        F[4] = 0.\n",
    "    return F"
   ]
  },
  {
   "cell_type": "code",
   "execution_count": 8,
   "metadata": {},
   "outputs": [],
   "source": [
    "def Mass_func(r,phi,l):\n",
    "    Int = np.zeros(len(r))\n",
    "    dr = np.diff(r)[0]\n",
    "    phi_array = np.array(phi[:,0])\n",
    "    for i in range(0,len(r)-1):\n",
    "        Int[i+1] = dr*(phi_array[i+1]**2.*r[i+1]**(2.*l+2.)) + Int[i]\n",
    "    return Int"
   ]
  },
  {
   "cell_type": "code",
   "execution_count": 9,
   "metadata": {},
   "outputs": [],
   "source": [
    "def Vc2_cir(r,eps,M):\n",
    "    units =8.95e10*eps**2.\n",
    "    return (units*M)/r\n",
    "####\n",
    "##Units for r in kpc\n",
    "###\n",
    "def r_units(r,eps,m_a):\n",
    "    return (6.39e-27*r)/(eps*m_a)"
   ]
  },
  {
   "cell_type": "code",
   "execution_count": 10,
   "metadata": {},
   "outputs": [],
   "source": [
    "def rescaling(phi_0,l):\n",
    "    lmbd = (1./phi_0)**(1/(l+2.))\n",
    "    return lmbd"
   ]
  },
  {
   "cell_type": "code",
   "execution_count": 12,
   "metadata": {},
   "outputs": [],
   "source": [
    "def Vc_xy_phi(r,m_a,eps,phi0,func,s_begin,l):\n",
    "    X0,Y0,root0_f,arr_x0,arr_list0=shooting(func,s_begin,x0_0v1,x0_0,xf_0v1,step_0,k=1.)\n",
    "    Xl = X0*rescaling(phi0,l)\n",
    "    M_r0 = Mass_func(Xl,Y0*phi0,l)#Integrates rho(r) to obtain M(r)\n",
    "    Vc2_r0 = Vc2_cir(Xl,eps,M_r0)#Vc^2[km/s]^2 theoretical\n",
    "    X0_units = r_units(Xl,eps,m_a)#r[kpc] theoretical\n",
    "    M_r0_units = M_r0*eps*1.34e-10/m_a#M(r) with Solar Mass units\n",
    "    if X0_units[-1]<r[-1]:\n",
    "        #array from last element of the r[kpc] theoretical to the last element of the data array,\n",
    "        # with 80 elements. It can be replaced by np.arange(X0_units[-1],vecRp_data[-1],0.1) \n",
    "        #but you have to be careful in the next function with interpolate\n",
    "        r_array = np.linspace(X0_units[-1],r[-1],80)\n",
    "        Vc2_rmayor = G_kpc*M_r0_units[-1]/r_array#Computes Vc^2 with with the last result from M(r)\n",
    "        Vc2_total = np.append(Vc2_r0,Vc2_rmayor)#creates an array of Vc^2 with Vc2_r0 and Vc2_rmayor\n",
    "        r_total = np.append(X0_units,r_array)\n",
    "        return r_total,Vc2_total\n",
    "    else:\n",
    "        return X0_units,Vc2_r0"
   ]
  },
  {
   "cell_type": "code",
   "execution_count": 13,
   "metadata": {},
   "outputs": [],
   "source": [
    "ESO3020120 = np.loadtxt(path+'ESO3020120.dat')"
   ]
  },
  {
   "cell_type": "code",
   "execution_count": 14,
   "metadata": {},
   "outputs": [],
   "source": [
    "vecRp_ESO3020120 = np.array([row[1] for row in ESO3020120])# galactocentric distance [kpc]\n",
    "vecvRp_ESO3020120 = np.array([row[5] for row in ESO3020120])# rotation velocity [km/s]\n",
    "vecerrvRp_ESO3020120 = np.array([row[6] for row in ESO3020120])# error in rotation velocity [km/s]"
   ]
  },
  {
   "cell_type": "code",
   "execution_count": 15,
   "metadata": {},
   "outputs": [
    {
     "data": {
      "text/plain": [
       "Text(0.5, 0, 'r[kpc]')"
      ]
     },
     "execution_count": 15,
     "metadata": {},
     "output_type": "execute_result"
    },
    {
     "data": {
      "image/png": "[encoded data removed]",
      "text/plain": [
       "<Figure size 432x288 with 1 Axes>"
      ]
     },
     "metadata": {
      "needs_background": "light"
     },
     "output_type": "display_data"
    }
   ],
   "source": [
    "plt.errorbar(vecRp_ESO3020120,vecvRp_ESO3020120,yerr=vecerrvRp_ESO3020120,fmt='.')\n",
    "plt.ylabel(r'$v_{c}(r)$[km/s]')\n",
    "plt.xlabel(\"r[kpc]\")"
   ]
  },
  {
   "cell_type": "markdown",
   "metadata": {},
   "source": [
    "# Grid with $\\phi_{0,\\ell = 0}$ and $\\phi_{0,\\ell =1}$"
   ]
  },
  {
   "cell_type": "code",
   "execution_count": 21,
   "metadata": {},
   "outputs": [],
   "source": [
    "def Vc_xi2_phi(r,m_a,eps,phi0,func,u_begin,l):\n",
    "    Vc = Vc_xy_phi(r,m_a,eps,phi0,func,u_begin,l)\n",
    "    #If you want to use np.arange in the previous function, It is recommended to use extrapolate\n",
    "    f = interpolate.interp1d(Vc[0],Vc[1],fill_value='extrapolate')\n",
    "    Vc_new = f(r)\n",
    "    return Vc_new"
   ]
  },
  {
   "cell_type": "code",
   "execution_count": 22,
   "metadata": {},
   "outputs": [],
   "source": [
    "def Vc_m_a_eps_phi0_01(r,params,phi0_0,phi0_1):\n",
    "    m_a,eps0,eps1 = params\n",
    "    Vc2 = Vc_xi2_phi(r,m_a,eps0,phi0_0,f0,u_0,l=0.) + Vc_xi2_phi(r,m_a,eps1,phi0_1,f1,u_1,l=1.)\n",
    "    return np.sqrt(Vc2)"
   ]
  },
  {
   "cell_type": "code",
   "execution_count": 23,
   "metadata": {},
   "outputs": [],
   "source": [
    "def Xi2_m_a_eps_phi01_ESO3020120(params,phi00,phi01):\n",
    "    m_a,eps0,eps1 = params\n",
    "    par = np.exp(m_a),np.exp(eps0),np.exp(eps1)\n",
    "    model = Vc_m_a_eps_phi0_01(vecRp_ESO3020120,par,phi00,phi01)\n",
    "    xi  = np.sum((vecvRp_ESO3020120-model)**2./(vecerrvRp_ESO3020120)**2.)\n",
    "    return xi"
   ]
  },
  {
   "cell_type": "code",
   "execution_count": 18,
   "metadata": {},
   "outputs": [],
   "source": [
    "phi0_array = np.arange(0.01,1.,0.35)"
   ]
  },
  {
   "cell_type": "code",
   "execution_count": 19,
   "metadata": {},
   "outputs": [
    {
     "data": {
      "text/plain": [
       "array([0.01, 0.36, 0.71])"
      ]
     },
     "execution_count": 19,
     "metadata": {},
     "output_type": "execute_result"
    }
   ],
   "source": [
    "phi0_array"
   ]
  },
  {
   "cell_type": "code",
   "execution_count": 30,
   "metadata": {},
   "outputs": [
    {
     "name": "stderr",
     "output_type": "stream",
     "text": [
      "/Users/atalianb/miniconda3/envs/py37/lib/python3.7/site-packages/ipykernel_launcher.py:4: RuntimeWarning: invalid value encountered in sqrt\n",
      "  after removing the cwd from sys.path.\n"
     ]
    },
    {
     "name": "stdout",
     "output_type": "stream",
     "text": [
      "     fun: 84.41857443483681\n",
      "     jac: array([ 4.76004306e+01, -6.38394174e-02,  1.10373278e+02])\n",
      " message: 'Linear search failed'\n",
      "    nfev: 300\n",
      "     nit: 2\n",
      "  status: 4\n",
      " success: False\n",
      "       x: array([-51.92505093,  -9.16838603,  -7.74849317])\n"
     ]
    }
   ],
   "source": [
    "x0_m_a_eps_phi0_ESO3020120 = np.array([np.log(5.0e-23),np.log(1.0e-4),np.log(1.0e-3)])\n",
    "LS_m_a_eps_phi0_ESO3020120 = optimize.minimize(Xi2_m_a_eps_phi01_ESO3020120,x0_m_a_eps_phi0_ESO3020120,method='TNC',bounds=((np.log(1.0e-24),np.log(1.0e-22)),(np.log(1.0e-5),np.log(1.)),(np.log(1.0e-5),np.log(1.)),),args=(phi0_array[0],phi0_array[1]))\n",
    "print(LS_m_a_eps_phi0_ESO3020120)"
   ]
  },
  {
   "cell_type": "code",
   "execution_count": 31,
   "metadata": {},
   "outputs": [
    {
     "data": {
      "text/plain": [
       "array([2.81343514e-23, 1.04284687e-04, 4.31392086e-04])"
      ]
     },
     "execution_count": 31,
     "metadata": {},
     "output_type": "execute_result"
    }
   ],
   "source": [
    "np.exp(LS_m_a_eps_phi0_ESO3020120.x)"
   ]
  },
  {
   "cell_type": "code",
   "execution_count": 32,
   "metadata": {},
   "outputs": [
    {
     "name": "stderr",
     "output_type": "stream",
     "text": [
      "/Users/atalianb/miniconda3/envs/py37/lib/python3.7/site-packages/ipykernel_launcher.py:3: RuntimeWarning: invalid value encountered in sqrt\n",
      "  This is separate from the ipykernel package so we can avoid doing imports until\n"
     ]
    },
    {
     "data": {
      "text/plain": [
       "<matplotlib.legend.Legend at 0x7fb9545c6810>"
      ]
     },
     "execution_count": 32,
     "metadata": {},
     "output_type": "execute_result"
    },
    {
     "data": {
      "image/png": "[encoded data removed]",
      "text/plain": [
       "<Figure size 432x288 with 1 Axes>"
      ]
     },
     "metadata": {
      "needs_background": "light"
     },
     "output_type": "display_data"
    }
   ],
   "source": [
    "plt.errorbar(vecRp_ESO3020120,vecvRp_ESO3020120,yerr=vecerrvRp_ESO3020120,fmt='.',label='data')\n",
    "plt.plot(vecRp_ESO3020120,Vc_m_a_eps_phi0_01(vecRp_ESO3020120,np.exp(LS_m_a_eps_phi0_ESO3020120.x),phi0_array[0],phi0_array[1]),label='total')\n",
    "plt.plot(vecRp_ESO3020120,np.sqrt(Vc_xi2_phi(vecRp_ESO3020120,np.exp(LS_m_a_eps_phi0_ESO3020120.x[0]),np.exp(LS_m_a_eps_phi0_ESO3020120.x[1]),phi0_array[0],f0,u_0,l=0.)),label='l=0,'r'$\\phi_{0}=$'+str(phi0_array[0]))\n",
    "plt.plot(vecRp_ESO3020120,np.sqrt(Vc_xi2_phi(vecRp_ESO3020120,np.exp(LS_m_a_eps_phi0_ESO3020120.x[0]),np.exp(LS_m_a_eps_phi0_ESO3020120.x[2]),phi0_array[1],f1,u_1,l=1.)),label='l=1,'r'$\\phi_{0}=$'+str(phi0_array[1]))\n",
    "plt.ylabel(r'$v_{c}(r)$[km/s]')\n",
    "plt.xlabel(\"r[kpc]\")\n",
    "plt.legend(loc='lower right')"
   ]
  },
  {
   "cell_type": "code",
   "execution_count": 33,
   "metadata": {},
   "outputs": [
    {
     "name": "stderr",
     "output_type": "stream",
     "text": [
      "/Users/atalianb/miniconda3/envs/py37/lib/python3.7/site-packages/ipykernel_launcher.py:1: RuntimeWarning: invalid value encountered in sqrt\n",
      "  \"\"\"Entry point for launching an IPython kernel.\n"
     ]
    },
    {
     "data": {
      "text/plain": [
       "<matplotlib.legend.Legend at 0x7fb9547c9c50>"
      ]
     },
     "execution_count": 33,
     "metadata": {},
     "output_type": "execute_result"
    },
    {
     "data": {
      "image/png": "[encoded data removed]",
      "text/plain": [
       "<Figure size 432x288 with 1 Axes>"
      ]
     },
     "metadata": {
      "needs_background": "light"
     },
     "output_type": "display_data"
    }
   ],
   "source": [
    "plt.plot(vecRp_ESO3020120,np.sqrt(Vc_xi2_phi(vecRp_ESO3020120,np.exp(LS_m_a_eps_phi0_ESO3020120.x[0]),np.exp(LS_m_a_eps_phi0_ESO3020120.x[1]),phi0_array[0],f0,u_0,l=0.)),label='l=0,'r'$\\phi_{0}=$'+str(phi0_array[0]))\n",
    "plt.ylabel(r'$v_{c}(r)$[km/s]')\n",
    "plt.xlabel(\"r[kpc]\")\n",
    "plt.legend(loc='lower right')"
   ]
  },
  {
   "cell_type": "markdown",
   "metadata": {},
   "source": [
    "# taking $m_{a}$ as a constant"
   ]
  },
  {
   "cell_type": "code",
   "execution_count": 36,
   "metadata": {},
   "outputs": [],
   "source": [
    "def Vc_eps_phi0_01(r,params,phi0_0,phi0_1):\n",
    "    eps0,eps1 = params\n",
    "    Vc2 = Vc_xi2_phi(r,m_a_l0,eps0,phi0_0,f0,u_0,l=0.) + Vc_xi2_phi(r,m_a_l0,eps1,phi0_1,f1,u_1,l=1.)\n",
    "    return np.sqrt(Vc2)"
   ]
  },
  {
   "cell_type": "code",
   "execution_count": 37,
   "metadata": {},
   "outputs": [],
   "source": [
    "def Xi2_eps_phi01_ESO3020120(params,phi00,phi01):\n",
    "    eps0,eps1 = params\n",
    "    par = np.exp(eps0),np.exp(eps1)\n",
    "    model = Vc_eps_phi0_01(vecRp_ESO3020120,par,phi00,phi01)\n",
    "    xi  = np.sum((vecvRp_ESO3020120-model)**2./(vecerrvRp_ESO3020120)**2.)\n",
    "    return xi"
   ]
  },
  {
   "cell_type": "code",
   "execution_count": 38,
   "metadata": {},
   "outputs": [
    {
     "name": "stdout",
     "output_type": "stream",
     "text": [
      "     fun: 19.131296826676078\n",
      "     jac: array([0.00054783, 0.002116  ])\n",
      " message: 'Converged (|f_n-f_(n-1)| ~= 0)'\n",
      "    nfev: 261\n",
      "     nit: 19\n",
      "  status: 1\n",
      " success: True\n",
      "       x: array([-11.18471009,  -7.41278032])\n"
     ]
    }
   ],
   "source": [
    "x0_eps_phi0_ESO3020120 = np.array([np.log(1.0e-4),np.log(1.0e-3)])\n",
    "LS_eps_phi0_ESO3020120 = optimize.minimize(Xi2_eps_phi01_ESO3020120,x0_eps_phi0_ESO3020120,method='TNC',bounds=((np.log(1.0e-5),np.log(1.)),(np.log(1.0e-5),np.log(1.)),),args=(phi0_array[2],phi0_array[1]))\n",
    "print(LS_eps_phi0_ESO3020120)"
   ]
  },
  {
   "cell_type": "code",
   "execution_count": 40,
   "metadata": {},
   "outputs": [
    {
     "data": {
      "text/plain": [
       "array([1.38848798e-05, 6.03490462e-04])"
      ]
     },
     "execution_count": 40,
     "metadata": {},
     "output_type": "execute_result"
    }
   ],
   "source": [
    "np.exp(LS_eps_phi0_ESO3020120.x)"
   ]
  },
  {
   "cell_type": "code",
   "execution_count": 48,
   "metadata": {},
   "outputs": [
    {
     "name": "stderr",
     "output_type": "stream",
     "text": [
      "/Users/atalianb/miniconda3/envs/py37/lib/python3.7/site-packages/ipykernel_launcher.py:3: RuntimeWarning: invalid value encountered in sqrt\n",
      "  This is separate from the ipykernel package so we can avoid doing imports until\n"
     ]
    },
    {
     "data": {
      "text/plain": [
       "<matplotlib.legend.Legend at 0x7fb9554bc810>"
      ]
     },
     "execution_count": 48,
     "metadata": {},
     "output_type": "execute_result"
    },
    {
     "data": {
      "image/png": "[encoded data removed]",
      "text/plain": [
       "<Figure size 432x288 with 1 Axes>"
      ]
     },
     "metadata": {
      "needs_background": "light"
     },
     "output_type": "display_data"
    }
   ],
   "source": [
    "plt.errorbar(vecRp_ESO3020120,vecvRp_ESO3020120,yerr=vecerrvRp_ESO3020120,fmt='.',label='data')\n",
    "plt.plot(vecRp_ESO3020120,Vc_eps_phi0_01(vecRp_ESO3020120,np.exp(LS_eps_phi0_ESO3020120.x),phi0_array[2],phi0_array[1]),label='total')\n",
    "plt.plot(vecRp_ESO3020120,np.sqrt(Vc_xi2_phi(vecRp_ESO3020120,m_a_l0,np.exp(LS_eps_phi0_ESO3020120.x[0]),phi0_array[2],f0,u_0,l=0.)),label='l=0,'r'$\\phi_{0}=$'+str(phi0_array[2]))\n",
    "plt.plot(vecRp_ESO3020120,np.sqrt(Vc_xi2_phi(vecRp_ESO3020120,m_a_l0,np.exp(LS_eps_phi0_ESO3020120.x[1]),phi0_array[1],f1,u_1,l=1.)),label='l=1,'r'$\\phi_{0}=$'+str(phi0_array[1]))\n",
    "plt.ylabel(r'$v_{c}(r)$[km/s]')\n",
    "plt.xlabel(\"r[kpc]\")\n",
    "plt.legend(loc='lower right')"
   ]
  },
  {
   "cell_type": "code",
   "execution_count": 50,
   "metadata": {},
   "outputs": [
    {
     "name": "stderr",
     "output_type": "stream",
     "text": [
      "/Users/atalianb/miniconda3/envs/py37/lib/python3.7/site-packages/ipykernel_launcher.py:2: RuntimeWarning: invalid value encountered in sqrt\n",
      "  \n"
     ]
    },
    {
     "data": {
      "text/plain": [
       "<matplotlib.legend.Legend at 0x7fb955462a10>"
      ]
     },
     "execution_count": 50,
     "metadata": {},
     "output_type": "execute_result"
    },
    {
     "data": {
      "image/png": "[encoded data removed]",
      "text/plain": [
       "<Figure size 432x288 with 1 Axes>"
      ]
     },
     "metadata": {
      "needs_background": "light"
     },
     "output_type": "display_data"
    }
   ],
   "source": [
    "#plt.errorbar(vecRp_ESO3020120,vecvRp_ESO3020120,yerr=vecerrvRp_ESO3020120,fmt='.',label='data')\n",
    "plt.plot(vecRp_ESO3020120,np.sqrt(Vc_xi2_phi(vecRp_ESO3020120,m_a_l0,np.exp(LS_eps_phi0_ESO3020120.x[0]),phi0_array[2],f0,u_0,l=0.)),label='l=0,'r'$\\phi_{0}=$'+str(phi0_array[2]))\n",
    "plt.ylabel(r'$v_{c}(r)$[km/s]')\n",
    "plt.xlabel(\"r[kpc]\")\n",
    "plt.legend(loc='lower right')"
   ]
  },
  {
   "cell_type": "code",
   "execution_count": 51,
   "metadata": {},
   "outputs": [],
   "source": [
    "r_test = np.linspace(vecRp_ESO3020120[0],vecRp_ESO3020120[-1],30)"
   ]
  },
  {
   "cell_type": "code",
   "execution_count": 52,
   "metadata": {},
   "outputs": [],
   "source": [
    "Vc2_test = Vc_xy_phi(r_test,m_a_l0,3.5e-4,0.5,f0,u_0,l=0.)"
   ]
  },
  {
   "cell_type": "code",
   "execution_count": 54,
   "metadata": {},
   "outputs": [
    {
     "data": {
      "text/plain": [
       "[<matplotlib.lines.Line2D at 0x7fb9553c6050>]"
      ]
     },
     "execution_count": 54,
     "metadata": {},
     "output_type": "execute_result"
    },
    {
     "data": {
      "image/png": "[encoded data removed]",
      "text/plain": [
       "<Figure size 432x288 with 1 Axes>"
      ]
     },
     "metadata": {
      "needs_background": "light"
     },
     "output_type": "display_data"
    }
   ],
   "source": [
    "plt.plot(Vc2_test[0],np.sqrt(Vc2_test[1]))"
   ]
  },
  {
   "cell_type": "code",
   "execution_count": 55,
   "metadata": {},
   "outputs": [],
   "source": [
    "Vc2_test2 = Vc_xi2_phi(r_test,m_a_l0,3.5e-4,0.5,f0,u_0,l=0.)"
   ]
  },
  {
   "cell_type": "code",
   "execution_count": 58,
   "metadata": {},
   "outputs": [
    {
     "data": {
      "text/plain": [
       "(0.0, 10.95)"
      ]
     },
     "execution_count": 58,
     "metadata": {},
     "output_type": "execute_result"
    },
    {
     "data": {
      "image/png": "[encoded data removed]",
      "text/plain": [
       "<Figure size 432x288 with 1 Axes>"
      ]
     },
     "metadata": {
      "needs_background": "light"
     },
     "output_type": "display_data"
    }
   ],
   "source": [
    "plt.plot(Vc2_test[0],np.sqrt(Vc2_test[1]))\n",
    "plt.plot(r_test,np.sqrt(Vc2_test2),'.')\n",
    "plt.xlim(0.,vecRp_ESO3020120[-1])"
   ]
  },
  {
   "cell_type": "code",
   "execution_count": 59,
   "metadata": {},
   "outputs": [
    {
     "data": {
      "text/plain": [
       "0.71"
      ]
     },
     "execution_count": 59,
     "metadata": {},
     "output_type": "execute_result"
    }
   ],
   "source": [
    "phi0_array[2]"
   ]
  },
  {
   "cell_type": "code",
   "execution_count": 60,
   "metadata": {},
   "outputs": [],
   "source": [
    "vc2_test4 = Vc_xy_phi(vecRp_ESO3020120,m_a_l0,1.38848798e-05,phi0_array[2],f0,u_0,l=0.)"
   ]
  },
  {
   "cell_type": "code",
   "execution_count": 61,
   "metadata": {},
   "outputs": [
    {
     "data": {
      "text/plain": [
       "[<matplotlib.lines.Line2D at 0x7fb95495bed0>]"
      ]
     },
     "execution_count": 61,
     "metadata": {},
     "output_type": "execute_result"
    },
    {
     "data": {
      "image/png": "[encoded data removed]",
      "text/plain": [
       "<Figure size 432x288 with 1 Axes>"
      ]
     },
     "metadata": {
      "needs_background": "light"
     },
     "output_type": "display_data"
    }
   ],
   "source": [
    "plt.plot(vc2_test4[0],np.sqrt(vc2_test4[1]))"
   ]
  },
  {
   "cell_type": "code",
   "execution_count": 62,
   "metadata": {},
   "outputs": [],
   "source": [
    "Vc2_test4 = Vc_xi2_phi(vecRp_ESO3020120,m_a_l0,1.38848798e-05,phi0_array[2],f0,u_0,l=0.)"
   ]
  },
  {
   "cell_type": "code",
   "execution_count": 65,
   "metadata": {},
   "outputs": [
    {
     "name": "stderr",
     "output_type": "stream",
     "text": [
      "/Users/atalianb/miniconda3/envs/py37/lib/python3.7/site-packages/ipykernel_launcher.py:2: RuntimeWarning: invalid value encountered in sqrt\n",
      "  \n"
     ]
    },
    {
     "data": {
      "text/plain": [
       "[<matplotlib.lines.Line2D at 0x7fb954a7dd90>]"
      ]
     },
     "execution_count": 65,
     "metadata": {},
     "output_type": "execute_result"
    },
    {
     "data": {
      "image/png": "[encoded data removed]",
      "text/plain": [
       "<Figure size 432x288 with 1 Axes>"
      ]
     },
     "metadata": {
      "needs_background": "light"
     },
     "output_type": "display_data"
    }
   ],
   "source": [
    "plt.plot(vc2_test4[0],np.sqrt(vc2_test4[1]))\n",
    "plt.plot(vecRp_ESO3020120,np.sqrt(Vc2_test4),'.')\n",
    "#plt.xlim(0.,vecRp_ESO3020120[-1])"
   ]
  },
  {
   "cell_type": "markdown",
   "metadata": {},
   "source": [
    "# with other values of $\\phi_{0}$"
   ]
  },
  {
   "cell_type": "code",
   "execution_count": 69,
   "metadata": {},
   "outputs": [
    {
     "name": "stdout",
     "output_type": "stream",
     "text": [
      "      fun: 19.29257155560639\n",
      " hess_inv: <2x2 LbfgsInvHessProduct with dtype=float64>\n",
      "      jac: array([ 6.15016609e-01, -1.42108548e-06])\n",
      "  message: b'CONVERGENCE: NORM_OF_PROJECTED_GRADIENT_<=_PGTOL'\n",
      "     nfev: 54\n",
      "      nit: 14\n",
      "     njev: 18\n",
      "   status: 0\n",
      "  success: True\n",
      "        x: array([-9.21034037, -6.22019223])\n"
     ]
    }
   ],
   "source": [
    "x0_eps_phi0_ESO3020120_ = np.array([np.log(1.0e-3),np.log(1.0e-3)])\n",
    "LS_eps_phi0_ESO3020120_ = optimize.minimize(Xi2_eps_phi01_ESO3020120,x0_eps_phi0_ESO3020120,method='L-BFGS-B',bounds=((np.log(1.0e-4),np.log(1.0e-2)),(np.log(1.0e-5),np.log(1.)),),args=(phi0_array[2],phi0_array[0]))\n",
    "print(LS_eps_phi0_ESO3020120_)"
   ]
  },
  {
   "cell_type": "code",
   "execution_count": 70,
   "metadata": {},
   "outputs": [
    {
     "data": {
      "text/plain": [
       "array([0.0001    , 0.00198886])"
      ]
     },
     "execution_count": 70,
     "metadata": {},
     "output_type": "execute_result"
    }
   ],
   "source": [
    "np.exp(LS_eps_phi0_ESO3020120_.x)"
   ]
  },
  {
   "cell_type": "code",
   "execution_count": 71,
   "metadata": {},
   "outputs": [
    {
     "data": {
      "text/plain": [
       "<matplotlib.legend.Legend at 0x7fb9574c6310>"
      ]
     },
     "execution_count": 71,
     "metadata": {},
     "output_type": "execute_result"
    },
    {
     "data": {
      "image/png": "[encoded data removed]",
      "text/plain": [
       "<Figure size 432x288 with 1 Axes>"
      ]
     },
     "metadata": {
      "needs_background": "light"
     },
     "output_type": "display_data"
    }
   ],
   "source": [
    "plt.errorbar(vecRp_ESO3020120,vecvRp_ESO3020120,yerr=vecerrvRp_ESO3020120,fmt='.',label='data')\n",
    "plt.plot(vecRp_ESO3020120,Vc_eps_phi0_01(vecRp_ESO3020120,np.exp(LS_eps_phi0_ESO3020120_.x),phi0_array[2],phi0_array[0]),label='total')\n",
    "plt.plot(vecRp_ESO3020120,np.sqrt(Vc_xi2_phi(vecRp_ESO3020120,m_a_l0,np.exp(LS_eps_phi0_ESO3020120_.x[0]),phi0_array[2],f0,u_0,l=0.)),label='l=0,'r'$\\phi_{0}=$'+str(phi0_array[2]))\n",
    "plt.plot(vecRp_ESO3020120,np.sqrt(Vc_xi2_phi(vecRp_ESO3020120,m_a_l0,np.exp(LS_eps_phi0_ESO3020120_.x[1]),phi0_array[0],f1,u_1,l=1.)),label='l=1,'r'$\\phi_{0}=$'+str(phi0_array[0]))\n",
    "plt.ylabel(r'$v_{c}(r)$[km/s]')\n",
    "plt.xlabel(\"r[kpc]\")\n",
    "plt.legend(loc='lower right')"
   ]
  },
  {
   "cell_type": "code",
   "execution_count": null,
   "metadata": {},
   "outputs": [],
   "source": []
  }
 ],
 "metadata": {
  "kernelspec": {
   "display_name": "Python 3",
   "language": "python",
   "name": "python3"
  },
  "language_info": {
   "codemirror_mode": {
    "name": "ipython",
    "version": 3
   },
   "file_extension": ".py",
   "mimetype": "text/x-python",
   "name": "python",
   "nbconvert_exporter": "python",
   "pygments_lexer": "ipython3",
   "version": "3.7.7"
  }
 },
 "nbformat": 4,
 "nbformat_minor": 4
}
