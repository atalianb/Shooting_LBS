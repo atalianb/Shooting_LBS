{
 "cells": [
  {
   "cell_type": "code",
   "execution_count": 1,
   "metadata": {},
   "outputs": [],
   "source": [
    "import numpy as np\n",
    "import matplotlib.pyplot as plt\n",
    "from scipy import optimize\n",
    "from scipy import integrate\n",
    "from scipy import interpolate"
   ]
  },
  {
   "cell_type": "code",
   "execution_count": 2,
   "metadata": {},
   "outputs": [],
   "source": [
    "path = \"/Users/atalianb/Documents/data_LBSG/Blok_McGaugh_& _Rubin_(2001)/\""
   ]
  },
  {
   "cell_type": "code",
   "execution_count": 3,
   "metadata": {},
   "outputs": [],
   "source": [
    "##Values\n",
    "####\n",
    "eps_ = 2.5e-4#\n",
    "m_a_ = 1.0e-22#eV/c^2\n",
    "G_kpc = 4.302e-6#kpc/SolarMass(km/s)^2\n",
    "####\n",
    "##Integration values\n",
    "###\n",
    "x0_0 = 3.#first integration\n",
    "x0_0v1 = 0.01# Start of integration. Use 0.01 for continuity in l=3 solution, for 0,1,2 0.0 it's ok\n",
    "xf_0v1 = 10.# End of integration\n",
    "step_0 = 0.5#Step to integrate from x0_0 until xf_0v1 is reached\n",
    "##l=0\n",
    "u1_0 = 0.63173215# 1st trial value of unknown init. cond.\n",
    "u2_0 = 1.28125868# 2nd trial value of unknown init. cond.\n",
    "u_0 = np.array([u1_0, u2_0])\n",
    "###l=1 \n",
    "u1_1 = -3.7# 1st trial value of unknown init. cond.\n",
    "u2_1 = -2.2# 2nd trial value of unknown init. cond.\n",
    "u_1 = np.array([u1_1, u2_1])"
   ]
  },
  {
   "cell_type": "code",
   "execution_count": 4,
   "metadata": {},
   "outputs": [],
   "source": [
    "def Integrate(func,x0,y0,x,h):\n",
    "    # Finds value of y for a given x using step size h \n",
    "    # and initial value y0 at x0.\n",
    "    def RK4(func,x0,y0,h):\n",
    "        K0 = h*func(x0,y0)\n",
    "        K1 = h*func(x0 + 0.5*h, y0 + 0.5*K0)\n",
    "        K2 = h*func(x0 + 0.5*h, y0 + 0.5*K1)\n",
    "        K3 = h*func(x0 + h, y0 + K2)\n",
    "        return (K0 + 2.*K1 + 2.*K2 + K3)/6.\n",
    "    X = []\n",
    "    Y = []\n",
    "    X.append(x0)\n",
    "    Y.append(y0)\n",
    "    while x0 < x:\n",
    "         # Count number of iterations using step size or\n",
    "        h = min(h,x - x0)# step height h\n",
    "        y0 = y0 + RK4(func,x0,y0,h)#update next value of y\n",
    "        x0 = x0 + h#update next value of x\n",
    "        X.append(x0)\n",
    "        Y.append(y0)\n",
    "    return np.array(X),np.array(Y)"
   ]
  },
  {
   "cell_type": "code",
   "execution_count": 5,
   "metadata": {},
   "outputs": [],
   "source": [
    "def shooting(func,u,x0,x,xf,step,k,h=0.01):\n",
    "    def res(u):# Boundary condition residual\n",
    "        X,Y = Integrate(func,x0,IC(u,k),x,h)\n",
    "        y = Y[len(Y) - 1]#last value of Y\n",
    "        r = np.zeros(len(u))\n",
    "        r[0] = y[0]#y0(inf)=0\n",
    "        r[1] = y[2]/x + y[3]#y_3(inf)/r + y_4(inf)=0\n",
    "        return r\n",
    "    x_list = []\n",
    "    root_list = []\n",
    "    while x<=xf:\n",
    "        x_list.append(x)\n",
    "        root = optimize.root(res,u)\n",
    "        u = root.x\n",
    "        root_temp = optimize.root(res,root.x)\n",
    "        root_list.append(root_temp.x)\n",
    "        X,Y = Integrate(func,x0,IC(root_temp.x,k),x,h)\n",
    "        x = x+step\n",
    "    return X,Y,root_temp,np.array(x_list),np.array(root_list)"
   ]
  },
  {
   "cell_type": "code",
   "execution_count": 6,
   "metadata": {},
   "outputs": [],
   "source": [
    "def IC(u,k):#Initial conditions array, the first correspond to the initial condition in phi\n",
    "    return np.array([k,0.0,u[0],0.0,u[1]])"
   ]
  },
  {
   "cell_type": "code",
   "execution_count": 7,
   "metadata": {},
   "outputs": [],
   "source": [
    "def f0(x,y):\n",
    "    l = 0.\n",
    "    F = np.zeros(5)\n",
    "    if x==0:\n",
    "        F[0] = y[1]\n",
    "        F[1] = 2.*y[0]*(y[2]-y[4])\n",
    "        F[2] = y[3]\n",
    "        F[3] = 0.\n",
    "        F[4] = 0.\n",
    "    else:\n",
    "        F[0] = y[1]\n",
    "        F[1] = -2.*(l+1.)*y[1]/x +2.*y[0]*(y[2]-y[4])\n",
    "        F[2] = y[3]\n",
    "        F[3] = (2.*l+1.)*x**(2.*l)*y[0]**2. - 2.*y[3]/x\n",
    "        F[4] = 0.\n",
    "    return F\n",
    "def f1(x,y):\n",
    "    l = 1.\n",
    "    F = np.zeros(5)\n",
    "    if x==0:\n",
    "        F[0] = y[1]\n",
    "        F[1] = 2.*y[0]*(y[2]-y[4])\n",
    "        F[2] = y[3]\n",
    "        F[3] = 0.\n",
    "        F[4] = 0.\n",
    "    else:\n",
    "        F[0] = y[1]\n",
    "        F[1] = -2.*(l+1.)*y[1]/x +2.*y[0]*(y[2]-y[4])\n",
    "        F[2] = y[3]\n",
    "        F[3] = (2.*l+1.)*x**(2.*l)*y[0]**2. - 2.*y[3]/x\n",
    "        F[4] = 0.\n",
    "    return F"
   ]
  },
  {
   "cell_type": "code",
   "execution_count": 8,
   "metadata": {},
   "outputs": [],
   "source": [
    "def Mass_func(r,phi,l):\n",
    "    Int = np.zeros(len(r))\n",
    "    dr = np.diff(r)[0]\n",
    "    phi_array = np.array(phi[:,0])\n",
    "    for i in range(0,len(r)-1):\n",
    "        Int[i+1] = dr*(phi_array[i+1]**2.*r[i+1]**(2.*l+2.)) + Int[i]\n",
    "    return Int"
   ]
  },
  {
   "cell_type": "code",
   "execution_count": 9,
   "metadata": {},
   "outputs": [],
   "source": [
    "def Vc2_cir(r,eps,M):\n",
    "    units =8.95e10*eps**2.\n",
    "    return (units*M)/r\n",
    "####\n",
    "##Units for r in kpc\n",
    "###\n",
    "def r_units(r,eps,m_a):\n",
    "    return (6.39e-27*r)/(eps*m_a)"
   ]
  },
  {
   "cell_type": "code",
   "execution_count": 10,
   "metadata": {},
   "outputs": [],
   "source": [
    "#The function integrate f0 with the shooting method,\n",
    "#integrates to find the M(r) and returns the r[kpc] and Vc[km/s] \n",
    "#if the last element of r[kpc] array is minor than the last element of the r data array\n",
    "#takes the last element of the M(r) array and compute the Vc^2 for the rest of the r elements\n",
    "def Vc_xy_l0(r,m_a,eps,l=0.):\n",
    "    X0,Y0,root0_f,arr_x0,arr_list0=shooting(f0,u_0,x0_0v1,x0_0,xf_0v1,step_0,k=1.)\n",
    "    M_r0 = Mass_func(X0,Y0,l=0.)#Integrates rho(r) to obtain M(r)\n",
    "    Vc2_r0 = Vc2_cir(X0,eps,M_r0)#Vc^2[km/s]^2 theoretical\n",
    "    X0_units = r_units(X0,eps,m_a)#r[kpc] theoretical\n",
    "    M_r0_units = M_r0*eps*1.34e-10/m_a#M(r) with Solar Mass units\n",
    "    if X0_units[-1]<r[-1]:\n",
    "        #array from last element of the r[kpc] theoretical to the last element of the data array,\n",
    "        # with 80 elements. It can be replaced by np.arange(X0_units[-1],vecRp_data[-1],0.1) \n",
    "        #but you have to be careful in the next function with interpolate\n",
    "        r_array = np.linspace(X0_units[-1],r[-1],80)\n",
    "        Vc2_rmayor = G_kpc*M_r0_units[-1]/r_array#Computes Vc^2 with with the last result from M(r)\n",
    "        Vc2_total = np.append(Vc2_r0,Vc2_rmayor)#creates an array of Vc^2 with Vc2_r0 and Vc2_rmayor\n",
    "        r_total = np.append(X0_units,r_array)\n",
    "        return r_total,np.sqrt(Vc2_total)\n",
    "    else:\n",
    "        return X0_units,np.sqrt(Vc2_r0)"
   ]
  },
  {
   "cell_type": "code",
   "execution_count": 48,
   "metadata": {},
   "outputs": [],
   "source": [
    "def Vc_xy(r,m_a,eps,func,s_begin,l):\n",
    "    X0,Y0,root0_f,arr_x0,arr_list0=shooting(func,s_begin,x0_0v1,x0_0,xf_0v1,step_0,k=1.)\n",
    "    M_r0 = Mass_func(X0,Y0,l)#Integrates rho(r) to obtain M(r)\n",
    "    Vc2_r0 = Vc2_cir(X0,eps,M_r0)#Vc^2[km/s]^2 theoretical\n",
    "    X0_units = r_units(X0,eps,m_a)#r[kpc] theoretical\n",
    "    M_r0_units = M_r0*eps*1.34e-10/m_a#M(r) with Solar Mass units\n",
    "    if X0_units[-1]<r[-1]:\n",
    "        #array from last element of the r[kpc] theoretical to the last element of the data array,\n",
    "        # with 80 elements. It can be replaced by np.arange(X0_units[-1],vecRp_data[-1],0.1) \n",
    "        #but you have to be careful in the next function with interpolate\n",
    "        r_array = np.linspace(X0_units[-1],r[-1],80)\n",
    "        Vc2_rmayor = G_kpc*M_r0_units[-1]/r_array#Computes Vc^2 with with the last result from M(r)\n",
    "        Vc2_total = np.append(Vc2_r0,Vc2_rmayor)#creates an array of Vc^2 with Vc2_r0 and Vc2_rmayor\n",
    "        r_total = np.append(X0_units,r_array)\n",
    "        return r_total,np.sqrt(Vc2_total)\n",
    "    else:\n",
    "        return X0_units,np.sqrt(Vc2_r0)"
   ]
  },
  {
   "cell_type": "code",
   "execution_count": 50,
   "metadata": {},
   "outputs": [],
   "source": [
    "def Vc_xy_l1(r,m_a,eps,phi0,l=1.):\n",
    "    X0,Y0,root0_f,arr_x0,arr_list0=shooting(f1,u_1,x0_0v1,x0_0,xf_0v1,step_0,k=phi0)\n",
    "    M_r0 = Mass_func(X0,Y0,l=1.)#Integrates rho(r) to obtain M(r)\n",
    "    Vc2_r0 = Vc2_cir(X0,eps,M_r0)#Vc^2[km/s]^2 theoretical\n",
    "    X0_units = r_units(X0,eps,m_a)#r[kpc] theoretical\n",
    "    M_r0_units = M_r0*eps*1.34e-10/m_a#M(r) with Solar Mass units\n",
    "    if X0_units[-1]<r[-1]:\n",
    "        r_array = np.linspace(X0_units[-1],r[-1],80)\n",
    "        Vc2_rmayor = G_kpc*M_r0_units[-1]/r_array#Computes Vc^2 with with the last result from M(r)\n",
    "        Vc2_total = np.append(Vc2_r0,Vc2_rmayor)#creates an array of Vc^2 with Vc2_r0 and Vc2_rmayor\n",
    "        r_total = np.append(X0_units,r_array)\n",
    "        return r_total,np.sqrt(Vc2_total)\n",
    "    else:\n",
    "        return X0_units,np.sqrt(Vc2_r0)"
   ]
  },
  {
   "cell_type": "code",
   "execution_count": 12,
   "metadata": {},
   "outputs": [],
   "source": [
    "ESO3020120 = np.loadtxt(path+'ESO3020120.dat')"
   ]
  },
  {
   "cell_type": "code",
   "execution_count": 13,
   "metadata": {},
   "outputs": [],
   "source": [
    "vecRp_ESO3020120 = np.array([row[1] for row in ESO3020120])# galactocentric distance [kpc]\n",
    "vecvRp_ESO3020120 = np.array([row[5] for row in ESO3020120])# rotation velocity [km/s]\n",
    "vecerrvRp_ESO3020120 = np.array([row[6] for row in ESO3020120])# error in rotation velocity [km/s]"
   ]
  },
  {
   "cell_type": "code",
   "execution_count": 14,
   "metadata": {},
   "outputs": [
    {
     "data": {
      "text/plain": [
       "Text(0.5, 0, 'r[kpc]')"
      ]
     },
     "execution_count": 14,
     "metadata": {},
     "output_type": "execute_result"
    },
    {
     "data": {
      "image/png": "[encoded data removed]",
      "text/plain": [
       "<Figure size 432x288 with 1 Axes>"
      ]
     },
     "metadata": {
      "needs_background": "light"
     },
     "output_type": "display_data"
    }
   ],
   "source": [
    "plt.errorbar(vecRp_ESO3020120,vecvRp_ESO3020120,yerr=vecerrvRp_ESO3020120,fmt='.')\n",
    "plt.ylabel(r'$v_{c}(r)$[km/s]')\n",
    "plt.xlabel(\"r[kpc]\")"
   ]
  },
  {
   "cell_type": "code",
   "execution_count": 36,
   "metadata": {},
   "outputs": [
    {
     "name": "stdout",
     "output_type": "stream",
     "text": [
      "0.0\n"
     ]
    }
   ],
   "source": [
    "Vc_xy_fuc = Vc_xy(vecRp_ESO3020120,m_a_,eps_,f0,u_0,l=0.)\n",
    "Vc_xy_fuc_l0 = Vc_xy_l0(vecerrvRp_ESO3020120,m_a_,eps_)"
   ]
  },
  {
   "cell_type": "code",
   "execution_count": 29,
   "metadata": {},
   "outputs": [
    {
     "data": {
      "text/plain": [
       "<matplotlib.legend.Legend at 0x7f8e48b4d550>"
      ]
     },
     "execution_count": 29,
     "metadata": {},
     "output_type": "execute_result"
    },
    {
     "data": {
      "image/png": "[encoded data removed]",
      "text/plain": [
       "<Figure size 432x288 with 1 Axes>"
      ]
     },
     "metadata": {
      "needs_background": "light"
     },
     "output_type": "display_data"
    }
   ],
   "source": [
    "plt.plot(Vc_xy_fuc[0],Vc_xy_fuc[1],label='inputs:func,l,roots')\n",
    "plt.plot(Vc_xy_fuc_l0[0],Vc_xy_fuc_l0[1],label='inputs: r,m_a,eps')\n",
    "plt.errorbar(vecRp_ESO3020120,vecvRp_ESO3020120,yerr=vecerrvRp_ESO3020120,fmt='.',label='data')\n",
    "plt.legend(loc='upper right')"
   ]
  },
  {
   "cell_type": "code",
   "execution_count": 31,
   "metadata": {},
   "outputs": [
    {
     "name": "stdout",
     "output_type": "stream",
     "text": [
      "(array([2.55600000e-03, 5.11200000e-03, 7.66800000e-03, ...,\n",
      "       1.07374937e+01, 1.08437468e+01, 1.09500000e+01]), array([ 0.        ,  1.05766145,  1.55672738, ..., 16.63710482,\n",
      "       16.55539429, 16.47487597]))\n",
      "[ 0.          1.05766145  1.55672738 ... 15.16076174 15.08238728\n",
      " 15.00521587]\n"
     ]
    },
    {
     "data": {
      "text/plain": [
       "(None, None, 10.95)"
      ]
     },
     "execution_count": 31,
     "metadata": {},
     "output_type": "execute_result"
    }
   ],
   "source": [
    "print(Vc_xy_fuc),print(Vc_xy_fuc_l0[1]),vecRp_ESO3020120[-1]"
   ]
  },
  {
   "cell_type": "code",
   "execution_count": 52,
   "metadata": {},
   "outputs": [
    {
     "data": {
      "text/plain": [
       "((2, 1081), (2, 1081))"
      ]
     },
     "execution_count": 52,
     "metadata": {},
     "output_type": "execute_result"
    }
   ],
   "source": [
    "np.shape(Vc_xy_fuc),np.shape(Vc_xy_fuc_l0)"
   ]
  },
  {
   "cell_type": "code",
   "execution_count": 39,
   "metadata": {},
   "outputs": [
    {
     "name": "stdout",
     "output_type": "stream",
     "text": [
      "1.0\n"
     ]
    }
   ],
   "source": [
    "Vc_fuc_l1 = Vc_xy(vecRp_ESO3020120,m_a_,eps_,f1,u_1,l=1.)\n",
    "Vc_xy_fuc_l1 = Vc_xy_l1(vecerrvRp_ESO3020120,m_a_,eps_)"
   ]
  },
  {
   "cell_type": "code",
   "execution_count": 40,
   "metadata": {},
   "outputs": [
    {
     "data": {
      "text/plain": [
       "<matplotlib.legend.Legend at 0x7f8e4959f5d0>"
      ]
     },
     "execution_count": 40,
     "metadata": {},
     "output_type": "execute_result"
    },
    {
     "data": {
      "image/png": "[encoded data removed]",
      "text/plain": [
       "<Figure size 432x288 with 1 Axes>"
      ]
     },
     "metadata": {
      "needs_background": "light"
     },
     "output_type": "display_data"
    }
   ],
   "source": [
    "plt.plot(Vc_fuc_l1[0],Vc_fuc_l1[1],label='inputs:func,l,roots')\n",
    "plt.plot(Vc_xy_fuc_l1[0],Vc_xy_fuc_l1[1],label='inputs: r,m_a,eps')\n",
    "plt.errorbar(vecRp_ESO3020120,vecvRp_ESO3020120,yerr=vecerrvRp_ESO3020120,fmt='.',label='data')\n",
    "plt.legend(loc='upper right')"
   ]
  },
  {
   "cell_type": "code",
   "execution_count": 41,
   "metadata": {},
   "outputs": [],
   "source": [
    "def Vc_xi2(r,m_a,eps,func,u_begin,l):\n",
    "    Vc = Vc_xy(r,m_a,eps,func,u_begin,l)\n",
    "    #If you want to use np.arange in the previous function, It is recommended to use extrapolate\n",
    "    f = interpolate.interp1d(Vc[0],Vc[1],fill_value='extrapolate')\n",
    "    Vc_new = f(r)\n",
    "    return Vc_new"
   ]
  },
  {
   "cell_type": "markdown",
   "metadata": {},
   "source": [
    "# $\\chi^{2}$"
   ]
  },
  {
   "cell_type": "code",
   "execution_count": 42,
   "metadata": {},
   "outputs": [],
   "source": [
    "def Vc_l0_m_a_eps(r,params):\n",
    "    m_a,eps = params\n",
    "    Vc2 = Vc_xi2(r,m_a,eps,f0,u_0,l=0.) + Vc_xi2(r,m_a,eps,f1,u_1,l=1.)\n",
    "    return np.sqrt(Vc2)"
   ]
  },
  {
   "cell_type": "code",
   "execution_count": 43,
   "metadata": {},
   "outputs": [],
   "source": [
    "def Xi2_m_a_eps_ESO3020120(params):\n",
    "    m_a,eps = params\n",
    "    par = np.exp(m_a),np.exp(eps)\n",
    "    model = Vc_l0_m_a_eps(vecRp_ESO3020120,par)\n",
    "    xi  = np.sum((vecvRp_ESO3020120-model)**2./(vecerrvRp_ESO3020120)**2.)\n",
    "    return xi"
   ]
  },
  {
   "cell_type": "code",
   "execution_count": 44,
   "metadata": {
    "collapsed": true,
    "jupyter": {
     "outputs_hidden": true
    }
   },
   "outputs": [
    {
     "name": "stdout",
     "output_type": "stream",
     "text": [
      "0.0\n",
      "1.0\n",
      "0.0\n",
      "1.0\n",
      "0.0\n",
      "1.0\n",
      "0.0\n",
      "1.0\n",
      "0.0\n",
      "1.0\n",
      "0.0\n",
      "1.0\n",
      "0.0\n",
      "1.0\n",
      "0.0\n",
      "1.0\n",
      "0.0\n",
      "1.0\n",
      "0.0\n",
      "1.0\n",
      "0.0\n",
      "1.0\n",
      "0.0\n",
      "1.0\n",
      "0.0\n",
      "1.0\n",
      "0.0\n",
      "1.0\n",
      "0.0\n",
      "1.0\n",
      "0.0\n",
      "1.0\n",
      "0.0\n",
      "1.0\n",
      "0.0\n",
      "1.0\n",
      "0.0\n",
      "1.0\n",
      "0.0\n",
      "1.0\n",
      "0.0\n",
      "1.0\n",
      "0.0\n",
      "1.0\n",
      "0.0\n",
      "1.0\n",
      "0.0\n",
      "1.0\n",
      "0.0\n",
      "1.0\n",
      "0.0\n",
      "1.0\n",
      "0.0\n",
      "1.0\n",
      "0.0\n",
      "1.0\n",
      "0.0\n",
      "1.0\n",
      "0.0\n",
      "1.0\n",
      "0.0\n",
      "1.0\n",
      "0.0\n",
      "1.0\n",
      "0.0\n",
      "1.0\n",
      "0.0\n",
      "1.0\n",
      "0.0\n",
      "1.0\n",
      "0.0\n",
      "1.0\n",
      "0.0\n",
      "1.0\n",
      "0.0\n",
      "1.0\n",
      "0.0\n",
      "1.0\n",
      "0.0\n",
      "1.0\n",
      "0.0\n",
      "1.0\n",
      "0.0\n",
      "1.0\n",
      "0.0\n",
      "1.0\n",
      "0.0\n",
      "1.0\n",
      "0.0\n",
      "1.0\n",
      "0.0\n",
      "1.0\n",
      "0.0\n",
      "1.0\n",
      "0.0\n",
      "1.0\n",
      "0.0\n",
      "1.0\n",
      "0.0\n",
      "1.0\n",
      "0.0\n",
      "1.0\n",
      "0.0\n",
      "1.0\n",
      "0.0\n",
      "1.0\n",
      "0.0\n",
      "1.0\n",
      "0.0\n",
      "1.0\n",
      "0.0\n",
      "1.0\n",
      "0.0\n",
      "1.0\n",
      "0.0\n",
      "1.0\n",
      "0.0\n",
      "1.0\n",
      "0.0\n",
      "1.0\n",
      "0.0\n",
      "1.0\n",
      "0.0\n",
      "1.0\n",
      "0.0\n",
      "1.0\n",
      "0.0\n",
      "1.0\n",
      "0.0\n",
      "1.0\n",
      "0.0\n",
      "1.0\n",
      "0.0\n",
      "1.0\n",
      "0.0\n",
      "1.0\n",
      "0.0\n",
      "1.0\n",
      "0.0\n",
      "1.0\n",
      "0.0\n",
      "1.0\n",
      "0.0\n",
      "1.0\n",
      "0.0\n",
      "1.0\n",
      "0.0\n",
      "1.0\n",
      "0.0\n",
      "1.0\n",
      "      fun: 52.24614515128648\n",
      " hess_inv: <2x2 LbfgsInvHessProduct with dtype=float64>\n",
      "      jac: array([3.98131621e+01, 9.02389280e-04])\n",
      "  message: b'CONVERGENCE: REL_REDUCTION_OF_F_<=_FACTR*EPSMCH'\n",
      "     nfev: 75\n",
      "      nit: 14\n",
      "     njev: 25\n",
      "   status: 0\n",
      "  success: True\n",
      "        x: array([-55.26204223,  -5.00993707])\n"
     ]
    }
   ],
   "source": [
    "x0_m_a_eps_ESO3020120 = np.array([np.log(1.0e-23),np.log(1.0e-4)])\n",
    "LS_m_a_eps_ESO3020120 = optimize.minimize(Xi2_m_a_eps_ESO3020120,x0_m_a_eps_ESO3020120,method='L-BFGS-B',bounds=((np.log(1.0e-24),np.log(1.0e-20)),(np.log(1.0e-5),np.log(1.)),))\n",
    "print(LS_m_a_eps_ESO3020120)"
   ]
  },
  {
   "cell_type": "code",
   "execution_count": 45,
   "metadata": {},
   "outputs": [
    {
     "name": "stdout",
     "output_type": "stream",
     "text": [
      "[1.0000000e-24 6.6713231e-03]\n"
     ]
    }
   ],
   "source": [
    "print(np.exp(LS_m_a_eps_ESO3020120.x))"
   ]
  },
  {
   "cell_type": "code",
   "execution_count": 49,
   "metadata": {},
   "outputs": [
    {
     "name": "stderr",
     "output_type": "stream",
     "text": [
      "/Users/atalianb/miniconda3/envs/py37/lib/python3.7/site-packages/ipykernel_launcher.py:2: DeprecationWarning: np.asscalar(a) is deprecated since NumPy v1.16, use a.item() instead\n",
      "  \n",
      "/Users/atalianb/miniconda3/envs/py37/lib/python3.7/site-packages/ipykernel_launcher.py:3: DeprecationWarning: np.asscalar(a) is deprecated since NumPy v1.16, use a.item() instead\n",
      "  This is separate from the ipykernel package so we can avoid doing imports until\n"
     ]
    },
    {
     "data": {
      "text/plain": [
       "<matplotlib.legend.Legend at 0x7f8e4884a150>"
      ]
     },
     "execution_count": 49,
     "metadata": {},
     "output_type": "execute_result"
    },
    {
     "data": {
      "image/png": "[encoded data removed]",
      "text/plain": [
       "<Figure size 432x288 with 1 Axes>"
      ]
     },
     "metadata": {
      "needs_background": "light"
     },
     "output_type": "display_data"
    }
   ],
   "source": [
    "plt.errorbar(vecRp_ESO3020120,vecvRp_ESO3020120,yerr=vecerrvRp_ESO3020120,fmt='.',label='data')\n",
    "plt.plot(vecRp_ESO3020120,np.sqrt(Vc_xi2(vecRp_ESO3020120,np.asscalar(np.exp(LS_m_a_eps_ESO3020120.x[0])),np.asscalar(np.exp(LS_m_a_eps_ESO3020120.x[1])),f0,u_0,l=0.)),label='l=0')\n",
    "plt.plot(vecRp_ESO3020120,np.sqrt(Vc_xi2(vecRp_ESO3020120,np.asscalar(np.exp(LS_m_a_eps_ESO3020120.x[0])),np.asscalar(np.exp(LS_m_a_eps_ESO3020120.x[1])),f1,u_1,l=1.)),label='l=1')\n",
    "plt.plot(vecRp_ESO3020120,Vc_l0_m_a_eps(vecRp_ESO3020120,np.exp(LS_m_a_eps_ESO3020120.x)),label='total')\n",
    "plt.ylabel(r'$v_{c}(r)$[km/s]')\n",
    "plt.xlabel(\"r[kpc]\")\n",
    "plt.title(r'$m_{a}$='+str(np.exp(LS_m_a_eps_ESO3020120.x[0]))+r'$\\epsilon$='+str(np.exp(LS_m_a_eps_ESO3020120.x[1])))\n",
    "plt.legend(loc='lower right')"
   ]
  },
  {
   "cell_type": "markdown",
   "metadata": {},
   "source": [
    "# with $\\phi_{0,\\ell = 1}$ as a free parameter"
   ]
  },
  {
   "cell_type": "code",
   "execution_count": 76,
   "metadata": {},
   "outputs": [],
   "source": [
    "def rescaling(phi_0,l):\n",
    "    lmbd = (1./phi_0)**(1/(l+2.))\n",
    "    return lmbd"
   ]
  },
  {
   "cell_type": "code",
   "execution_count": 82,
   "metadata": {},
   "outputs": [],
   "source": [
    "def Vc_xy_phi(r,m_a,eps,phi0,func,s_begin,l):\n",
    "    X0,Y0,root0_f,arr_x0,arr_list0=shooting(func,s_begin,x0_0v1,x0_0,xf_0v1,step_0,k=phi0)\n",
    "    Xl = X0*rescaling(phi0,l)\n",
    "    M_r0 = Mass_func(Xl,Y0*phi0,l)#Integrates rho(r) to obtain M(r)\n",
    "    Vc2_r0 = Vc2_cir(Xl,eps,M_r0)#Vc^2[km/s]^2 theoretical\n",
    "    X0_units = r_units(Xl,eps,m_a)#r[kpc] theoretical\n",
    "    M_r0_units = M_r0*eps*1.34e-10/m_a#M(r) with Solar Mass units\n",
    "    if X0_units[-1]<r[-1]:\n",
    "        #array from last element of the r[kpc] theoretical to the last element of the data array,\n",
    "        # with 80 elements. It can be replaced by np.arange(X0_units[-1],vecRp_data[-1],0.1) \n",
    "        #but you have to be careful in the next function with interpolate\n",
    "        r_array = np.linspace(X0_units[-1],r[-1],80)\n",
    "        Vc2_rmayor = G_kpc*M_r0_units[-1]/r_array#Computes Vc^2 with with the last result from M(r)\n",
    "        Vc2_total = np.append(Vc2_r0,Vc2_rmayor)#creates an array of Vc^2 with Vc2_r0 and Vc2_rmayor\n",
    "        r_total = np.append(X0_units,r_array)\n",
    "        return r_total,np.sqrt(Vc2_total)\n",
    "    else:\n",
    "        return X0_units,np.sqrt(Vc2_r0)"
   ]
  },
  {
   "cell_type": "code",
   "execution_count": 83,
   "metadata": {},
   "outputs": [],
   "source": [
    "def Vc_xi2_phi(r,m_a,eps,phi0,func,u_begin,l):\n",
    "    Vc = Vc_xy_phi(r,m_a,eps,phi0,func,u_begin,l)\n",
    "    #If you want to use np.arange in the previous function, It is recommended to use extrapolate\n",
    "    f = interpolate.interp1d(Vc[0],Vc[1],fill_value='extrapolate')\n",
    "    Vc_new = f(r)\n",
    "    return Vc_new"
   ]
  },
  {
   "cell_type": "code",
   "execution_count": 84,
   "metadata": {},
   "outputs": [],
   "source": [
    "def Vc_m_a_eps_phi0(r,params):\n",
    "    m_a,eps,phi0 = params\n",
    "    Vc2 = Vc_xi2_phi(r,m_a,eps,1.,f0,u_0,l=0.) + Vc_xi2_phi(r,m_a,eps,phi0,f1,u_1,l=1.)\n",
    "    return np.sqrt(Vc2)"
   ]
  },
  {
   "cell_type": "code",
   "execution_count": 85,
   "metadata": {},
   "outputs": [],
   "source": [
    "def Xi2_m_a_eps_phi0_ESO3020120(params):\n",
    "    m_a,eps,phi0 = params\n",
    "    par = np.exp(m_a),np.exp(eps),np.exp(phi0)\n",
    "    model = Vc_m_a_eps_phi0(vecRp_ESO3020120,par)\n",
    "    xi  = np.sum((vecvRp_ESO3020120-model)**2./(vecerrvRp_ESO3020120)**2.)\n",
    "    return xi"
   ]
  },
  {
   "cell_type": "code",
   "execution_count": 86,
   "metadata": {},
   "outputs": [
    {
     "name": "stdout",
     "output_type": "stream",
     "text": [
      "      fun: 52.246145149825566\n",
      " hess_inv: <3x3 LbfgsInvHessProduct with dtype=float64>\n",
      "      jac: array([ 3.98130015e+01,  4.70379294e-04, -2.51120014e-01])\n",
      "  message: b'CONVERGENCE: REL_REDUCTION_OF_F_<=_FACTR*EPSMCH'\n",
      "     nfev: 168\n",
      "      nit: 27\n",
      "     njev: 42\n",
      "   status: 0\n",
      "  success: True\n",
      "        x: array([-55.26204223,  -5.0099392 ,   0.        ])\n"
     ]
    }
   ],
   "source": [
    "x0_m_a_eps_phi0_ESO3020120 = np.array([np.log(1.0e-23),np.log(1.0e-4),np.log(1.0e-2)])\n",
    "LS_m_a_eps_phi0_ESO3020120 = optimize.minimize(Xi2_m_a_eps_phi0_ESO3020120,x0_m_a_eps_phi0_ESO3020120,method='L-BFGS-B',bounds=((np.log(1.0e-24),np.log(1.0e-20)),(np.log(1.0e-5),np.log(1.)),(np.log(1.0e-3),np.log(1.)),))\n",
    "print(LS_m_a_eps_phi0_ESO3020120)"
   ]
  },
  {
   "cell_type": "code",
   "execution_count": 87,
   "metadata": {},
   "outputs": [
    {
     "name": "stdout",
     "output_type": "stream",
     "text": [
      "[1.00000000e-24 6.67130888e-03 1.00000000e+00]\n"
     ]
    }
   ],
   "source": [
    "print(np.exp(LS_m_a_eps_phi0_ESO3020120.x))"
   ]
  },
  {
   "cell_type": "code",
   "execution_count": 93,
   "metadata": {},
   "outputs": [
    {
     "data": {
      "text/plain": [
       "[<matplotlib.lines.Line2D at 0x7f8e49d63290>]"
      ]
     },
     "execution_count": 93,
     "metadata": {},
     "output_type": "execute_result"
    },
    {
     "data": {
      "image/png": "[encoded data removed]",
      "text/plain": [
       "<Figure size 432x288 with 1 Axes>"
      ]
     },
     "metadata": {
      "needs_background": "light"
     },
     "output_type": "display_data"
    }
   ],
   "source": [
    "plt.errorbar(vecRp_ESO3020120,vecvRp_ESO3020120,yerr=vecerrvRp_ESO3020120,fmt='.',label='data')\n",
    "plt.plot(vecRp_ESO3020120,np.sqrt(Vc_xi2(vecRp_ESO3020120,6.2e-24,3.8e-4,f0,u_0,l=0.)),label='l=0')\n",
    "plt.plot(vecRp_ESO3020120,np.sqrt(Vc_xi2(vecRp_ESO3020120,8.8e-24,3.7e-4,f1,u_1,l=1.)),label='l=1')\n",
    "plt.plot(vecRp_ESO3020120,Vc_m_a_eps_phi0(vecRp_ESO3020120,np.exp(LS_m_a_eps_phi0_ESO3020120.x)),label='total')"
   ]
  },
  {
   "cell_type": "code",
   "execution_count": 88,
   "metadata": {},
   "outputs": [
    {
     "name": "stderr",
     "output_type": "stream",
     "text": [
      "/Users/atalianb/miniconda3/envs/py37/lib/python3.7/site-packages/ipykernel_launcher.py:2: DeprecationWarning: np.asscalar(a) is deprecated since NumPy v1.16, use a.item() instead\n",
      "  \n",
      "/Users/atalianb/miniconda3/envs/py37/lib/python3.7/site-packages/ipykernel_launcher.py:3: DeprecationWarning: np.asscalar(a) is deprecated since NumPy v1.16, use a.item() instead\n",
      "  This is separate from the ipykernel package so we can avoid doing imports until\n"
     ]
    },
    {
     "data": {
      "text/plain": [
       "<matplotlib.legend.Legend at 0x7f8e49cf8b50>"
      ]
     },
     "execution_count": 88,
     "metadata": {},
     "output_type": "execute_result"
    },
    {
     "data": {
      "image/png": "[encoded data removed]",
      "text/plain": [
       "<Figure size 432x288 with 1 Axes>"
      ]
     },
     "metadata": {
      "needs_background": "light"
     },
     "output_type": "display_data"
    }
   ],
   "source": [
    "plt.errorbar(vecRp_ESO3020120,vecvRp_ESO3020120,yerr=vecerrvRp_ESO3020120,fmt='.',label='data')\n",
    "plt.plot(vecRp_ESO3020120,np.sqrt(Vc_xi2(vecRp_ESO3020120,np.asscalar(np.exp(LS_m_a_eps_phi0_ESO3020120.x[0])),np.asscalar(np.exp(LS_m_a_eps_phi0_ESO3020120.x[1])),f0,u_0,l=0.)),label='l=0')\n",
    "plt.plot(vecRp_ESO3020120,np.sqrt(Vc_xi2(vecRp_ESO3020120,np.asscalar(np.exp(LS_m_a_eps_phi0_ESO3020120.x[0])),np.asscalar(np.exp(LS_m_a_eps_phi0_ESO3020120.x[1])),f1,u_1,l=1.)),label='l=1')\n",
    "plt.plot(vecRp_ESO3020120,Vc_m_a_eps_phi0(vecRp_ESO3020120,np.exp(LS_m_a_eps_phi0_ESO3020120.x)),label='total')\n",
    "plt.ylabel(r'$v_{c}(r)$[km/s]')\n",
    "plt.xlabel(\"r[kpc]\")\n",
    "plt.title(r'$m_{a}$='+str(np.exp(LS_m_a_eps_phi0_ESO3020120.x[0]))+r'$\\epsilon$='+str(np.exp(LS_m_a_eps_phi0_ESO3020120.x[1])))\n",
    "plt.legend(loc='lower right')"
   ]
  },
  {
   "cell_type": "markdown",
   "metadata": {},
   "source": [
    "## Método TNC"
   ]
  },
  {
   "cell_type": "code",
   "execution_count": 89,
   "metadata": {},
   "outputs": [
    {
     "name": "stdout",
     "output_type": "stream",
     "text": [
      "     fun: 52.24614514931129\n",
      "     jac: array([ 3.98128651e+01,  1.08002496e-04, -2.51229437e-01])\n",
      " message: 'Converged (|f_n-f_(n-1)| ~= 0)'\n",
      "    nfev: 360\n",
      "     nit: 17\n",
      "  status: 1\n",
      " success: True\n",
      "       x: array([-55.26204223,  -5.00994099,   0.        ])\n"
     ]
    }
   ],
   "source": [
    "x0_m_a_eps_phi0_ESO3020120 = np.array([np.log(1.0e-23),np.log(1.0e-4),np.log(1.0e-2)])\n",
    "LS_m_a_eps_phi0_ESO3020120 = optimize.minimize(Xi2_m_a_eps_phi0_ESO3020120,x0_m_a_eps_phi0_ESO3020120,method='TNC',bounds=((np.log(1.0e-24),np.log(1.0e-20)),(np.log(1.0e-5),np.log(1.)),(np.log(1.0e-3),np.log(1.)),))\n",
    "print(LS_m_a_eps_phi0_ESO3020120)"
   ]
  },
  {
   "cell_type": "code",
   "execution_count": 90,
   "metadata": {},
   "outputs": [
    {
     "name": "stdout",
     "output_type": "stream",
     "text": [
      "[1.00000000e-24 6.67129696e-03 1.00000000e+00]\n"
     ]
    }
   ],
   "source": [
    "print(np.exp(LS_m_a_eps_phi0_ESO3020120.x))"
   ]
  },
  {
   "cell_type": "code",
   "execution_count": 91,
   "metadata": {},
   "outputs": [
    {
     "name": "stderr",
     "output_type": "stream",
     "text": [
      "/Users/atalianb/miniconda3/envs/py37/lib/python3.7/site-packages/ipykernel_launcher.py:2: DeprecationWarning: np.asscalar(a) is deprecated since NumPy v1.16, use a.item() instead\n",
      "  \n",
      "/Users/atalianb/miniconda3/envs/py37/lib/python3.7/site-packages/ipykernel_launcher.py:3: DeprecationWarning: np.asscalar(a) is deprecated since NumPy v1.16, use a.item() instead\n",
      "  This is separate from the ipykernel package so we can avoid doing imports until\n"
     ]
    },
    {
     "data": {
      "text/plain": [
       "<matplotlib.legend.Legend at 0x7f8e49f86e90>"
      ]
     },
     "execution_count": 91,
     "metadata": {},
     "output_type": "execute_result"
    },
    {
     "data": {
      "image/png": "[encoded data removed]",
      "text/plain": [
       "<Figure size 432x288 with 1 Axes>"
      ]
     },
     "metadata": {
      "needs_background": "light"
     },
     "output_type": "display_data"
    }
   ],
   "source": [
    "plt.errorbar(vecRp_ESO3020120,vecvRp_ESO3020120,yerr=vecerrvRp_ESO3020120,fmt='.',label='data')\n",
    "plt.plot(vecRp_ESO3020120,np.sqrt(Vc_xi2(vecRp_ESO3020120,np.asscalar(np.exp(LS_m_a_eps_phi0_ESO3020120.x[0])),np.asscalar(np.exp(LS_m_a_eps_phi0_ESO3020120.x[1])),f0,u_0,l=0.)),label='l=0')\n",
    "plt.plot(vecRp_ESO3020120,np.sqrt(Vc_xi2(vecRp_ESO3020120,np.asscalar(np.exp(LS_m_a_eps_phi0_ESO3020120.x[0])),np.asscalar(np.exp(LS_m_a_eps_phi0_ESO3020120.x[1])),f1,u_1,l=1.)),label='l=1')\n",
    "plt.plot(vecRp_ESO3020120,Vc_m_a_eps_phi0(vecRp_ESO3020120,np.exp(LS_m_a_eps_phi0_ESO3020120.x)),label='total')\n",
    "plt.ylabel(r'$v_{c}(r)$[km/s]')\n",
    "plt.xlabel(\"r[kpc]\")\n",
    "plt.title(r'$m_{a}$='+str(np.exp(LS_m_a_eps_phi0_ESO3020120.x[0]))+r'$\\epsilon$='+str(np.exp(LS_m_a_eps_phi0_ESO3020120.x[1])))\n",
    "plt.legend(loc='lower right')"
   ]
  },
  {
   "cell_type": "code",
   "execution_count": null,
   "metadata": {},
   "outputs": [],
   "source": []
  }
 ],
 "metadata": {
  "kernelspec": {
   "display_name": "Python 3",
   "language": "python",
   "name": "python3"
  },
  "language_info": {
   "codemirror_mode": {
    "name": "ipython",
    "version": 3
   },
   "file_extension": ".py",
   "mimetype": "text/x-python",
   "name": "python",
   "nbconvert_exporter": "python",
   "pygments_lexer": "ipython3",
   "version": "3.7.7"
  }
 },
 "nbformat": 4,
 "nbformat_minor": 4
}
