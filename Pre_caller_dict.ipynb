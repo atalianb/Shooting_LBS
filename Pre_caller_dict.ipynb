{
 "cells": [
  {
   "cell_type": "code",
   "execution_count": 1,
   "metadata": {},
   "outputs": [],
   "source": [
    "import numpy as np\n",
    "import matplotlib.pyplot as plt"
   ]
  },
  {
   "cell_type": "code",
   "execution_count": 2,
   "metadata": {},
   "outputs": [],
   "source": [
    "path = \"/Users/atalianb/Documents/Doctorado/BosonStars/Shooting_LBS/script_v4/files_LBS/\""
   ]
  },
  {
   "cell_type": "code",
   "execution_count": 3,
   "metadata": {},
   "outputs": [],
   "source": [
    "Vc2_l0 = np.loadtxt(path+\"Vc2_l0_phi1.0.dat\")\n",
    "Vc2_l1 = np.loadtxt(path+\"Vc2_l1_phi1.0.dat\")\n",
    "Vc2_l2 = np.loadtxt(path+\"Vc2_l2_phi1.0.dat\")\n",
    "Vc2_l3 = np.loadtxt(path+\"Vc2_l3_phi1.0.dat\")"
   ]
  },
  {
   "cell_type": "code",
   "execution_count": 4,
   "metadata": {},
   "outputs": [],
   "source": [
    "r_l0 = np.array([row[0] for row in Vc2_l0])# galactocentric distance [kpc]\n",
    "Vc2_l0_1 = np.array([row[1] for row in Vc2_l0])# rotation velocity [km/s]\n",
    "r_l1 = np.array([row[0] for row in Vc2_l1])# galactocentric distance [kpc]\n",
    "Vc2_l1_1 = np.array([row[1] for row in Vc2_l1])# rotation velocity [km/s]\n",
    "r_l2 = np.array([row[0] for row in Vc2_l2])# galactocentric distance [kpc]\n",
    "Vc2_l2_1 = np.array([row[1] for row in Vc2_l2])# rotation velocity [km/s]\n",
    "r_l3 = np.array([row[0] for row in Vc2_l3])# galactocentric distance [kpc]\n",
    "Vc2_l3_1 = np.array([row[1] for row in Vc2_l3])# rotation velocity [km/s]"
   ]
  },
  {
   "cell_type": "code",
   "execution_count": 5,
   "metadata": {},
   "outputs": [
    {
     "data": {
      "text/plain": [
       "Text(0.5, 0, 'r[kpc]')"
      ]
     },
     "execution_count": 5,
     "metadata": {},
     "output_type": "execute_result"
    },
    {
     "data": {
      "image/png": "[encoded data removed]",
      "text/plain": [
       "<Figure size 432x288 with 1 Axes>"
      ]
     },
     "metadata": {
      "needs_background": "light"
     },
     "output_type": "display_data"
    }
   ],
   "source": [
    "plt.plot(r_l0,Vc2_l0_1,label='l=0')\n",
    "plt.plot(r_l1,Vc2_l1_1,label='l=1')\n",
    "plt.plot(r_l2,Vc2_l2_1,label='l=2')\n",
    "plt.plot(r_l3,Vc2_l3_1,label='l=3')\n",
    "plt.legend(loc='upper left', prop={'size':9})\n",
    "plt.ylabel(r'$v_{c}(r)$[km/s]')\n",
    "plt.xlabel(\"r[kpc]\")"
   ]
  },
  {
   "cell_type": "code",
   "execution_count": 6,
   "metadata": {},
   "outputs": [],
   "source": [
    "def rescaling(phi_0,l):\n",
    "    lmbd = (1./phi_0)**(1/(l+2.))\n",
    "    return lmbd"
   ]
  },
  {
   "cell_type": "code",
   "execution_count": 34,
   "metadata": {},
   "outputs": [],
   "source": [
    "def my_range(start, end, step):\n",
    "    while start <= end:\n",
    "        yield start\n",
    "        start += step"
   ]
  },
  {
   "cell_type": "code",
   "execution_count": 61,
   "metadata": {},
   "outputs": [],
   "source": [
    "dict_Vc2_r_rescal = {}"
   ]
  },
  {
   "cell_type": "code",
   "execution_count": 79,
   "metadata": {},
   "outputs": [],
   "source": [
    "rs = [r_l0,r_l1,r_l2,r_l3]\n",
    "Vc2 = [Vc2_l0_1,Vc2_l1_1,Vc2_l2_1,Vc2_l3_1]"
   ]
  },
  {
   "cell_type": "code",
   "execution_count": 82,
   "metadata": {},
   "outputs": [],
   "source": [
    "for j in range(4):\n",
    "    for i in my_range(0.001,0.01,0.005):\n",
    "        #print(i)\n",
    "        rescal_0 = rescaling(i,l=float(j))\n",
    "        X0_rescal = rs[j]*rescal_0\n",
    "        Vc2_0rescal = Vc2[j]/rescal_0**2.\n",
    "        dict_Vc2_r_rescal['l'+str(j)]['phi_0_'+str(i)] = np.array([X0_rescal,Vc2_0rescal])"
   ]
  },
  {
   "cell_type": "code",
   "execution_count": 83,
   "metadata": {},
   "outputs": [
    {
     "data": {
      "text/plain": [
       "array([0.00000000e+00, 1.11864774e-03, 2.42340014e-03, ...,\n",
       "       1.15473088e+00, 1.15357614e+00, 1.15357614e+00])"
      ]
     },
     "execution_count": 83,
     "metadata": {},
     "output_type": "execute_result"
    }
   ],
   "source": [
    "dict_Vc2_r_rescal['l0']['phi_0_0.001'][1]"
   ]
  },
  {
   "cell_type": "code",
   "execution_count": 86,
   "metadata": {},
   "outputs": [
    {
     "data": {
      "text/plain": [
       "(1001, 1001)"
      ]
     },
     "execution_count": 86,
     "metadata": {},
     "output_type": "execute_result"
    }
   ],
   "source": [
    "len(dict_Vc2_r_rescal['l0']['phi_0_0.001'][1]),len(dict_Vc2_r_rescal['l3']['phi_0_0.006'][1])"
   ]
  },
  {
   "cell_type": "code",
   "execution_count": null,
   "metadata": {},
   "outputs": [],
   "source": [
    "for j in range(4):\n",
    "    for i in my_range(0.001,0.01,0.005):\n",
    "        Vc2_res = dict_Vc2_r_rescal['l'+str(j)]['phi_0_'+str(i)][1]"
   ]
  },
  {
   "cell_type": "code",
   "execution_count": 47,
   "metadata": {},
   "outputs": [],
   "source": [
    "myrange = np.arange(0.001,0.01,0.005)"
   ]
  },
  {
   "cell_type": "code",
   "execution_count": 48,
   "metadata": {},
   "outputs": [],
   "source": [
    "for i in range(len(myrange)):    \n",
    "    rescal_0 = rescaling(myrange[i],l=0.)\n",
    "    X0_rescal = r_l0*rescal_0\n",
    "    Vc2_0rescal = Vc2_l0_1/rescal_0**2.\n",
    "    dict_Vc2_r_rescal['l0_'+str(i)] = dict(X0=X0_rescal,Y0=Vc2_0rescal)"
   ]
  },
  {
   "cell_type": "code",
   "execution_count": null,
   "metadata": {},
   "outputs": [],
   "source": [
    "#l=1\n",
    "    rescal_1 = rescaling(i,l=1.)\n",
    "    X1_rescal = r_l1*rescal_1\n",
    "    Vc2_1rescal = Vc2_l1_1/rescal_1**2.\n",
    "    dict_Vc2_r_rescal['l1']['phi_0_'+str(i)] = np.array([X1_rescal,Vc2_1rescal])\n",
    "    #l=2\n",
    "    rescal_2 = rescaling(i,l=2.)\n",
    "    X2_rescal = r_l2*rescal_2\n",
    "    Vc2_2rescal = Vc2_l2_1/rescal_2**2.\n",
    "    dict_Vc2_r_rescal['l2']['phi_0_'+str(i)] = np.array([X2_rescal,Vc2_2rescal])\n",
    "    #l=3\n",
    "    rescal_3 = rescaling(i,l=3.)\n",
    "    X3_rescal = r_l3*rescal_3\n",
    "    Vc2_3rescal = Vc2_l3_1/rescal_3**2.\n",
    "    dict_Vc2_r_rescal['l3']['phi_0_'+str(i)] = np.array([X3_rescal,Vc2_3rescal])"
   ]
  }
 ],
 "metadata": {
  "kernelspec": {
   "display_name": "Python 3",
   "language": "python",
   "name": "python3"
  },
  "language_info": {
   "codemirror_mode": {
    "name": "ipython",
    "version": 3
   },
   "file_extension": ".py",
   "mimetype": "text/x-python",
   "name": "python",
   "nbconvert_exporter": "python",
   "pygments_lexer": "ipython3",
   "version": "3.7.7"
  }
 },
 "nbformat": 4,
 "nbformat_minor": 4
}
